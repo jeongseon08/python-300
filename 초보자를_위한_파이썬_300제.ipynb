{
  "nbformat": 4,
  "nbformat_minor": 0,
  "metadata": {
    "colab": {
      "name": "초보자를 위한 파이썬 300제.ipynb",
      "provenance": [],
      "toc_visible": true,
      "collapsed_sections": [],
      "authorship_tag": "ABX9TyOOEH32bL0Txqzme14bz//5",
      "include_colab_link": true
    },
    "kernelspec": {
      "name": "python3",
      "display_name": "Python 3"
    },
    "language_info": {
      "name": "python"
    }
  },
  "cells": [
    {
      "cell_type": "markdown",
      "metadata": {
        "id": "view-in-github",
        "colab_type": "text"
      },
      "source": [
        "<a href=\"https://colab.research.google.com/github/jeongseon08/python-300/blob/main/%EC%B4%88%EB%B3%B4%EC%9E%90%EB%A5%BC_%EC%9C%84%ED%95%9C_%ED%8C%8C%EC%9D%B4%EC%8D%AC_300%EC%A0%9C.ipynb\" target=\"_parent\"><img src=\"https://colab.research.google.com/assets/colab-badge.svg\" alt=\"Open In Colab\"/></a>"
      ]
    },
    {
      "cell_type": "code",
      "source": [
        ""
      ],
      "metadata": {
        "id": "UFfLrMw-cE0U"
      },
      "execution_count": null,
      "outputs": []
    },
    {
      "cell_type": "markdown",
      "source": [
        "파이썬 기초 문법을 배웠다고 해서 누구나 프로그래밍에 익숙해지는 것은 아니다. 따라서 프로그래밍에 익숙해지기까지 많은 문제를 풀어보고 익숙해지는 것이 필요하다."
      ],
      "metadata": {
        "id": "xppRI6vx9t1B"
      }
    },
    {
      "cell_type": "markdown",
      "source": [
        "# 01. 파이썬 시작하기\n",
        "print 함수\n",
        "\n",
        "**1)** sep(separation): 두 문자열 사이에 들어가는 문자\n",
        "ex) print('S','E','P',sep='!')\n",
        "=S!E!P\n",
        "\n",
        "**2)** end: 그 뒤의 출력값과 이어서 출력(줄바꿈X)\n",
        "ex) print('hello',end=\" \")\n",
        "    print('world!)\n",
        "= hello world!\n",
        "\n",
        "**3)** format: 포매팅을 통해 특정 서식에 따라 문자를 출력 부분적으로 문자열 바꾸어 반복적으로 출력할때 유용\n",
        "\n",
        "print(\"{}월{}일 입니다.\".format(10,31))\n",
        "=10월31일 입니다.\n",
        "**4)** escape: 파이썬 문법을 탈출하여 출력\n",
        "\n",
        "-\\n: 줄바꿈\n",
        "\n",
        "-\\t: 탭\n",
        "\n",
        "-\\b: 백스페이스\n",
        "\n",
        "-\\\\: \\ 출력\n",
        "\n",
        "-\\': ' 출력\n",
        "\n",
        "-\\\": \" 출력"
      ],
      "metadata": {
        "id": "PdIhMQGIJrVT"
      }
    },
    {
      "cell_type": "markdown",
      "source": [
        "01. print 기초\n",
        "\n",
        "  화면에 **Hello World** 문자열을 출력해라."
      ],
      "metadata": {
        "id": "aea7OG2TGly-"
      }
    },
    {
      "cell_type": "code",
      "execution_count": null,
      "metadata": {
        "id": "PB24XuFs9gYG"
      },
      "outputs": [],
      "source": [
        "print(\"Hello World\")"
      ]
    },
    {
      "cell_type": "markdown",
      "source": [
        "2. print 기초\n",
        "\n",
        "  화면에 **Marry's cosmetics**을 출력해라.\n",
        "\n"
      ],
      "metadata": {
        "id": "sHYXc9OJHMwF"
      }
    },
    {
      "cell_type": "code",
      "source": [
        "print(\"Marry's cosmetics\")"
      ],
      "metadata": {
        "colab": {
          "base_uri": "https://localhost:8080/"
        },
        "id": "WzaN4pK6H65Z",
        "outputId": "85527f37-5909-4f2d-ae1e-68978b94d2bf"
      },
      "execution_count": null,
      "outputs": [
        {
          "output_type": "stream",
          "name": "stdout",
          "text": [
            "Marry's cosmetics\n"
          ]
        }
      ]
    },
    {
      "cell_type": "markdown",
      "source": [
        "3. print 기초\n",
        "\n",
        "  화면에 아래 문장을 출력해라.\n",
        "\n",
        "   **신씨가 소리질렀다. \"도둑이야.\"**\n",
        "\n"
      ],
      "metadata": {
        "id": "TRvzbzSmI5jm"
      }
    },
    {
      "cell_type": "code",
      "source": [
        "print('신씨가 소리질렀다. \"도둑이야\"')"
      ],
      "metadata": {
        "colab": {
          "base_uri": "https://localhost:8080/"
        },
        "id": "R6z1Ld6qLBAa",
        "outputId": "53da971b-7728-4564-caf7-02661e18d01c"
      },
      "execution_count": null,
      "outputs": [
        {
          "output_type": "stream",
          "name": "stdout",
          "text": [
            "신씨가 소리질렀다. \"도둑이야\"\n"
          ]
        }
      ]
    },
    {
      "cell_type": "markdown",
      "source": [
        "04. print 기초\n",
        "\n",
        "  화면에 **\"C:\\Windows\"**를 출력해라."
      ],
      "metadata": {
        "id": "Wp0SXD8jPyiU"
      }
    },
    {
      "cell_type": "code",
      "source": [
        "print('\"C:\\Windows\"')"
      ],
      "metadata": {
        "colab": {
          "base_uri": "https://localhost:8080/"
        },
        "id": "WP1JdfSFIbws",
        "outputId": "e0bb0600-2799-436e-9ae1-74b70a74638b"
      },
      "execution_count": null,
      "outputs": [
        {
          "output_type": "stream",
          "name": "stdout",
          "text": [
            "\"C:\\Windows\"\n"
          ]
        }
      ]
    },
    {
      "cell_type": "markdown",
      "source": [
        "05. print탭과 줄바꿈\n",
        "\n",
        "  다음 코드를 실행해보고 \\t와 \\n의 역할을 설명하라.\n",
        "\n",
        "    **print(\"안녕하세요.\\n만나서\\t\\t반갑습니다.\")**"
      ],
      "metadata": {
        "id": "x4PK0acEIxWR"
      }
    },
    {
      "cell_type": "code",
      "source": [
        "print(\"안녕하세요.\\n만나서\\t\\t반갑습니다.\")\n",
        "#\\n은 줄바꿈, \\t: tab간격 띄어쓰기를 의미한다.\n",
        "#*tab간격: 띄어쓰기 4칸"
      ],
      "metadata": {
        "colab": {
          "base_uri": "https://localhost:8080/"
        },
        "id": "qH7iQqREIxff",
        "outputId": "28827d1d-6051-4e05-8399-c1d3c3486ae5"
      },
      "execution_count": null,
      "outputs": [
        {
          "output_type": "stream",
          "name": "stdout",
          "text": [
            "안녕하세요.\n",
            "만나서\t\t반갑습니다.\n"
          ]
        }
      ]
    },
    {
      "cell_type": "markdown",
      "source": [
        "06. print 여러 데이터 출력\n",
        "\n",
        "  print 함수에 두개의 단어를 입력한 예제입니다. 아래 코드의 출력 결과를 예상하시오.\n",
        "\n",
        "  **priint(\"today\", \"sunday\")**"
      ],
      "metadata": {
        "id": "6iSJp-g0IxpV"
      }
    },
    {
      "cell_type": "code",
      "source": [
        "print(\"today\", \"sunday\")\n",
        "# 두단어는 하나의 줄에 공백한칸인 형태로 나타날것이다."
      ],
      "metadata": {
        "colab": {
          "base_uri": "https://localhost:8080/"
        },
        "id": "syqpjWdcIxxV",
        "outputId": "32bc0409-6a58-48ee-bc09-59316396ad99"
      },
      "execution_count": null,
      "outputs": [
        {
          "output_type": "stream",
          "name": "stdout",
          "text": [
            "today sunday\n"
          ]
        }
      ]
    },
    {
      "cell_type": "markdown",
      "source": [
        "07. print 기초\n",
        "\n",
        "  print()함수를 사용하여 다음과 같이 출력하세요.\n",
        "\n",
        "  **naver kakao sk samsung** 세개의 문자열의 공백을 ;으로 변경하라.\n",
        "  "
      ],
      "metadata": {
        "id": "ra4S1Z9eIx5v"
      }
    },
    {
      "cell_type": "code",
      "source": [
        "print(\"naver\",\"kakao\",\"sk\",\"samsung\")\n",
        "print(\"naver\",\"kakao\",\"sk\",\"samsung\", sep=\";\")"
      ],
      "metadata": {
        "colab": {
          "base_uri": "https://localhost:8080/"
        },
        "id": "gQEmqsWWIyBQ",
        "outputId": "6c2838df-2036-43d1-e022-3c3402ac21aa"
      },
      "execution_count": null,
      "outputs": [
        {
          "output_type": "stream",
          "name": "stdout",
          "text": [
            "naver kakao sk samsung\n",
            "naver;kakao;sk;samsung\n"
          ]
        }
      ]
    },
    {
      "cell_type": "markdown",
      "source": [
        "08. print 기초\n",
        "\n",
        "  7번 문제의 구분자를 /로 변경하시오."
      ],
      "metadata": {
        "id": "V136ej0CIyHV"
      }
    },
    {
      "cell_type": "code",
      "source": [
        "print(\"naver\",\"kakao\",\"sk\",\"samsung\", sep=\"/\")"
      ],
      "metadata": {
        "colab": {
          "base_uri": "https://localhost:8080/"
        },
        "id": "XLDuKF_rIyM9",
        "outputId": "cef01a9d-4581-4a78-a9fd-3a70fb210d1c"
      },
      "execution_count": null,
      "outputs": [
        {
          "output_type": "stream",
          "name": "stdout",
          "text": [
            "naver/kakao/sk/samsung\n"
          ]
        }
      ]
    },
    {
      "cell_type": "markdown",
      "source": [
        "09. print 줄바꿈\n",
        "\n",
        "  다음 코드를 수정하여 줄바꿈 없이 출력해라. print 함수는 두번 사용합니다. \n",
        "  \n",
        "  *세미클론은 한줄에 여러개의 명령을 작성하기 위해 사용\n",
        "\n",
        "  print(\"first\");print(\"second\")"
      ],
      "metadata": {
        "id": "22VRFQahIIJa"
      }
    },
    {
      "cell_type": "code",
      "source": [
        "print(\"first\");print(\"second\")\n",
        "print(\"first\",end=\" \");print(\"second\")"
      ],
      "metadata": {
        "colab": {
          "base_uri": "https://localhost:8080/"
        },
        "id": "aUtBXXsZIGwh",
        "outputId": "78442f28-8d6e-4920-fc0a-11ac6344c1c5"
      },
      "execution_count": null,
      "outputs": [
        {
          "output_type": "stream",
          "name": "stdout",
          "text": [
            "first\n",
            "second\n",
            "first second\n"
          ]
        }
      ]
    },
    {
      "cell_type": "markdown",
      "source": [
        "10.연산결과 출력\n",
        "\n",
        "   5/3의 결과를 화면에 출력하세요"
      ],
      "metadata": {
        "id": "taiYc4lrc4tG"
      }
    },
    {
      "cell_type": "code",
      "source": [
        "print(5/3)"
      ],
      "metadata": {
        "colab": {
          "base_uri": "https://localhost:8080/"
        },
        "id": "ex3kGX0Fc5Bb",
        "outputId": "5258392a-d459-40e0-9513-171ead691d6d"
      },
      "execution_count": null,
      "outputs": [
        {
          "output_type": "stream",
          "name": "stdout",
          "text": [
            "1.6666666666666667\n"
          ]
        }
      ]
    },
    {
      "cell_type": "markdown",
      "source": [
        "#02. 파이썬 변수\n",
        "변수는 자주 사용되는 값 바인딩"
      ],
      "metadata": {
        "id": "7P_zfim3Jwzm"
      }
    },
    {
      "cell_type": "markdown",
      "source": [
        "11. 변수 사용하기\n",
        "\n",
        "  삼성전자라는 변수로 50,000원을 바인딩하고, 삼성전자 주식 10주를 보유하고 있을 때 총 평가금액을 출력해라."
      ],
      "metadata": {
        "id": "j83gZSMXhA6d"
      }
    },
    {
      "cell_type": "code",
      "source": [
        "삼성전자=50000\n",
        "총평가금액=10*삼성전자\n",
        "print(\"총 평가금액:\",총평가금액)"
      ],
      "metadata": {
        "colab": {
          "base_uri": "https://localhost:8080/"
        },
        "id": "Zd95fZrZhCK5",
        "outputId": "54ea77b7-732a-4deb-b6da-cb6fe6fc5bcb"
      },
      "execution_count": null,
      "outputs": [
        {
          "output_type": "stream",
          "name": "stdout",
          "text": [
            "총 평가금액: 500000\n"
          ]
        }
      ]
    },
    {
      "cell_type": "markdown",
      "source": [
        "12. 변수 사용하기\n",
        "\n",
        "  다음표는 삼성전자의 일부 투자정보다. 변수를 사용해서 시가총액, 현재가, PER 등을 바인딩해라\n",
        "\n",
        "\n",
        "\n",
        "> | 항목     | 값       |   |   |   |\n",
        "|----------|----------|---|---|---|\n",
        "| 시가총액 | 298조    |   |   |   |\n",
        "| 현재가   | 50,000원 |   |   |   |\n",
        "| PER      | 15.79    |   |   |   |\n",
        "\n",
        "\n"
      ],
      "metadata": {
        "id": "5XsPTV6VhhNG"
      }
    },
    {
      "cell_type": "code",
      "source": [
        "시가총액=298e12\n",
        "print(시가총액,type(시가총액))\n",
        "현재가=50000\n",
        "print(현재가,type(현재가))\n",
        "PER=15.79\n",
        "print(PER,type(PER))\n"
      ],
      "metadata": {
        "colab": {
          "base_uri": "https://localhost:8080/"
        },
        "id": "yP5pH2mchr2p",
        "outputId": "f502646b-e962-49e4-b40d-8f42d23575f2"
      },
      "execution_count": null,
      "outputs": [
        {
          "output_type": "stream",
          "name": "stdout",
          "text": [
            "298000000000000.0 <class 'float'>\n",
            "50000 <class 'int'>\n",
            "15.79 <class 'float'>\n"
          ]
        }
      ]
    },
    {
      "cell_type": "markdown",
      "source": [
        "13. 문자열 출력\n",
        "\n",
        "  두 변수를 이용하여 아래와 같이 출력하시오.\n",
        "\n",
        "x=\"hello\" y=\"python\" 출력할 문자열: hello! python"
      ],
      "metadata": {
        "id": "wBNtSs8ljy50"
      }
    },
    {
      "cell_type": "code",
      "source": [
        "x=\"hello\"\n",
        "y=\"python\"\n",
        "print(x+\"!\", y)"
      ],
      "metadata": {
        "id": "7IRla1F0jzEq",
        "colab": {
          "base_uri": "https://localhost:8080/"
        },
        "outputId": "912b0608-7f1a-4f20-c070-be2e250089fd"
      },
      "execution_count": null,
      "outputs": [
        {
          "output_type": "stream",
          "name": "stdout",
          "text": [
            "hello! python\n"
          ]
        }
      ]
    },
    {
      "cell_type": "markdown",
      "source": [
        "14. 파이썬을 이용한 값 계산\n",
        "\n",
        "  2+2*3의 코드 실행 결과를 예상하시오."
      ],
      "metadata": {
        "id": "qQw6IUJl1G9s"
      }
    },
    {
      "cell_type": "code",
      "source": [
        "print(2+2*3)\n",
        "#문자열 연산이므로 결과는 8"
      ],
      "metadata": {
        "colab": {
          "base_uri": "https://localhost:8080/"
        },
        "id": "DlRr7amA1HBu",
        "outputId": "3ecc139e-39b4-4baa-a0ac-1fba7e7862ec"
      },
      "execution_count": null,
      "outputs": [
        {
          "output_type": "stream",
          "name": "stdout",
          "text": [
            "8\n"
          ]
        }
      ]
    },
    {
      "cell_type": "markdown",
      "source": [
        "15. type 함수\n",
        "\n",
        "  아래 변수에 바인딩된 값의 타입을 판별하시오.\n",
        "  \n",
        "  a= 132"
      ],
      "metadata": {
        "id": "X_8hmZ3j1HHw"
      }
    },
    {
      "cell_type": "code",
      "source": [
        "a=132\n",
        "print(type(a))"
      ],
      "metadata": {
        "id": "LAK13QYk1HN1",
        "colab": {
          "base_uri": "https://localhost:8080/"
        },
        "outputId": "702f4a47-b0a4-4b64-c534-9b1aa69a3007"
      },
      "execution_count": null,
      "outputs": [
        {
          "output_type": "stream",
          "name": "stdout",
          "text": [
            "<class 'int'>\n"
          ]
        }
      ]
    },
    {
      "cell_type": "markdown",
      "source": [
        "16. 문자열을 정수로 변환\n",
        "\n",
        "  문자열 '720'를 정수형으로 변환하시오."
      ],
      "metadata": {
        "id": "X4-B6DhE1HTZ"
      }
    },
    {
      "cell_type": "code",
      "source": [
        "s=\"720\"\n",
        "a=int(s)\n",
        "print(type(a))"
      ],
      "metadata": {
        "id": "fB0miY1U1HZU",
        "colab": {
          "base_uri": "https://localhost:8080/"
        },
        "outputId": "d3ff6093-95b6-46b9-dcab-f590f7386f5f"
      },
      "execution_count": null,
      "outputs": [
        {
          "output_type": "stream",
          "name": "stdout",
          "text": [
            "<class 'int'>\n"
          ]
        }
      ]
    },
    {
      "cell_type": "markdown",
      "source": [
        "17. 정수를 문자열 100으로 변환\n",
        "\n",
        "  정수 100을 문자열'100'으로 변환하시오"
      ],
      "metadata": {
        "id": "SkZdS8Gx1HfR"
      }
    },
    {
      "cell_type": "code",
      "source": [
        "num=100\n",
        "result = str(num)\n",
        "print(type(result))"
      ],
      "metadata": {
        "id": "0m9dRVp71Hjp",
        "colab": {
          "base_uri": "https://localhost:8080/"
        },
        "outputId": "b0b4372b-1ca5-4b58-9db0-624b20a60429"
      },
      "execution_count": 4,
      "outputs": [
        {
          "output_type": "stream",
          "name": "stdout",
          "text": [
            "<class 'str'>\n"
          ]
        }
      ]
    },
    {
      "cell_type": "markdown",
      "source": [
        "18. 문자열을 실수로 변환\n",
        "\n",
        "  문자열 \"15.79\"를 실수타입으로 변환하라."
      ],
      "metadata": {
        "id": "7HCSBJw51Hn0"
      }
    },
    {
      "cell_type": "code",
      "source": [
        "a=\"15.79\"\n",
        "b=float(a)\n",
        "print(b,type(b))"
      ],
      "metadata": {
        "id": "9Q-7XoUa1Hrb",
        "colab": {
          "base_uri": "https://localhost:8080/"
        },
        "outputId": "8e29d729-fc94-4aa8-d79b-2dccd4c0469c"
      },
      "execution_count": 2,
      "outputs": [
        {
          "output_type": "stream",
          "name": "stdout",
          "text": [
            "15.79 <class 'float'>\n"
          ]
        }
      ]
    },
    {
      "cell_type": "markdown",
      "source": [
        "19. 문자열을 정수로 변환\n",
        "\n",
        "  year라는 변수가 문자열 타입의 연도를 바인딩하고 있다, 이를 정수로 변환한 후 최근 3년의 연도를 화면에 출력하라."
      ],
      "metadata": {
        "id": "r53R2-n51Hvn"
      }
    },
    {
      "cell_type": "code",
      "source": [
        "year=\"2020\"\n",
        "year=int(year)\n",
        "print(type(year))\n",
        "print(year,year-1,year-2,year-3)"
      ],
      "metadata": {
        "id": "gcKSN11k1HzA",
        "colab": {
          "base_uri": "https://localhost:8080/"
        },
        "outputId": "b3d07fbe-c02a-4b48-eff6-04b651346924"
      },
      "execution_count": 7,
      "outputs": [
        {
          "output_type": "stream",
          "name": "stdout",
          "text": [
            "<class 'int'>\n",
            "2020 2019 2018 2017\n"
          ]
        }
      ]
    },
    {
      "cell_type": "markdown",
      "source": [
        "20. 파이썬 계산\n",
        "\n",
        "  에어컨이 월 48,584에 무이자 36개월의 조건으로 홈쇼핑에서 판매되고 있습니다.총 금액은 계산한 후 이를 화면에 출력해라.\n"
      ],
      "metadata": {
        "id": "GwUSJi4c1H2x"
      }
    },
    {
      "cell_type": "code",
      "source": [
        "won=48584\n",
        "print(won*36)"
      ],
      "metadata": {
        "id": "xxbCFv0I1H5u",
        "colab": {
          "base_uri": "https://localhost:8080/"
        },
        "outputId": "620c0c2d-a570-44ca-c317-b15ba9c7a946"
      },
      "execution_count": 8,
      "outputs": [
        {
          "output_type": "stream",
          "name": "stdout",
          "text": [
            "1749024\n"
          ]
        }
      ]
    },
    {
      "cell_type": "markdown",
      "source": [
        "# 03. 파이썬 문자열\n",
        "\n",
        "  파이썬 문자열은 인덱싱, 슬라이싱 기능과 다양한 메소드를 제공한다."
      ],
      "metadata": {
        "id": "BP-ydjcAJxIr"
      }
    },
    {
      "cell_type": "markdown",
      "source": [
        "# 04. 파이썬 리스트"
      ],
      "metadata": {
        "id": "Zd4tkbPjJxhq"
      }
    },
    {
      "cell_type": "markdown",
      "source": [
        "# 05. 파이썬 튜플"
      ],
      "metadata": {
        "id": "k5DYbWWIJxpz"
      }
    },
    {
      "cell_type": "markdown",
      "source": [
        "#06. 파이썬 딕셔너리"
      ],
      "metadata": {
        "id": "HV6PZOkgJxyh"
      }
    },
    {
      "cell_type": "markdown",
      "source": [
        "#07. 파이썬 if문\n",
        "\n"
      ],
      "metadata": {
        "id": "CoPu9GukJx8p"
      }
    },
    {
      "cell_type": "markdown",
      "source": [
        "#08. 파이썬 반복문"
      ],
      "metadata": {
        "id": "rtBPpI06JwFZ"
      }
    },
    {
      "cell_type": "code",
      "source": [
        ""
      ],
      "metadata": {
        "id": "sSL03ApvKmuE"
      },
      "execution_count": null,
      "outputs": []
    },
    {
      "cell_type": "markdown",
      "source": [
        "# 09. 파이썬 함수"
      ],
      "metadata": {
        "id": "2OraFzX3Kn0g"
      }
    },
    {
      "cell_type": "markdown",
      "source": [
        "#10. 파이썬 모듈"
      ],
      "metadata": {
        "id": "4pJUgzADKoGE"
      }
    },
    {
      "cell_type": "markdown",
      "source": [
        "#11. 파이썬 클래스"
      ],
      "metadata": {
        "id": "8s3JMN-VKoYY"
      }
    },
    {
      "cell_type": "markdown",
      "source": [
        "#12. 파일 입출력과 예외처리"
      ],
      "metadata": {
        "id": "fu6wseAUKoiZ"
      }
    }
  ]
}