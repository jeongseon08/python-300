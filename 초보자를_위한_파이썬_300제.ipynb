{
  "nbformat": 4,
  "nbformat_minor": 0,
  "metadata": {
    "colab": {
      "name": "초보자를 위한 파이썬 300제.ipynb",
      "provenance": [],
      "toc_visible": true,
      "authorship_tag": "ABX9TyO4iDhJgM08LtNPJyS7/yjb",
      "include_colab_link": true
    },
    "kernelspec": {
      "name": "python3",
      "display_name": "Python 3"
    },
    "language_info": {
      "name": "python"
    }
  },
  "cells": [
    {
      "cell_type": "markdown",
      "metadata": {
        "id": "view-in-github",
        "colab_type": "text"
      },
      "source": [
        "<a href=\"https://colab.research.google.com/github/jeongseon08/python-300/blob/main/%EC%B4%88%EB%B3%B4%EC%9E%90%EB%A5%BC_%EC%9C%84%ED%95%9C_%ED%8C%8C%EC%9D%B4%EC%8D%AC_300%EC%A0%9C.ipynb\" target=\"_parent\"><img src=\"https://colab.research.google.com/assets/colab-badge.svg\" alt=\"Open In Colab\"/></a>"
      ]
    },
    {
      "cell_type": "code",
      "source": [
        ""
      ],
      "metadata": {
        "id": "UFfLrMw-cE0U"
      },
      "execution_count": null,
      "outputs": []
    },
    {
      "cell_type": "markdown",
      "source": [
        "파이썬 기초 문법을 배웠다고 해서 누구나 프로그래밍에 익숙해지는 것은 아닙니다. 프로그래밍에 익숙해지기까지 많은 문제를 풀어보고 익숙해지는 것이 필요합니다.문제 풀이 유튜브: https://youtu.be/SiK4iYt_7-s"
      ],
      "metadata": {
        "id": "xppRI6vx9t1B"
      }
    },
    {
      "cell_type": "markdown",
      "source": [
        "# 01. 파이썬 시작하기\n",
        "print 함수\n",
        "**1)** sep(separation): 두 문자열 사이에 들어가는 문자\n",
        "ex) print('S','E','P',sep='!')\n",
        "=S!E!P\n",
        "\n",
        "**2)** end: 그 뒤의 출력값과 이어서 출력(줄바꿈X)\n",
        "ex) print('hello',end=\" \")\n",
        "    print('world!)\n",
        "= hello world!\n",
        "\n",
        "**3)** format: 포매팅을 통해 특정 서식에 따라 문자를 출력 부분적으로 문자열 바꾸어 반복적으로 출력할때 유용\n",
        "\n",
        "print(\"{}월{}일 입니다.\".format(10,31))\n",
        "=10월31일 입니다.\n",
        "**4)** escape: 파이썬 문법을 탈출하여 출력\n",
        "\n",
        "-\\n: 줄바꿈\n",
        "\n",
        "-\\t: 탭\n",
        "\n",
        "-\\b: 백스페이스\n",
        "\n",
        "-\\\\: \\ 출력\n",
        "\n",
        "-\\': ' 출력\n",
        "\n",
        "-\\\": \" 출력"
      ],
      "metadata": {
        "id": "PdIhMQGIJrVT"
      }
    },
    {
      "cell_type": "markdown",
      "source": [
        "01. 화면에 **Hello World** 문자열을 출력해라."
      ],
      "metadata": {
        "id": "aea7OG2TGly-"
      }
    },
    {
      "cell_type": "code",
      "execution_count": null,
      "metadata": {
        "id": "PB24XuFs9gYG"
      },
      "outputs": [],
      "source": [
        "print(\"Hello World\")"
      ]
    },
    {
      "cell_type": "markdown",
      "source": [
        "2. 화면에 **Marry's cosmetics**을 출력해라.\n",
        "\n"
      ],
      "metadata": {
        "id": "sHYXc9OJHMwF"
      }
    },
    {
      "cell_type": "code",
      "source": [
        "print(\"Marry's cosmetics\")"
      ],
      "metadata": {
        "colab": {
          "base_uri": "https://localhost:8080/"
        },
        "id": "WzaN4pK6H65Z",
        "outputId": "85527f37-5909-4f2d-ae1e-68978b94d2bf"
      },
      "execution_count": 1,
      "outputs": [
        {
          "output_type": "stream",
          "name": "stdout",
          "text": [
            "Marry's cosmetics\n"
          ]
        }
      ]
    },
    {
      "cell_type": "markdown",
      "source": [
        "3. 화면에 아래 문장을 출력해라.\n",
        "\n",
        "   **신씨가 소리질렀다. \"도둑이야.\"**\n",
        "\n"
      ],
      "metadata": {
        "id": "TRvzbzSmI5jm"
      }
    },
    {
      "cell_type": "code",
      "source": [
        "print('신씨가 소리질렀다. \"도둑이야\"')"
      ],
      "metadata": {
        "colab": {
          "base_uri": "https://localhost:8080/"
        },
        "id": "R6z1Ld6qLBAa",
        "outputId": "53da971b-7728-4564-caf7-02661e18d01c"
      },
      "execution_count": 2,
      "outputs": [
        {
          "output_type": "stream",
          "name": "stdout",
          "text": [
            "신씨가 소리질렀다. \"도둑이야\"\n"
          ]
        }
      ]
    },
    {
      "cell_type": "markdown",
      "source": [
        "04. 화면에 **\"C:\\Windows\"**를 출력해라."
      ],
      "metadata": {
        "id": "Wp0SXD8jPyiU"
      }
    },
    {
      "cell_type": "code",
      "source": [
        "print('\"C:\\Windows\"')"
      ],
      "metadata": {
        "colab": {
          "base_uri": "https://localhost:8080/"
        },
        "id": "WP1JdfSFIbws",
        "outputId": "e0bb0600-2799-436e-9ae1-74b70a74638b"
      },
      "execution_count": 8,
      "outputs": [
        {
          "output_type": "stream",
          "name": "stdout",
          "text": [
            "\"C:\\Windows\"\n"
          ]
        }
      ]
    },
    {
      "cell_type": "markdown",
      "source": [
        "05. 다음 코드를 실행해보고 \\t와 \\n의 역할을 설명하라.\n",
        "\n",
        "    **print(\"안녕하세요.\\n만나서\\t\\t반갑습니다.\")**"
      ],
      "metadata": {
        "id": "x4PK0acEIxWR"
      }
    },
    {
      "cell_type": "code",
      "source": [
        "print(\"안녕하세요.\\n만나서\\t\\t반갑습니다.\")\n",
        "#\\n은 줄바꿈, \\t: tab간격 띄어쓰기를 의미한다.\n",
        "#*tab간격: 띄어쓰기 4칸"
      ],
      "metadata": {
        "colab": {
          "base_uri": "https://localhost:8080/"
        },
        "id": "qH7iQqREIxff",
        "outputId": "28827d1d-6051-4e05-8399-c1d3c3486ae5"
      },
      "execution_count": 9,
      "outputs": [
        {
          "output_type": "stream",
          "name": "stdout",
          "text": [
            "안녕하세요.\n",
            "만나서\t\t반갑습니다.\n"
          ]
        }
      ]
    },
    {
      "cell_type": "markdown",
      "source": [
        "06. print 함수에 두개의 단어를 입력한 예제입니다. 아래 코드의 출력 결과를 예상하시오.\n",
        "\n",
        "  **priint(\"today\", \"sunday\")**"
      ],
      "metadata": {
        "id": "6iSJp-g0IxpV"
      }
    },
    {
      "cell_type": "code",
      "source": [
        "print(\"today\", \"sunday\")\n",
        "# 두단어는 하나의 줄에 공백한칸인 형태로 나타날것이다."
      ],
      "metadata": {
        "colab": {
          "base_uri": "https://localhost:8080/"
        },
        "id": "syqpjWdcIxxV",
        "outputId": "32bc0409-6a58-48ee-bc09-59316396ad99"
      },
      "execution_count": 10,
      "outputs": [
        {
          "output_type": "stream",
          "name": "stdout",
          "text": [
            "today sunday\n"
          ]
        }
      ]
    },
    {
      "cell_type": "markdown",
      "source": [
        "07. print()함수를 사용하여 다음과 같이 출력하세요.\n",
        "\n",
        "  **naver kakao sk samsung** 세개의 문자열의 공백을 ;으로 변경하라.\n",
        "  "
      ],
      "metadata": {
        "id": "ra4S1Z9eIx5v"
      }
    },
    {
      "cell_type": "code",
      "source": [
        "print(\"naver\",\"kakao\",\"sk\",\"samsung\")\n",
        "print(\"naver\",\"kakao\",\"sk\",\"samsung\", sep=\";\")"
      ],
      "metadata": {
        "colab": {
          "base_uri": "https://localhost:8080/"
        },
        "id": "gQEmqsWWIyBQ",
        "outputId": "6c2838df-2036-43d1-e022-3c3402ac21aa"
      },
      "execution_count": 15,
      "outputs": [
        {
          "output_type": "stream",
          "name": "stdout",
          "text": [
            "naver kakao sk samsung\n",
            "naver;kakao;sk;samsung\n"
          ]
        }
      ]
    },
    {
      "cell_type": "markdown",
      "source": [
        "08. 7번 문제의 구분자를 /로 변경하시오."
      ],
      "metadata": {
        "id": "V136ej0CIyHV"
      }
    },
    {
      "cell_type": "code",
      "source": [
        "print(\"naver\",\"kakao\",\"sk\",\"samsung\", sep=\"/\")"
      ],
      "metadata": {
        "colab": {
          "base_uri": "https://localhost:8080/"
        },
        "id": "XLDuKF_rIyM9",
        "outputId": "cef01a9d-4581-4a78-a9fd-3a70fb210d1c"
      },
      "execution_count": 16,
      "outputs": [
        {
          "output_type": "stream",
          "name": "stdout",
          "text": [
            "naver/kakao/sk/samsung\n"
          ]
        }
      ]
    },
    {
      "cell_type": "markdown",
      "source": [
        "09. 다음 코드를 수정하여 줄바꿈 없이 출력해라. print 함수는 두번 사용합니다. \n",
        "  \n",
        "  *세미클론은 한줄에 여러개의 명령을 작성하기 위해 사용\n",
        "\n",
        "  print(\"first\");print(\"second\")"
      ],
      "metadata": {
        "id": "22VRFQahIIJa"
      }
    },
    {
      "cell_type": "code",
      "source": [
        "print(\"first\");print(\"second\")\n",
        "print(\"first\",end=\" \");print(\"second\")"
      ],
      "metadata": {
        "colab": {
          "base_uri": "https://localhost:8080/"
        },
        "id": "aUtBXXsZIGwh",
        "outputId": "78442f28-8d6e-4920-fc0a-11ac6344c1c5"
      },
      "execution_count": 26,
      "outputs": [
        {
          "output_type": "stream",
          "name": "stdout",
          "text": [
            "first\n",
            "second\n",
            "first second\n"
          ]
        }
      ]
    },
    {
      "cell_type": "markdown",
      "source": [
        "10. 5/3의 결과를 화면에 출력하세요"
      ],
      "metadata": {
        "id": "taiYc4lrc4tG"
      }
    },
    {
      "cell_type": "code",
      "source": [
        "print(5/3)"
      ],
      "metadata": {
        "colab": {
          "base_uri": "https://localhost:8080/"
        },
        "id": "ex3kGX0Fc5Bb",
        "outputId": "5258392a-d459-40e0-9513-171ead691d6d"
      },
      "execution_count": 27,
      "outputs": [
        {
          "output_type": "stream",
          "name": "stdout",
          "text": [
            "1.6666666666666667\n"
          ]
        }
      ]
    },
    {
      "cell_type": "markdown",
      "source": [
        "#02. 파이썬 변수\n"
      ],
      "metadata": {
        "id": "7P_zfim3Jwzm"
      }
    },
    {
      "cell_type": "markdown",
      "source": [
        "# 03. 파이썬 문자열"
      ],
      "metadata": {
        "id": "BP-ydjcAJxIr"
      }
    },
    {
      "cell_type": "markdown",
      "source": [
        "# 04. 파이썬 리스트"
      ],
      "metadata": {
        "id": "Zd4tkbPjJxhq"
      }
    },
    {
      "cell_type": "markdown",
      "source": [
        "# 05. 파이썬 튜플"
      ],
      "metadata": {
        "id": "k5DYbWWIJxpz"
      }
    },
    {
      "cell_type": "markdown",
      "source": [
        "#06. 파이썬 딕셔너리"
      ],
      "metadata": {
        "id": "HV6PZOkgJxyh"
      }
    },
    {
      "cell_type": "markdown",
      "source": [
        "#07. 파이썬 if문\n",
        "\n"
      ],
      "metadata": {
        "id": "CoPu9GukJx8p"
      }
    },
    {
      "cell_type": "markdown",
      "source": [
        "#08. 파이썬 반복문"
      ],
      "metadata": {
        "id": "rtBPpI06JwFZ"
      }
    },
    {
      "cell_type": "code",
      "source": [
        ""
      ],
      "metadata": {
        "id": "sSL03ApvKmuE"
      },
      "execution_count": null,
      "outputs": []
    },
    {
      "cell_type": "markdown",
      "source": [
        "# 09. 파이썬 함수"
      ],
      "metadata": {
        "id": "2OraFzX3Kn0g"
      }
    },
    {
      "cell_type": "markdown",
      "source": [
        "#10. 파이썬 모듈"
      ],
      "metadata": {
        "id": "4pJUgzADKoGE"
      }
    },
    {
      "cell_type": "markdown",
      "source": [
        "#11. 파이썬 클래스"
      ],
      "metadata": {
        "id": "8s3JMN-VKoYY"
      }
    },
    {
      "cell_type": "markdown",
      "source": [
        "#12. 파일 입출력과 예외처리"
      ],
      "metadata": {
        "id": "fu6wseAUKoiZ"
      }
    }
  ]
}