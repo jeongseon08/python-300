{
  "nbformat": 4,
  "nbformat_minor": 0,
  "metadata": {
    "colab": {
      "name": "초보자를 위한 파이썬 300제.ipynb",
      "provenance": [],
      "collapsed_sections": [
        "PdIhMQGIJrVT",
        "aea7OG2TGly-",
        "sHYXc9OJHMwF",
        "TRvzbzSmI5jm",
        "Wp0SXD8jPyiU",
        "x4PK0acEIxWR",
        "6iSJp-g0IxpV",
        "ra4S1Z9eIx5v",
        "V136ej0CIyHV",
        "22VRFQahIIJa",
        "taiYc4lrc4tG",
        "7P_zfim3Jwzm",
        "j83gZSMXhA6d",
        "5XsPTV6VhhNG",
        "wBNtSs8ljy50",
        "qQw6IUJl1G9s",
        "X_8hmZ3j1HHw",
        "X4-B6DhE1HTZ",
        "SkZdS8Gx1HfR",
        "7HCSBJw51Hn0",
        "r53R2-n51Hvn",
        "GwUSJi4c1H2x",
        "BP-ydjcAJxIr",
        "JpviBVx9yzh0",
        "TUfcKkw68vsX",
        "kP_3T_Q78v5I",
        "5y30B9Kd8wC3",
        "Dz3m4KkC8wL5",
        "PyUKSPUs8wTW",
        "v2-6IYsZ8wZT",
        "AgNK03-d8wfd",
        "scBHIOC08wl4",
        "jaWnGQMN8wr7",
        "3nepqChS8wy_",
        "UxcM4c_W8w5d",
        "rXALvDwf8w-z",
        "GzavPgaS8xEs",
        "kXV3-sRd8xLI",
        "FKhcJ0V98xQQ",
        "iK-Sj6AFryIO",
        "D7YrhJFHryeq",
        "-JZI-g61rynj",
        "mBxiHe80ryv_",
        "p8mOORu9DWxb",
        "XhZxfx4BDXHm",
        "vHFyozN-DXPL",
        "hbxL1MMVDXen",
        "MoUVOi2GDXpc",
        "rCNe1VBeDXyj",
        "Fn9Lu60oDX4v",
        "SvXhcg5lDYGy",
        "dVrNMzwsDYOA",
        "hhrx00mdIgDK",
        "iYvfOcv0Ie1y",
        "J2p0FIpeLZ2q",
        "YwXh5V8CLbFf",
        "jSsdC6uALbSd",
        "0NKU6G_xLbcx",
        "XTyQd7LILbmg",
        "HWQ6a3-TLbvm",
        "jmpYZpP4Lb5U",
        "1RVSXOc4LcCc",
        "QedvomtpLcMr",
        "SL4IYi7AUcTS",
        "Y5Lj-g3UUdkl",
        "jd97D_TdUdxG",
        "dtdHwytPUd84",
        "9OQCxn_0UeF8",
        "sJpvGbiVUePd",
        "ejy7hg6kUeY4",
        "8-NVHpApUeib",
        "g-vAcrnYUerP",
        "fWJ3-ihHur5z",
        "ZpSEx5GQyjsX",
        "dJDpgpAtyj3A",
        "7uvg6mhe1ABw",
        "xyhWpSas1AIP",
        "HCnKSNXq1APC",
        "nohUEFCy1AVT",
        "5xVTqeGf1Aap",
        "ydIB4st81Afn",
        "M5eha7E3570c",
        "CoPu9GukJx8p",
        "rtBPpI06JwFZ",
        "2OraFzX3Kn0g",
        "4pJUgzADKoGE",
        "8s3JMN-VKoYY",
        "fu6wseAUKoiZ"
      ],
      "toc_visible": true,
      "authorship_tag": "ABX9TyNbUQxg8LgXBy7ktfuT4jos",
      "include_colab_link": true
    },
    "kernelspec": {
      "name": "python3",
      "display_name": "Python 3"
    },
    "language_info": {
      "name": "python"
    }
  },
  "cells": [
    {
      "cell_type": "markdown",
      "metadata": {
        "id": "view-in-github",
        "colab_type": "text"
      },
      "source": [
        "<a href=\"https://colab.research.google.com/github/jeongseon08/python-300/blob/main/%EC%B4%88%EB%B3%B4%EC%9E%90%EB%A5%BC_%EC%9C%84%ED%95%9C_%ED%8C%8C%EC%9D%B4%EC%8D%AC_300%EC%A0%9C.ipynb\" target=\"_parent\"><img src=\"https://colab.research.google.com/assets/colab-badge.svg\" alt=\"Open In Colab\"/></a>"
      ]
    },
    {
      "cell_type": "markdown",
      "source": [
        "파이썬 기초 문법을 배웠다고 해서 누구나 프로그래밍에 익숙해지는 것은 아니다. 따라서 프로그래밍에 익숙해지기까지 많은 문제를 풀어보고 익숙해지는 것이 필요하다."
      ],
      "metadata": {
        "id": "xppRI6vx9t1B"
      }
    },
    {
      "cell_type": "markdown",
      "source": [
        "# 01.파이썬 시작하기\n",
        "print 함수\n",
        "\n",
        "**1)** sep(separation): 두 문자열 사이에 들어가는 문자\n",
        "ex) print('S','E','P',sep='!')\n",
        "=S!E!P\n",
        "\n",
        "**2)** end: 그 뒤의 출력값과 이어서 출력(줄바꿈X)\n",
        "ex) print('hello',end=\" \")\n",
        "    print('world!)\n",
        "= hello world!\n",
        "\n",
        "**3)** format: 포매팅을 통해 특정 서식에 따라 문자를 출력 부분적으로 문자열 바꾸어 반복적으로 출력할때 유용\n",
        "\n",
        "print(\"{}월{}일 입니다.\".format(10,31))\n",
        "=10월31일 입니다.\n",
        "**4)** escape: 파이썬 문법을 탈출하여 출력\n",
        "\n",
        "-\\n: 줄바꿈\n",
        "\n",
        "-\\t: 탭\n",
        "\n",
        "-\\b: 백스페이스\n",
        "\n",
        "-\\\\: \\ 출력\n",
        "\n",
        "-\\': ' 출력\n",
        "\n",
        "-\\\": \" 출력"
      ],
      "metadata": {
        "id": "PdIhMQGIJrVT"
      }
    },
    {
      "cell_type": "markdown",
      "source": [
        "##01. print 기초\n",
        "\n",
        "  화면에 **Hello World** 문자열을 출력해라."
      ],
      "metadata": {
        "id": "aea7OG2TGly-"
      }
    },
    {
      "cell_type": "code",
      "execution_count": null,
      "metadata": {
        "id": "PB24XuFs9gYG"
      },
      "outputs": [],
      "source": [
        "print(\"Hello World\")"
      ]
    },
    {
      "cell_type": "markdown",
      "source": [
        "##2. print 기초\n",
        "\n",
        "  화면에 **Marry's cosmetics**을 출력해라.\n",
        "\n"
      ],
      "metadata": {
        "id": "sHYXc9OJHMwF"
      }
    },
    {
      "cell_type": "code",
      "source": [
        "print(\"Marry's cosmetics\")"
      ],
      "metadata": {
        "colab": {
          "base_uri": "https://localhost:8080/"
        },
        "id": "WzaN4pK6H65Z",
        "outputId": "70c2ff3b-2317-4320-f5c6-7ce57f21fc20"
      },
      "execution_count": null,
      "outputs": [
        {
          "output_type": "stream",
          "name": "stdout",
          "text": [
            "Marry's cosmetics\n"
          ]
        }
      ]
    },
    {
      "cell_type": "markdown",
      "source": [
        "##3. print 기초\n",
        "\n",
        "  화면에 아래 문장을 출력해라.\n",
        "\n",
        "   **신씨가 소리질렀다. \"도둑이야.\"**\n",
        "\n"
      ],
      "metadata": {
        "id": "TRvzbzSmI5jm"
      }
    },
    {
      "cell_type": "code",
      "source": [
        "print('신씨가 소리질렀다. \"도둑이야\"')"
      ],
      "metadata": {
        "colab": {
          "base_uri": "https://localhost:8080/"
        },
        "id": "R6z1Ld6qLBAa",
        "outputId": "92be49a5-ec11-46f3-e0c5-28fd2ffe22dc"
      },
      "execution_count": null,
      "outputs": [
        {
          "output_type": "stream",
          "name": "stdout",
          "text": [
            "신씨가 소리질렀다. \"도둑이야\"\n"
          ]
        }
      ]
    },
    {
      "cell_type": "markdown",
      "source": [
        "##04. print 기초\n",
        "\n",
        "  화면에 **\"C:\\Windows\"**를 출력해라."
      ],
      "metadata": {
        "id": "Wp0SXD8jPyiU"
      }
    },
    {
      "cell_type": "code",
      "source": [
        "print('\"C:\\Windows\"')"
      ],
      "metadata": {
        "colab": {
          "base_uri": "https://localhost:8080/"
        },
        "id": "WP1JdfSFIbws",
        "outputId": "0dc4f3a8-7293-4670-af24-2ef5c6761bf9"
      },
      "execution_count": null,
      "outputs": [
        {
          "output_type": "stream",
          "name": "stdout",
          "text": [
            "\"C:\\Windows\"\n"
          ]
        }
      ]
    },
    {
      "cell_type": "markdown",
      "source": [
        "##05. print탭과 줄바꿈\n",
        "\n",
        "  다음 코드를 실행해보고 \\t와 \\n의 역할을 설명하라.\n",
        "\n",
        "    **print(\"안녕하세요.\\n만나서\\t\\t반갑습니다.\")**"
      ],
      "metadata": {
        "id": "x4PK0acEIxWR"
      }
    },
    {
      "cell_type": "code",
      "source": [
        "print(\"안녕하세요.\\n만나서\\t\\t반갑습니다.\")\n",
        "#\\n은 줄바꿈, \\t: tab간격 띄어쓰기를 의미한다.\n",
        "#*tab간격: 띄어쓰기 4칸"
      ],
      "metadata": {
        "colab": {
          "base_uri": "https://localhost:8080/"
        },
        "id": "qH7iQqREIxff",
        "outputId": "8b7a2cf0-086d-4b06-9e33-247fa93ce706"
      },
      "execution_count": null,
      "outputs": [
        {
          "output_type": "stream",
          "name": "stdout",
          "text": [
            "안녕하세요.\n",
            "만나서\t\t반갑습니다.\n"
          ]
        }
      ]
    },
    {
      "cell_type": "markdown",
      "source": [
        "##06. print 여러 데이터 출력\n",
        "\n",
        "  print 함수에 두개의 단어를 입력한 예제입니다. 아래 코드의 출력 결과를 예상하시오.\n",
        "\n",
        "  **priint(\"today\", \"sunday\")**"
      ],
      "metadata": {
        "id": "6iSJp-g0IxpV"
      }
    },
    {
      "cell_type": "code",
      "source": [
        "print(\"today\", \"sunday\")\n",
        "# 두단어는 하나의 줄에 공백한칸인 형태로 나타날것이다."
      ],
      "metadata": {
        "colab": {
          "base_uri": "https://localhost:8080/"
        },
        "id": "syqpjWdcIxxV",
        "outputId": "2b56e685-297a-4ab2-d830-9ce888ef7dad"
      },
      "execution_count": null,
      "outputs": [
        {
          "output_type": "stream",
          "name": "stdout",
          "text": [
            "today sunday\n"
          ]
        }
      ]
    },
    {
      "cell_type": "markdown",
      "source": [
        "##07. print 기초\n",
        "\n",
        "  print()함수를 사용하여 다음과 같이 출력하세요.\n",
        "\n",
        "  **naver kakao sk samsung** 세개의 문자열의 공백을 ;으로 변경하라.\n",
        "  "
      ],
      "metadata": {
        "id": "ra4S1Z9eIx5v"
      }
    },
    {
      "cell_type": "code",
      "source": [
        "print(\"naver\",\"kakao\",\"sk\",\"samsung\")\n",
        "print(\"naver\",\"kakao\",\"sk\",\"samsung\", sep=\";\")"
      ],
      "metadata": {
        "colab": {
          "base_uri": "https://localhost:8080/"
        },
        "id": "gQEmqsWWIyBQ",
        "outputId": "8039755b-de35-4be5-9561-352a2eeea2ee"
      },
      "execution_count": null,
      "outputs": [
        {
          "output_type": "stream",
          "name": "stdout",
          "text": [
            "naver kakao sk samsung\n",
            "naver;kakao;sk;samsung\n"
          ]
        }
      ]
    },
    {
      "cell_type": "markdown",
      "source": [
        "##08. print 기초\n",
        "\n",
        "  7번 문제의 구분자를 /로 변경하시오."
      ],
      "metadata": {
        "id": "V136ej0CIyHV"
      }
    },
    {
      "cell_type": "code",
      "source": [
        "print(\"naver\",\"kakao\",\"sk\",\"samsung\", sep=\"/\")"
      ],
      "metadata": {
        "colab": {
          "base_uri": "https://localhost:8080/"
        },
        "id": "XLDuKF_rIyM9",
        "outputId": "56cdfd15-1baf-469c-d2a3-0c84e2465240"
      },
      "execution_count": null,
      "outputs": [
        {
          "output_type": "stream",
          "name": "stdout",
          "text": [
            "naver/kakao/sk/samsung\n"
          ]
        }
      ]
    },
    {
      "cell_type": "markdown",
      "source": [
        "##09. print 줄바꿈\n",
        "\n",
        "  다음 코드를 수정하여 줄바꿈 없이 출력해라. print 함수는 두번 사용합니다. \n",
        "  \n",
        "  *세미클론은 한줄에 여러개의 명령을 작성하기 위해 사용\n",
        "\n",
        "  print(\"first\");print(\"second\")"
      ],
      "metadata": {
        "id": "22VRFQahIIJa"
      }
    },
    {
      "cell_type": "code",
      "source": [
        "print(\"first\");print(\"second\")\n",
        "print(\"first\",end=\" \");print(\"second\")"
      ],
      "metadata": {
        "colab": {
          "base_uri": "https://localhost:8080/"
        },
        "id": "aUtBXXsZIGwh",
        "outputId": "cc51863a-e9f2-4d48-a0f5-2dce3bff7df7"
      },
      "execution_count": null,
      "outputs": [
        {
          "output_type": "stream",
          "name": "stdout",
          "text": [
            "first\n",
            "second\n",
            "first second\n"
          ]
        }
      ]
    },
    {
      "cell_type": "markdown",
      "source": [
        "##10.연산결과 출력\n",
        "\n",
        "   5/3의 결과를 화면에 출력하세요"
      ],
      "metadata": {
        "id": "taiYc4lrc4tG"
      }
    },
    {
      "cell_type": "code",
      "source": [
        "print(5/3)"
      ],
      "metadata": {
        "colab": {
          "base_uri": "https://localhost:8080/"
        },
        "id": "ex3kGX0Fc5Bb",
        "outputId": "5054bdb6-eff9-41ca-bb18-e9f606d5f060"
      },
      "execution_count": null,
      "outputs": [
        {
          "output_type": "stream",
          "name": "stdout",
          "text": [
            "1.6666666666666667\n"
          ]
        }
      ]
    },
    {
      "cell_type": "markdown",
      "source": [
        "#02.파이썬 변수\n",
        "변수는 자주 사용되는 값 바인딩"
      ],
      "metadata": {
        "id": "7P_zfim3Jwzm"
      }
    },
    {
      "cell_type": "markdown",
      "source": [
        "##11. 변수 사용하기\n",
        "\n",
        "  삼성전자라는 변수로 50,000원을 바인딩하고, 삼성전자 주식 10주를 보유하고 있을 때 총 평가금액을 출력해라."
      ],
      "metadata": {
        "id": "j83gZSMXhA6d"
      }
    },
    {
      "cell_type": "code",
      "source": [
        "삼성전자=50000\n",
        "총평가금액=10*삼성전자\n",
        "print(\"총 평가금액:\",총평가금액)"
      ],
      "metadata": {
        "colab": {
          "base_uri": "https://localhost:8080/"
        },
        "id": "Zd95fZrZhCK5",
        "outputId": "a7d6de20-e5ec-48d3-9094-6f2767fee1ee"
      },
      "execution_count": null,
      "outputs": [
        {
          "output_type": "stream",
          "name": "stdout",
          "text": [
            "총 평가금액: 500000\n"
          ]
        }
      ]
    },
    {
      "cell_type": "markdown",
      "source": [
        "##12. 변수 사용하기\n",
        "\n",
        "  다음표는 삼성전자의 일부 투자정보다. 변수를 사용해서 시가총액, 현재가, PER 등을 바인딩해라\n",
        "\n",
        "\n",
        "\n",
        "> | 항목     | 값       |   |   |   |\n",
        "|----------|----------|---|---|---|\n",
        "| 시가총액 | 298조    |   |   |   |\n",
        "| 현재가   | 50,000원 |   |   |   |\n",
        "| PER      | 15.79    |   |   |   |\n",
        "\n",
        "\n"
      ],
      "metadata": {
        "id": "5XsPTV6VhhNG"
      }
    },
    {
      "cell_type": "code",
      "source": [
        "시가총액=298e12\n",
        "print(시가총액,type(시가총액))\n",
        "현재가=50000\n",
        "print(현재가,type(현재가))\n",
        "PER=15.79\n",
        "print(PER,type(PER))\n"
      ],
      "metadata": {
        "colab": {
          "base_uri": "https://localhost:8080/"
        },
        "id": "yP5pH2mchr2p",
        "outputId": "f1a9c6f2-49bd-4a96-feae-b131bf920c6f"
      },
      "execution_count": null,
      "outputs": [
        {
          "output_type": "stream",
          "name": "stdout",
          "text": [
            "298000000000000.0 <class 'float'>\n",
            "50000 <class 'int'>\n",
            "15.79 <class 'float'>\n"
          ]
        }
      ]
    },
    {
      "cell_type": "markdown",
      "source": [
        "##13. 문자열 출력\n",
        "\n",
        "  두 변수를 이용하여 아래와 같이 출력하시오.\n",
        "\n",
        "x=\"hello\" y=\"python\" 출력할 문자열: hello! python"
      ],
      "metadata": {
        "id": "wBNtSs8ljy50"
      }
    },
    {
      "cell_type": "code",
      "source": [
        "x=\"hello\"\n",
        "y=\"python\"\n",
        "print(x+\"!\", y)"
      ],
      "metadata": {
        "id": "7IRla1F0jzEq",
        "colab": {
          "base_uri": "https://localhost:8080/"
        },
        "outputId": "b8d0aa32-7c05-4941-9837-b67141f37dac"
      },
      "execution_count": null,
      "outputs": [
        {
          "output_type": "stream",
          "name": "stdout",
          "text": [
            "hello! python\n"
          ]
        }
      ]
    },
    {
      "cell_type": "markdown",
      "source": [
        "##14. 파이썬을 이용한 값 계산\n",
        "\n",
        "  2+2*3의 코드 실행 결과를 예상하시오."
      ],
      "metadata": {
        "id": "qQw6IUJl1G9s"
      }
    },
    {
      "cell_type": "code",
      "source": [
        "print(2+2*3)\n",
        "#문자열 연산이므로 결과는 8"
      ],
      "metadata": {
        "colab": {
          "base_uri": "https://localhost:8080/"
        },
        "id": "DlRr7amA1HBu",
        "outputId": "939588c7-5470-4758-f500-c89dd5331f6a"
      },
      "execution_count": null,
      "outputs": [
        {
          "output_type": "stream",
          "name": "stdout",
          "text": [
            "8\n"
          ]
        }
      ]
    },
    {
      "cell_type": "markdown",
      "source": [
        "##15. type 함수\n",
        "\n",
        "  아래 변수에 바인딩된 값의 타입을 판별하시오.\n",
        "  \n",
        "  a= 132"
      ],
      "metadata": {
        "id": "X_8hmZ3j1HHw"
      }
    },
    {
      "cell_type": "code",
      "source": [
        "a=132\n",
        "print(type(a))"
      ],
      "metadata": {
        "id": "LAK13QYk1HN1",
        "colab": {
          "base_uri": "https://localhost:8080/"
        },
        "outputId": "efa469a2-c437-4577-cce7-816248015edf"
      },
      "execution_count": null,
      "outputs": [
        {
          "output_type": "stream",
          "name": "stdout",
          "text": [
            "<class 'int'>\n"
          ]
        }
      ]
    },
    {
      "cell_type": "markdown",
      "source": [
        "##16. 문자열을 정수로 변환\n",
        "\n",
        "  문자열 '720'를 정수형으로 변환하시오."
      ],
      "metadata": {
        "id": "X4-B6DhE1HTZ"
      }
    },
    {
      "cell_type": "code",
      "source": [
        "s=\"720\"\n",
        "a=int(s)\n",
        "print(type(a))"
      ],
      "metadata": {
        "id": "fB0miY1U1HZU",
        "colab": {
          "base_uri": "https://localhost:8080/"
        },
        "outputId": "9a9bc0ff-4836-412a-a0ef-76281baade6e"
      },
      "execution_count": null,
      "outputs": [
        {
          "output_type": "stream",
          "name": "stdout",
          "text": [
            "<class 'int'>\n"
          ]
        }
      ]
    },
    {
      "cell_type": "markdown",
      "source": [
        "##17. 정수를 문자열 100으로 변환\n",
        "\n",
        "  정수 100을 문자열'100'으로 변환하시오"
      ],
      "metadata": {
        "id": "SkZdS8Gx1HfR"
      }
    },
    {
      "cell_type": "code",
      "source": [
        "num=100\n",
        "result = str(num)\n",
        "print(type(result))"
      ],
      "metadata": {
        "id": "0m9dRVp71Hjp",
        "colab": {
          "base_uri": "https://localhost:8080/"
        },
        "outputId": "0a8e8cd8-b9bd-4e46-cbad-0ecc8b41f626"
      },
      "execution_count": null,
      "outputs": [
        {
          "output_type": "stream",
          "name": "stdout",
          "text": [
            "<class 'str'>\n"
          ]
        }
      ]
    },
    {
      "cell_type": "markdown",
      "source": [
        "##18. 문자열을 실수로 변환\n",
        "\n",
        "  문자열 \"15.79\"를 실수타입으로 변환하라."
      ],
      "metadata": {
        "id": "7HCSBJw51Hn0"
      }
    },
    {
      "cell_type": "code",
      "source": [
        "a=\"15.79\"\n",
        "b=float(a)\n",
        "print(b,type(b))"
      ],
      "metadata": {
        "id": "9Q-7XoUa1Hrb",
        "colab": {
          "base_uri": "https://localhost:8080/"
        },
        "outputId": "aefdc89d-9f82-4ebe-9a55-6aee5ae4fbc9"
      },
      "execution_count": null,
      "outputs": [
        {
          "output_type": "stream",
          "name": "stdout",
          "text": [
            "15.79 <class 'float'>\n"
          ]
        }
      ]
    },
    {
      "cell_type": "markdown",
      "source": [
        "##19. 문자열을 정수로 변환\n",
        "\n",
        "  year라는 변수가 문자열 타입의 연도를 바인딩하고 있다, 이를 정수로 변환한 후 최근 3년의 연도를 화면에 출력하라."
      ],
      "metadata": {
        "id": "r53R2-n51Hvn"
      }
    },
    {
      "cell_type": "code",
      "source": [
        "year=\"2020\"\n",
        "year=int(year)\n",
        "print(type(year))\n",
        "print(year,year-1,year-2,year-3)"
      ],
      "metadata": {
        "id": "gcKSN11k1HzA",
        "colab": {
          "base_uri": "https://localhost:8080/"
        },
        "outputId": "ba10f59a-ad58-45d0-af9f-6c3c904423a8"
      },
      "execution_count": null,
      "outputs": [
        {
          "output_type": "stream",
          "name": "stdout",
          "text": [
            "<class 'int'>\n",
            "2020 2019 2018 2017\n"
          ]
        }
      ]
    },
    {
      "cell_type": "markdown",
      "source": [
        "##20. 파이썬 계산\n",
        "\n",
        "  에어컨이 월 48,584에 무이자 36개월의 조건으로 홈쇼핑에서 판매되고 있습니다.총 금액은 계산한 후 이를 화면에 출력해라.\n"
      ],
      "metadata": {
        "id": "GwUSJi4c1H2x"
      }
    },
    {
      "cell_type": "code",
      "source": [
        "won=48584\n",
        "print(won*36)"
      ],
      "metadata": {
        "id": "xxbCFv0I1H5u",
        "colab": {
          "base_uri": "https://localhost:8080/"
        },
        "outputId": "4c014b82-989b-40f2-eb1a-69e250c20102"
      },
      "execution_count": null,
      "outputs": [
        {
          "output_type": "stream",
          "name": "stdout",
          "text": [
            "1749024\n"
          ]
        }
      ]
    },
    {
      "cell_type": "markdown",
      "source": [
        "# 03.파이썬 문자열\n",
        "\n",
        "  파이썬 문자열은 인덱싱, 슬라이싱 기능과 다양한 메소드를 제공한다."
      ],
      "metadata": {
        "id": "BP-ydjcAJxIr"
      }
    },
    {
      "cell_type": "markdown",
      "source": [
        "##21. 문자열 인덱싱\n",
        "\n",
        "  letters가 바인딩하는 문자열에서 첫번째 와 세번째 문자를 출력하세요.\n",
        "\n",
        "  letters='python'"
      ],
      "metadata": {
        "id": "JpviBVx9yzh0"
      }
    },
    {
      "cell_type": "code",
      "source": [
        "letters='python'\n",
        "print(letters[0],letters[2])"
      ],
      "metadata": {
        "colab": {
          "base_uri": "https://localhost:8080/"
        },
        "id": "HxmtVr6U6MQI",
        "outputId": "cbb5d758-9bf3-4f52-be71-c1a88d0a38da"
      },
      "execution_count": null,
      "outputs": [
        {
          "output_type": "stream",
          "name": "stdout",
          "text": [
            "p t\n"
          ]
        }
      ]
    },
    {
      "cell_type": "markdown",
      "source": [
        "##22. 문자열 슬라이싱\n",
        "\n",
        "  자동차 번호가 다음과 같을때 뒤에 4자리만 출력하세요.\n",
        "\n",
        "  license_plate=\"24가 2210\""
      ],
      "metadata": {
        "id": "TUfcKkw68vsX"
      }
    },
    {
      "cell_type": "code",
      "source": [
        "license_plate=\"24가 2210\"\n",
        "print(license_plate[-4:])"
      ],
      "metadata": {
        "colab": {
          "base_uri": "https://localhost:8080/"
        },
        "id": "tGv67D1R8v0f",
        "outputId": "795e1e01-04b0-47dc-b9cb-894c27021573"
      },
      "execution_count": null,
      "outputs": [
        {
          "output_type": "stream",
          "name": "stdout",
          "text": [
            "2210\n"
          ]
        }
      ]
    },
    {
      "cell_type": "markdown",
      "source": [
        "##23. 문자열 인덱싱\n",
        "\n",
        "아래의 문자열에서 '홀'만 출력하세요.\n",
        "string=\"홀짝홀짝홀짝\""
      ],
      "metadata": {
        "id": "kP_3T_Q78v5I"
      }
    },
    {
      "cell_type": "code",
      "source": [
        "string=\"홀짝홀짝홀짝\"\n",
        "print(string[::2])"
      ],
      "metadata": {
        "colab": {
          "base_uri": "https://localhost:8080/"
        },
        "id": "E5if0jgI8v9_",
        "outputId": "5e51f322-b337-42bc-b8f3-e269f16905bd"
      },
      "execution_count": null,
      "outputs": [
        {
          "output_type": "stream",
          "name": "stdout",
          "text": [
            "홀홀홀\n"
          ]
        }
      ]
    },
    {
      "cell_type": "markdown",
      "source": [
        "##24. 문자열 슬라이싱\n",
        "\n",
        "문자열을 거꾸로 뒤집어 출력하세요."
      ],
      "metadata": {
        "id": "5y30B9Kd8wC3"
      }
    },
    {
      "cell_type": "code",
      "source": [
        "string=\"python\"\n",
        "print(string[::-1])"
      ],
      "metadata": {
        "id": "SBTStNVD8wHW",
        "colab": {
          "base_uri": "https://localhost:8080/"
        },
        "outputId": "988cc774-2187-4642-ff54-84bb0f126d9d"
      },
      "execution_count": null,
      "outputs": [
        {
          "output_type": "stream",
          "name": "stdout",
          "text": [
            "nohtyp\n"
          ]
        }
      ]
    },
    {
      "cell_type": "markdown",
      "source": [
        "##25. 문자열 치환\n",
        "\n",
        "아래의 전화번호에서 하이푼을 제거하고 출력하시오."
      ],
      "metadata": {
        "id": "Dz3m4KkC8wL5"
      }
    },
    {
      "cell_type": "code",
      "source": [
        "number=\"010-4935-4629\"\n",
        "number=number.replace(\"-\",\" \")\n",
        "print(number)"
      ],
      "metadata": {
        "id": "uNw9Gkx_8wPO",
        "colab": {
          "base_uri": "https://localhost:8080/"
        },
        "outputId": "05e3ef2f-a184-43c9-c1c8-d651ed737f2d"
      },
      "execution_count": null,
      "outputs": [
        {
          "output_type": "stream",
          "name": "stdout",
          "text": [
            "010 4935 4629\n"
          ]
        }
      ]
    },
    {
      "cell_type": "markdown",
      "source": [
        "##26. 문자열 다루기\n",
        "\n",
        "25번 문제의 전화번호를 아래와 같이 모두 붙여 출력하세요."
      ],
      "metadata": {
        "id": "PyUKSPUs8wTW"
      }
    },
    {
      "cell_type": "code",
      "source": [
        "number=\"010-4935-4629\"\n",
        "number=number.replace(\"-\",\"\")\n",
        "print(number)"
      ],
      "metadata": {
        "id": "FnrmUSeR8wWC",
        "colab": {
          "base_uri": "https://localhost:8080/"
        },
        "outputId": "db444f55-de4e-40e0-c636-61161a0f6c1b"
      },
      "execution_count": null,
      "outputs": [
        {
          "output_type": "stream",
          "name": "stdout",
          "text": [
            "01049354629\n"
          ]
        }
      ]
    },
    {
      "cell_type": "markdown",
      "source": [
        "##27. 문자열 다루기\n",
        "url에 저장된 웹 페이지 주소에서 도메인을 출력하세요.\n",
        "\n",
        "url = \"http://sharebook.kr\""
      ],
      "metadata": {
        "id": "v2-6IYsZ8wZT"
      }
    },
    {
      "cell_type": "code",
      "source": [
        "url = \"http://sharebook.kr\"\n",
        "url_split=url.split('.')\n",
        "print(url_split)\n",
        "print(url_split[-1])\n",
        "print(url_split[-2])"
      ],
      "metadata": {
        "id": "GuXp90GV8wb_",
        "colab": {
          "base_uri": "https://localhost:8080/"
        },
        "outputId": "71d4d96a-b86e-4ada-e5cd-d127917ac263"
      },
      "execution_count": null,
      "outputs": [
        {
          "output_type": "stream",
          "name": "stdout",
          "text": [
            "['http://sharebook', 'kr']\n",
            "kr\n",
            "http://sharebook\n"
          ]
        }
      ]
    },
    {
      "cell_type": "markdown",
      "source": [
        "##28. 문자열은 immutable!!=불변값이다!\n",
        "\n",
        "아래 코드의 실행 결과를 예상해봐라.\n",
        "\n",
        "lang=\"python\"\n",
        "\n",
        "lang[0]='P'\n",
        "\n",
        "print(lang)\n"
      ],
      "metadata": {
        "id": "AgNK03-d8wfd"
      }
    },
    {
      "cell_type": "code",
      "source": [
        "lang=\"python\"\n",
        "lang[0]='P'\n",
        "print(lang)\n",
        "#오류발생함."
      ],
      "metadata": {
        "id": "prGpcNAo8wh_",
        "colab": {
          "base_uri": "https://localhost:8080/",
          "height": 227
        },
        "outputId": "b5b3effa-15b6-471e-c1a0-2602d748a7d4"
      },
      "execution_count": null,
      "outputs": [
        {
          "output_type": "error",
          "ename": "TypeError",
          "evalue": "ignored",
          "traceback": [
            "\u001b[0;31m---------------------------------------------------------------------------\u001b[0m",
            "\u001b[0;31mTypeError\u001b[0m                                 Traceback (most recent call last)",
            "\u001b[0;32m<ipython-input-105-9097c78be6ea>\u001b[0m in \u001b[0;36m<module>\u001b[0;34m()\u001b[0m\n\u001b[1;32m      1\u001b[0m \u001b[0mlang\u001b[0m\u001b[0;34m=\u001b[0m\u001b[0;34m\"python\"\u001b[0m\u001b[0;34m\u001b[0m\u001b[0;34m\u001b[0m\u001b[0m\n\u001b[0;32m----> 2\u001b[0;31m \u001b[0mlang\u001b[0m\u001b[0;34m[\u001b[0m\u001b[0;36m0\u001b[0m\u001b[0;34m]\u001b[0m\u001b[0;34m=\u001b[0m\u001b[0;34m'P'\u001b[0m\u001b[0;34m\u001b[0m\u001b[0;34m\u001b[0m\u001b[0m\n\u001b[0m\u001b[1;32m      3\u001b[0m \u001b[0mprint\u001b[0m\u001b[0;34m(\u001b[0m\u001b[0mlang\u001b[0m\u001b[0;34m)\u001b[0m\u001b[0;34m\u001b[0m\u001b[0;34m\u001b[0m\u001b[0m\n\u001b[1;32m      4\u001b[0m \u001b[0;31m#오류발생함.\u001b[0m\u001b[0;34m\u001b[0m\u001b[0;34m\u001b[0m\u001b[0;34m\u001b[0m\u001b[0m\n",
            "\u001b[0;31mTypeError\u001b[0m: 'str' object does not support item assignment"
          ]
        }
      ]
    },
    {
      "cell_type": "markdown",
      "source": [
        "##29. replace 메소드\n",
        "\n",
        "아래 문자열에서 소문자'a'를 대문자 'A'로 변경하라."
      ],
      "metadata": {
        "id": "scBHIOC08wl4"
      }
    },
    {
      "cell_type": "code",
      "source": [
        "string='abcdef2a354aa21d'\n",
        "string=string.replace(\"a\",\"A\")\n",
        "print(string)"
      ],
      "metadata": {
        "id": "U5mrbzGz8wn-",
        "colab": {
          "base_uri": "https://localhost:8080/"
        },
        "outputId": "b7942440-3097-4830-8bd1-e74feaee30f5"
      },
      "execution_count": null,
      "outputs": [
        {
          "output_type": "stream",
          "name": "stdout",
          "text": [
            "Abcdef2A354AA21d\n"
          ]
        }
      ]
    },
    {
      "cell_type": "markdown",
      "source": [
        "##30. replace 메소드\n",
        "\n",
        "아래코드의 실행 결과를 예상해라.\n",
        "string='abcd'\n",
        "\n",
        "string.replace('b','B')\n",
        "\n",
        "print(string)"
      ],
      "metadata": {
        "id": "jaWnGQMN8wr7"
      }
    },
    {
      "cell_type": "code",
      "source": [
        "string='abcd'\n",
        "string.replace('b','B')\n",
        "print(string)\n",
        "#문자열은 불변하는 자료형이기 때문에, replace메소드를 사용하면 원본은 그대로 둔채로 변경된 새로운 문자열 객체를 리턴해준다.\n",
        "string_re=string.replace('b','B')\n",
        "print(string_re)\n"
      ],
      "metadata": {
        "id": "jv_qMkXA8wuj",
        "colab": {
          "base_uri": "https://localhost:8080/"
        },
        "outputId": "284d1ac3-8634-49f9-a97c-fc8ac2aad93b"
      },
      "execution_count": null,
      "outputs": [
        {
          "output_type": "stream",
          "name": "stdout",
          "text": [
            "abcd\n",
            "aBcd\n"
          ]
        }
      ]
    },
    {
      "cell_type": "markdown",
      "source": [
        "##31. 문자열 합치기\n",
        "\n",
        "  아래 코드의 실행 결과를 예상해라.\n",
        "\n",
        "  a=\"3\"\n",
        "\n",
        "  b=\"4\"\n",
        "\n",
        "  print(a+b)"
      ],
      "metadata": {
        "id": "3nepqChS8wy_"
      }
    },
    {
      "cell_type": "code",
      "source": [
        "a='3'\n",
        "b='4'\n",
        "print(type(a))\n",
        "print(a+b)\n",
        "#a,b의 데이터 타입은 문자열로 a+b는 두개의 문자열을 이어주는 역할이다."
      ],
      "metadata": {
        "id": "07mVt0vx8w1s",
        "colab": {
          "base_uri": "https://localhost:8080/"
        },
        "outputId": "7c481e67-44ae-40bb-a4dc-0c3d2a6f6ed7"
      },
      "execution_count": null,
      "outputs": [
        {
          "output_type": "stream",
          "name": "stdout",
          "text": [
            "<class 'str'>\n",
            "34\n"
          ]
        }
      ]
    },
    {
      "cell_type": "markdown",
      "source": [
        "##32. 문자열 곱하기\n",
        "\n",
        "  아래 코드의 실행결과를 예상해라\n",
        "\n",
        "  print(\"Hi\"*3)  "
      ],
      "metadata": {
        "id": "UxcM4c_W8w5d"
      }
    },
    {
      "cell_type": "code",
      "source": [
        "print(\"Hi\"*3)\n",
        "#Hi 문구가 3번반복된다."
      ],
      "metadata": {
        "id": "U8MG6eoZ8w79",
        "colab": {
          "base_uri": "https://localhost:8080/"
        },
        "outputId": "4e31937f-beeb-4289-b47b-fc2f2759a7ee"
      },
      "execution_count": null,
      "outputs": [
        {
          "output_type": "stream",
          "name": "stdout",
          "text": [
            "HiHiHi\n"
          ]
        }
      ]
    },
    {
      "cell_type": "markdown",
      "source": [
        "##33. 문자열 곱하기\n",
        "\n",
        "  화면에 '-'를 80개 출력해라."
      ],
      "metadata": {
        "id": "rXALvDwf8w-z"
      }
    },
    {
      "cell_type": "code",
      "source": [
        "print(\"-\"*80)"
      ],
      "metadata": {
        "id": "2lZyOjvz8xBu",
        "colab": {
          "base_uri": "https://localhost:8080/"
        },
        "outputId": "5f9d16f7-1c91-4b23-df9a-eee9ed3ae1a2"
      },
      "execution_count": null,
      "outputs": [
        {
          "output_type": "stream",
          "name": "stdout",
          "text": [
            "--------------------------------------------------------------------------------\n"
          ]
        }
      ]
    },
    {
      "cell_type": "markdown",
      "source": [
        "##34. 문자열 곱하기\n",
        "\n",
        "  변수에 다음과 같은 문자열이 바인되어 있을때, 변수에 문자열 더하기와 문자열 곱하기를 사용해서 아래와 같이 출력해라.\n",
        "\n",
        "  t1='python'\n",
        "\n",
        "  t2='java'\n",
        "\n",
        "  실행 예: python java python java python java python on java"
      ],
      "metadata": {
        "id": "GzavPgaS8xEs"
      }
    },
    {
      "cell_type": "code",
      "source": [
        "t1='python'\n",
        "t2='java'\n",
        "print((t1+' '+t2+' ')*3+t1+' on'+ t2)"
      ],
      "metadata": {
        "id": "1yq5iCQ18xHC",
        "colab": {
          "base_uri": "https://localhost:8080/"
        },
        "outputId": "c80869d3-3fff-4234-8b2f-2b75995e76ef"
      },
      "execution_count": null,
      "outputs": [
        {
          "output_type": "stream",
          "name": "stdout",
          "text": [
            "python java python java python java python onjava\n"
          ]
        }
      ]
    },
    {
      "cell_type": "markdown",
      "source": [
        "##35. 문자열 출력\n",
        "\n",
        "  변수에 다음과 같이 문자열과 정수가 바인딩되어 있을 때 %formatting을 사용해서 다음과 같이 출력하라.\n",
        "\n",
        "  name1=\"김민수\"\n",
        "\n",
        "  age1=10\n",
        "\n",
        "  name2=\"이철희\"\n",
        "\n",
        "  age2=13\n",
        "\n",
        "  출력결과\n",
        "\n",
        "  이름: 김민수 나이: 10\n",
        "  \n",
        "  이름: 이철희 나이: 13"
      ],
      "metadata": {
        "id": "kXV3-sRd8xLI"
      }
    },
    {
      "cell_type": "code",
      "source": [
        "name1='김민수'\n",
        "age1=10\n",
        "name2='이철희'\n",
        "age2=13\n",
        "print(\"이름: %s 나이: %d \"%(name1,age1))\n",
        "print(\"이름: %s 나이: %d \"%(name2,age2))\n"
      ],
      "metadata": {
        "id": "MSGv3nq88xNd",
        "colab": {
          "base_uri": "https://localhost:8080/"
        },
        "outputId": "35e4e12d-8eee-433f-cc3b-bec70e6f6c31"
      },
      "execution_count": null,
      "outputs": [
        {
          "output_type": "stream",
          "name": "stdout",
          "text": [
            "이름: 김민수 나이: 10 \n",
            "이름: 이철희 나이: 13 \n"
          ]
        }
      ]
    },
    {
      "cell_type": "markdown",
      "source": [
        "##36. 문자열 출력\n",
        "\n",
        "문자열의 format()메소드를 사용해서 35번을 다시 풀어라."
      ],
      "metadata": {
        "id": "FKhcJ0V98xQQ"
      }
    },
    {
      "cell_type": "code",
      "source": [
        "name1='김민수'\n",
        "\n",
        "age1=10\n",
        "\n",
        "name2='이철희'\n",
        "\n",
        "age2=13\n",
        "\n",
        "print(\"이름: {} 나이: {} \".format(name1,age1))\n",
        "\n",
        "print(\"이름: {} 나이: {} \".format(name2,age2))\n",
        "\n",
        "\n"
      ],
      "metadata": {
        "id": "Whr8BPiv8xU9",
        "colab": {
          "base_uri": "https://localhost:8080/"
        },
        "outputId": "a59a8b89-2e29-4195-c5fd-58c0359979fe"
      },
      "execution_count": null,
      "outputs": [
        {
          "output_type": "stream",
          "name": "stdout",
          "text": [
            "이름: 김민수 나이: 10 \n",
            "이름: 이철희 나이: 13 \n"
          ]
        }
      ]
    },
    {
      "cell_type": "markdown",
      "source": [
        "##37. 문자열 출력\n",
        "\n",
        "  파이썬 3.6부터 지원하는 f-string을 사용하여 35번을 다시 풀어라."
      ],
      "metadata": {
        "id": "iK-Sj6AFryIO"
      }
    },
    {
      "cell_type": "code",
      "source": [
        "name1='김민수'\n",
        "age1=10\n",
        "\n",
        "name2='이철희'\n",
        "age2=13\n",
        "\n",
        "print(f\"이름: {name1} 나이: {age1} \")\n",
        "\n",
        "print(f\"이름: {name2} 나이: {age2} \")\n",
        "\n",
        "\n",
        "\n",
        "\n"
      ],
      "metadata": {
        "colab": {
          "base_uri": "https://localhost:8080/"
        },
        "id": "g0PzxeKjryYS",
        "outputId": "4bf4c7e5-5262-4a9a-bf9f-5eb483edbdd2"
      },
      "execution_count": null,
      "outputs": [
        {
          "output_type": "stream",
          "name": "stdout",
          "text": [
            "이름: 김민수 나이: 10 \n",
            "이름: 이철희 나이: 13 \n"
          ]
        }
      ]
    },
    {
      "cell_type": "markdown",
      "source": [
        "##38. 콤마 제거하기\n",
        "\n",
        "  삼성전자의 상장주식수가 다음과 같다. 컴마를 제거한 후 이를 정수 타입으로 변환해라\n",
        "\n",
        "  상장주식수=\"5,969,782,550\""
      ],
      "metadata": {
        "id": "D7YrhJFHryeq"
      }
    },
    {
      "cell_type": "code",
      "source": [
        "상장주식수=\"5,969,782,550\"\n",
        "상장주식수=상장주식수.replace(\",\",\"\")\n",
        "상장주식수=int(상장주식수)\n",
        "print(상장주식수,type(상장주식수))"
      ],
      "metadata": {
        "colab": {
          "base_uri": "https://localhost:8080/"
        },
        "id": "s4Xiab5Yryi4",
        "outputId": "0442f1e8-04fc-4ce1-b7f8-f08af1c7193a"
      },
      "execution_count": null,
      "outputs": [
        {
          "output_type": "stream",
          "name": "stdout",
          "text": [
            "5969782550 <class 'int'>\n"
          ]
        }
      ]
    },
    {
      "cell_type": "markdown",
      "source": [
        "##39. 문자열 슬라이싱\n",
        "\n",
        "  다음과 같은 문자열에서 **'2020/03'**만 출력하라.\n",
        "\n",
        "  분기=\"2020/03(E) (IFRS연결)\""
      ],
      "metadata": {
        "id": "-JZI-g61rynj"
      }
    },
    {
      "cell_type": "code",
      "source": [
        "분기=\"2020/03(E) (IFRS연결)\"\n",
        "print(분기[:7])"
      ],
      "metadata": {
        "colab": {
          "base_uri": "https://localhost:8080/"
        },
        "id": "b_WL-8PoryrT",
        "outputId": "3955bf68-bbad-4dc9-9cd4-bdb605dc59a1"
      },
      "execution_count": null,
      "outputs": [
        {
          "output_type": "stream",
          "name": "stdout",
          "text": [
            "2020/03\n"
          ]
        }
      ]
    },
    {
      "cell_type": "markdown",
      "source": [
        "##40. strip메소드\n",
        "\n",
        "  문자열의 좌우의 공백이 있을 때 이를 제거해라.\n",
        "  \n",
        "  data=\"           삼성전자       \""
      ],
      "metadata": {
        "id": "mBxiHe80ryv_"
      }
    },
    {
      "cell_type": "code",
      "source": [
        "data=\"    삼성전자    \"\n",
        "print(data)\n",
        "data1=data.strip()\n",
        "print(data1)\n",
        "data1=data.strip(data[:5])\n",
        "print(data1)\n",
        "\n",
        "\n"
      ],
      "metadata": {
        "id": "Dnx9VfwQryzv",
        "colab": {
          "base_uri": "https://localhost:8080/"
        },
        "outputId": "2fd33c48-caa8-4ddc-8abf-a0f45f509490"
      },
      "execution_count": null,
      "outputs": [
        {
          "output_type": "stream",
          "name": "stdout",
          "text": [
            "    삼성전자    \n",
            "삼성전자\n",
            "성전자\n"
          ]
        }
      ]
    },
    {
      "cell_type": "markdown",
      "source": [
        "##41. upper 메소드\n",
        "\n",
        "  .upper()는 문자열을 대문자로 변환시켜준다.\n",
        "  \n",
        "  다음과 같은 문자열이 있을 때 이를 대문자 BTC_KRW로 변경하세요.\n",
        "\n",
        "  ticker=\"btc_krw\""
      ],
      "metadata": {
        "id": "p8mOORu9DWxb"
      }
    },
    {
      "cell_type": "code",
      "source": [
        "ticker=\"btc_krw\"\n",
        "Ticker=ticker.upper()\n",
        "print(Ticker)"
      ],
      "metadata": {
        "colab": {
          "base_uri": "https://localhost:8080/"
        },
        "id": "d9LUFWkJDW-i",
        "outputId": "453884cd-7ba4-4ea1-b551-33ecbfef85f9"
      },
      "execution_count": null,
      "outputs": [
        {
          "output_type": "stream",
          "name": "stdout",
          "text": [
            "BTC_KRW\n"
          ]
        }
      ]
    },
    {
      "cell_type": "markdown",
      "source": [
        "##42. lower 메소드\n",
        "  .lower()는 문자열을 소문자로 변환시켜준다.\n",
        "  \n",
        "  다음과 같은 문자열이 있을 때 이를 소문자 btc_krw로 변경하세요.\n",
        "\n",
        "  ticker=\"BTC_KRW\"\n"
      ],
      "metadata": {
        "id": "XhZxfx4BDXHm"
      }
    },
    {
      "cell_type": "code",
      "source": [
        "ticker=\"BTC_KRW\"\n",
        "ticker=ticker.lower()\n",
        "print(ticker)"
      ],
      "metadata": {
        "colab": {
          "base_uri": "https://localhost:8080/"
        },
        "id": "UfvlaeDKDXJm",
        "outputId": "006cbde1-8672-4c1f-a11d-a15a9509d2d1"
      },
      "execution_count": null,
      "outputs": [
        {
          "output_type": "stream",
          "name": "stdout",
          "text": [
            "btc_krw\n"
          ]
        }
      ]
    },
    {
      "cell_type": "markdown",
      "source": [
        "##43. capitalize 메소드\n",
        "\n",
        "  .capitalize()는 문자열의 첫번째 요소만 대문자로 바꾼다.\n",
        "  \n",
        "  문자열'hello'가 있을 때 'Hello'로 변경하세요."
      ],
      "metadata": {
        "id": "vHFyozN-DXPL"
      }
    },
    {
      "cell_type": "code",
      "source": [
        "a='hello'\n",
        "print(a.capitalize())"
      ],
      "metadata": {
        "colab": {
          "base_uri": "https://localhost:8080/"
        },
        "id": "kA2pyCBdDXVh",
        "outputId": "e0d4d734-5ee8-462b-a8d7-071527d686be"
      },
      "execution_count": null,
      "outputs": [
        {
          "output_type": "stream",
          "name": "stdout",
          "text": [
            "Hello\n"
          ]
        }
      ]
    },
    {
      "cell_type": "markdown",
      "source": [
        "##44. endswith메소드\n",
        "\n",
        "  .endswith()는 문자열이 ()안의 문자열로 끝났으면 True, 그렇지 않다면 False가 된다.\n",
        "  \n",
        "  파일 이름이 문자열로 저장되어 있을 때 endswith메소드를 사용해서 파일 이름이 'xlsx'로 끝나는지 확인해라."
      ],
      "metadata": {
        "id": "hbxL1MMVDXen"
      }
    },
    {
      "cell_type": "code",
      "source": [
        "file=\"보고서.xlsx\"\n",
        "file=file.endswith(\"xlsx\")\n",
        "print(file)\n",
        "\n"
      ],
      "metadata": {
        "colab": {
          "base_uri": "https://localhost:8080/"
        },
        "id": "I6Q-qZtrDXhD",
        "outputId": "75311215-aafd-4a8a-c123-5cef6f3d6fee"
      },
      "execution_count": null,
      "outputs": [
        {
          "output_type": "stream",
          "name": "stdout",
          "text": [
            "True\n"
          ]
        }
      ]
    },
    {
      "cell_type": "markdown",
      "source": [
        "##45. endswith메소드\n",
        "\n",
        "\n",
        ".endswith()는 문자열이 ()안의 문자열로 끝났으면 True, 그렇지 않다면 False가 된다.\n",
        "\n",
        "파일 이름이 문자열로 저장되어 있을 때 endswith메소드를 사용해서 파일 이름이 'xls'로 끝나는지 확인해라.\n",
        "\n"
      ],
      "metadata": {
        "id": "MoUVOi2GDXpc"
      }
    },
    {
      "cell_type": "code",
      "source": [
        "file=\"보고서.xlsx\"\n",
        "file=file.endswith(\"xls\")\n",
        "print(file)\n"
      ],
      "metadata": {
        "colab": {
          "base_uri": "https://localhost:8080/"
        },
        "id": "Hpe7TNyQDXrk",
        "outputId": "0d7d17d6-ae87-4348-c88f-84f55f9743a3"
      },
      "execution_count": null,
      "outputs": [
        {
          "output_type": "stream",
          "name": "stdout",
          "text": [
            "False\n"
          ]
        }
      ]
    },
    {
      "cell_type": "markdown",
      "source": [
        "##46. startswith 메소드\n",
        "\n",
        "  .startswith()는 문자열의 처음이 ()의 값과 같다면 True, 그렇지 않다면 False가 온다.\n",
        "  \n",
        "  파일 이름이 문자열로 저장되어 있을 때 startwith 메소드를 사용해서 파일 이름이 '2020'로 시작하는지 확인해라."
      ],
      "metadata": {
        "id": "rCNe1VBeDXyj"
      }
    },
    {
      "cell_type": "code",
      "source": [
        "file=\"2020_보고서.xlsx\"\n",
        "file=file.startswith(\"2020\")\n",
        "print(file)"
      ],
      "metadata": {
        "colab": {
          "base_uri": "https://localhost:8080/"
        },
        "id": "Sr77KBlNDX3b",
        "outputId": "fb720701-7df2-491c-bdd9-cd752496f113"
      },
      "execution_count": null,
      "outputs": [
        {
          "output_type": "stream",
          "name": "stdout",
          "text": [
            "True\n"
          ]
        }
      ]
    },
    {
      "cell_type": "markdown",
      "source": [
        "##47. split 메소드\n",
        "\n",
        "  .split()는 ()값을 기준으로 문자열을 나눠서 리스트화 시킨다.\n",
        "\n",
        "  다음과 같은 문자열이 있을 때 공백을 기준으로 문자열을 나눠라.\n",
        "\n",
        "  a=\"hello world\""
      ],
      "metadata": {
        "id": "Fn9Lu60oDX4v"
      }
    },
    {
      "cell_type": "code",
      "source": [
        "a=\"hello world\"\n",
        "print(a.split())"
      ],
      "metadata": {
        "colab": {
          "base_uri": "https://localhost:8080/"
        },
        "id": "L6w4TzASDYFZ",
        "outputId": "087ddd99-6749-4bba-e2a7-7fcf8e28febd"
      },
      "execution_count": null,
      "outputs": [
        {
          "output_type": "stream",
          "name": "stdout",
          "text": [
            "['hello', 'world']\n"
          ]
        }
      ]
    },
    {
      "cell_type": "markdown",
      "source": [
        "##48. split메소드\n",
        "\n",
        "  다음과 같이 문자열이 있을 때 btc와 krw로 나눠라.\n",
        "\n",
        "  ticker=\"btc_krw\"\n"
      ],
      "metadata": {
        "id": "SvXhcg5lDYGy"
      }
    },
    {
      "cell_type": "code",
      "source": [
        "ticker=\"btc_krw\"\n",
        "print(ticker.split(\"_\"))"
      ],
      "metadata": {
        "id": "IcG0o8AbDYIX",
        "colab": {
          "base_uri": "https://localhost:8080/"
        },
        "outputId": "4109f05d-aa95-4325-daa0-546aace98f52"
      },
      "execution_count": null,
      "outputs": [
        {
          "output_type": "stream",
          "name": "stdout",
          "text": [
            "['btc', 'krw']\n"
          ]
        }
      ]
    },
    {
      "cell_type": "markdown",
      "source": [
        "##49. split메소드\n",
        "\n",
        "  다음과 같이 날짜를 표현하는 문자열이 있을 때 연도, 월, 일로 나눠라.\n",
        "  \n",
        "  date=\"2020-05-01\""
      ],
      "metadata": {
        "id": "dVrNMzwsDYOA"
      }
    },
    {
      "cell_type": "code",
      "source": [
        "date=\"2020-05-01\"\n",
        "print(date.split(\"-\"))"
      ],
      "metadata": {
        "id": "qr53w9BSDYVU",
        "colab": {
          "base_uri": "https://localhost:8080/"
        },
        "outputId": "9afbd94d-17d2-4519-d856-4dbdaf3c80b7"
      },
      "execution_count": null,
      "outputs": [
        {
          "output_type": "stream",
          "name": "stdout",
          "text": [
            "['2020', '05', '01']\n"
          ]
        }
      ]
    },
    {
      "cell_type": "markdown",
      "source": [
        "##50. rstrip 메소드\n",
        "\n",
        "  strip 3형제\n",
        "\n",
        "  1) strip([chars]) : 인자로 전달된 문자를 String의 왼쪽과 오른쪽에서 제거합니다.\n",
        "  \n",
        "  2) lstrip([chars]) : 인자로 전달된 문자를 String의 왼쪽에서 제거합니다.\n",
        "  \n",
        "  3) rstrip([chars]) : 인자로 전달된 문자를 String의 오른쪽에서 제거합니다.\n",
        "\n",
        "  문자열의 오른쪽에 공백이 있을 때 이를 제거해라.\n",
        "  \n",
        "  data =\"039404     \"\n"
      ],
      "metadata": {
        "id": "hhrx00mdIgDK"
      }
    },
    {
      "cell_type": "code",
      "source": [
        "data=\"      030904     \"\n",
        "print(data.rstrip())\n",
        "print(data.lstrip())\n",
        "print(data.strip())"
      ],
      "metadata": {
        "colab": {
          "base_uri": "https://localhost:8080/"
        },
        "id": "ki0PTHdNIgL2",
        "outputId": "633895e7-7094-41a5-de49-cc6273a1e968"
      },
      "execution_count": null,
      "outputs": [
        {
          "output_type": "stream",
          "name": "stdout",
          "text": [
            "      030904\n",
            "030904     \n",
            "030904\n"
          ]
        }
      ]
    },
    {
      "cell_type": "markdown",
      "source": [
        "# 04.파이썬 리스트\n",
        "\n",
        "    파이썬 리스트는 순서가 있고 수정 가능한 자료구조다."
      ],
      "metadata": {
        "id": "Zd4tkbPjJxhq"
      }
    },
    {
      "cell_type": "markdown",
      "source": [
        "##51. 리스트 생성\n",
        "\n",
        "  2016년 11월 영화 예매 순위 기준 top3는 다음과 같다. 영화 제목을 movie_rank 이름의 리스트에 저장해봐라.(순위 정보는 저장하지 않는다.)\n",
        "\n",
        "\n",
        "> | 항목 | 값 |\n",
        "|---|---------|\n",
        "| 1 | 닥터스트레인지 | \n",
        "| 2 | 스플릿|\n",
        "| 3 | 럭키 |\n",
        "\n",
        "\n",
        "\n",
        "\n",
        "\n",
        "\n",
        "\n"
      ],
      "metadata": {
        "id": "iYvfOcv0Ie1y"
      }
    },
    {
      "cell_type": "code",
      "source": [
        "movie_rank=[\"닥터스트레인지\",\"스플릿\",\"럭키\"]\n",
        "print(movie_rank)"
      ],
      "metadata": {
        "colab": {
          "base_uri": "https://localhost:8080/"
        },
        "id": "cPssc1riIe6C",
        "outputId": "90438a85-cde4-4815-db5b-0d014a06db5f"
      },
      "execution_count": null,
      "outputs": [
        {
          "output_type": "stream",
          "name": "stdout",
          "text": [
            "['닥터스트레인지', '스플릿', '럭키']\n"
          ]
        }
      ]
    },
    {
      "cell_type": "markdown",
      "source": [
        "##52. 리스트에 원소 추가\n",
        "\n",
        "  .append()는 원소를 추가해주는 함수다.\n",
        "\n",
        "  51의 movie_rank리스트에 \"배트맨\"을 추가해라."
      ],
      "metadata": {
        "id": "J2p0FIpeLZ2q"
      }
    },
    {
      "cell_type": "code",
      "source": [
        "movie_rank=[\"닥터스트레인지\",\"스플릿\",\"럭키\"]\n",
        "movie_rank.append(\"배트맨\")\n",
        "print(movie_rank)\n",
        "\n"
      ],
      "metadata": {
        "id": "bGnv8Zv-La-X",
        "colab": {
          "base_uri": "https://localhost:8080/"
        },
        "outputId": "d51ada3e-642a-462e-def5-572af960b715"
      },
      "execution_count": null,
      "outputs": [
        {
          "output_type": "stream",
          "name": "stdout",
          "text": [
            "['닥터스트레인지', '스플릿', '럭키', '배트맨']\n"
          ]
        }
      ]
    },
    {
      "cell_type": "markdown",
      "source": [
        "##53. insert메소드\n",
        "\n",
        "  .insert(인덱스,문자열)을 통해 원하는 위치에 원소를 추가할 수 있다.\n",
        "  \n",
        "  movie_rank 리스트에는 아래와 같이 4개의 영화제목이 바인딩되어 있다. \"슈퍼맨\"을 \"닥터스트레인지\"와 \"스플릿\"사이에 추가해라.\n",
        "\n",
        "  movie_rank=[\"닥터스트레인지\",\"스플릿\",\"럭키\",\"배트맨\"]\n",
        "\n"
      ],
      "metadata": {
        "id": "YwXh5V8CLbFf"
      }
    },
    {
      "cell_type": "code",
      "source": [
        "movie_rank=[\"닥터스트레인지\",\"스플릿\",\"럭키\",\"배트맨\"]\n",
        "print(movie_rank)\n",
        "movie_rank.insert(1,\"슈퍼맨\")\n",
        "print(movie_rank)"
      ],
      "metadata": {
        "id": "w_vw_25DLbMN",
        "colab": {
          "base_uri": "https://localhost:8080/"
        },
        "outputId": "7f8595de-da1a-4226-c1d2-44ea23d91266"
      },
      "execution_count": null,
      "outputs": [
        {
          "output_type": "stream",
          "name": "stdout",
          "text": [
            "['닥터스트레인지', '스플릿', '럭키', '배트맨']\n",
            "['닥터스트레인지', '슈퍼맨', '스플릿', '럭키', '배트맨']\n"
          ]
        }
      ]
    },
    {
      "cell_type": "markdown",
      "source": [
        "##54. del 메소드\n",
        "\n",
        "  del 변수명[인덱스]를 통해 원하는 원소를 삭제할 수 있다.\n",
        "\n",
        "  movie_rank 리스트에서 '럭키'를 삭제해라.\n",
        "\n",
        "  movie_rank=[\"닥터스트레인지\",\"슈퍼맨\",\"스플릿\",\"럭키\",\"배트맨\"]\n"
      ],
      "metadata": {
        "id": "jSsdC6uALbSd"
      }
    },
    {
      "cell_type": "code",
      "source": [
        "movie_rank=[\"닥터스트레인지\",\"슈퍼맨\",\"스플릿\",\"럭키\",\"배트맨\"]\n",
        "del movie_rank[3]\n",
        "print(movie_rank)"
      ],
      "metadata": {
        "id": "aWqoqqf2LbYf",
        "colab": {
          "base_uri": "https://localhost:8080/"
        },
        "outputId": "d9454ef0-0a0a-403b-a94d-7eea71af65e4"
      },
      "execution_count": null,
      "outputs": [
        {
          "output_type": "stream",
          "name": "stdout",
          "text": [
            "['닥터스트레인지', '슈퍼맨', '스플릿', '배트맨']\n"
          ]
        }
      ]
    },
    {
      "cell_type": "markdown",
      "source": [
        "##55. del 메소드\n",
        "\n",
        "  movie_rank 리스트에서 '스플릿과 '배트맨'을 삭제해라.\n",
        "\n",
        "  movie_rank=[\"닥터스트레인지\",\"슈퍼맨\",\"스플릿\",\"럭키\",\"배트맨\"]"
      ],
      "metadata": {
        "id": "0NKU6G_xLbcx"
      }
    },
    {
      "cell_type": "code",
      "source": [
        "movie_rank=[\"닥터스트레인지\",\"슈퍼맨\",\"스플릿\",\"배트맨\"]\n",
        "del movie_rank[2]\n",
        "del movie_rank[2]\n",
        "print(movie_rank)"
      ],
      "metadata": {
        "id": "Q1Ob8NDRLbh8",
        "colab": {
          "base_uri": "https://localhost:8080/"
        },
        "outputId": "5c56c21f-d432-4385-f37f-cec1f01a4dce"
      },
      "execution_count": null,
      "outputs": [
        {
          "output_type": "stream",
          "name": "stdout",
          "text": [
            "['닥터스트레인지', '슈퍼맨']\n"
          ]
        }
      ]
    },
    {
      "cell_type": "markdown",
      "source": [
        "## 56. 리스트 연산\n",
        "\n",
        "  lang1과 lang2 리스트가 있을 때 lang1과 lang2의 원소를 모두 갖고 있는 langs 리스트를 만들어라.\n",
        "\n",
        "  lang1=[\"C\",\"C++\",\"Java\"]\n",
        "\n",
        "  lang2=[\"Python\",\"Go\",\"C#\"]"
      ],
      "metadata": {
        "id": "XTyQd7LILbmg"
      }
    },
    {
      "cell_type": "code",
      "source": [
        "lang1=[\"C\",\"C++\",\"Java\"]\n",
        "lang2=[\"Python\",\"Go\",\"C#\"]\n",
        "langs=lang1+lang2\n",
        "print(langs)\n"
      ],
      "metadata": {
        "id": "7vLZngjbLbq_",
        "colab": {
          "base_uri": "https://localhost:8080/"
        },
        "outputId": "10013879-692e-460d-fc2a-5e2427d07fb9"
      },
      "execution_count": null,
      "outputs": [
        {
          "output_type": "stream",
          "name": "stdout",
          "text": [
            "['C', 'C++', 'Java', 'Python', 'Go', 'C#']\n"
          ]
        }
      ]
    },
    {
      "cell_type": "markdown",
      "source": [
        "##57. 리스트 최댓값, 최솟값\n",
        "\n",
        "  max(list), min(list) 함수를 통해 최대 최소값을 구할수 있다.\n",
        "\n",
        "  다음 리스트에서 최댓값과 최솟값을 출력하라.\n",
        "\n",
        "  nums=[1,2,3,4,5,6,7,10]"
      ],
      "metadata": {
        "id": "HWQ6a3-TLbvm"
      }
    },
    {
      "cell_type": "code",
      "source": [
        "\n",
        "nums=[1,2,3,4,5,6,7,10]\n",
        "print(max(nums))\n",
        "print(min(nums))\n"
      ],
      "metadata": {
        "id": "yk11XxEzLb0J",
        "colab": {
          "base_uri": "https://localhost:8080/"
        },
        "outputId": "a2f92b47-06bf-4b26-ef11-85850138c18d"
      },
      "execution_count": null,
      "outputs": [
        {
          "output_type": "stream",
          "name": "stdout",
          "text": [
            "10\n",
            "1\n"
          ]
        }
      ]
    },
    {
      "cell_type": "markdown",
      "source": [
        "##58. 리스트 합 sum()\n",
        "\n",
        "  sum()함수를 통해 리스트의 값들을 합할수 있다.\n",
        "\n",
        "  다음 리스트의 합을 출력하라.\n",
        "  nums=[1,2,3,4,5]"
      ],
      "metadata": {
        "id": "jmpYZpP4Lb5U"
      }
    },
    {
      "cell_type": "code",
      "source": [
        "nums=[1,2,3,4,5]\n",
        "print(sum(nums))"
      ],
      "metadata": {
        "id": "vF1GLDj6Lb94",
        "colab": {
          "base_uri": "https://localhost:8080/"
        },
        "outputId": "5f1b7d00-91f7-4090-d073-f4776ab27e76"
      },
      "execution_count": null,
      "outputs": [
        {
          "output_type": "stream",
          "name": "stdout",
          "text": [
            "15\n"
          ]
        }
      ]
    },
    {
      "cell_type": "markdown",
      "source": [
        "##59. 리스트 길이 len()\n",
        "  \n",
        "  len()을 통해 리스트의 길이(갯수)를 알 수 있다.\n",
        "\n",
        "  다음 리스트에 저장된 데이터의 개수를 화면에 구하라.\n",
        "\n",
        "  cook=[\"피자\",\"김밥\",\"만두\",\"양념치킨\",\"족발\"]\n"
      ],
      "metadata": {
        "id": "1RVSXOc4LcCc"
      }
    },
    {
      "cell_type": "code",
      "source": [
        "cook=[\"피자\",\"김밥\",\"만두\",\"양념치킨\",\"족발\"]\n",
        "print(len(cook))"
      ],
      "metadata": {
        "id": "bt4knjhwLcHS",
        "colab": {
          "base_uri": "https://localhost:8080/"
        },
        "outputId": "b8ee4e48-5b58-4743-9e14-86f28f498522"
      },
      "execution_count": null,
      "outputs": [
        {
          "output_type": "stream",
          "name": "stdout",
          "text": [
            "5\n"
          ]
        }
      ]
    },
    {
      "cell_type": "markdown",
      "source": [
        "##60. 리스트 평균\n",
        "\n",
        "  다음 리스트의 평균을 출력하라.\n",
        "\n",
        "  nums=[1,2,3,,4,5]\n"
      ],
      "metadata": {
        "id": "QedvomtpLcMr"
      }
    },
    {
      "cell_type": "code",
      "source": [
        "nums=[1,2,3,4,5]\n",
        "average=sum(nums)/len(nums)\n",
        "print(average)"
      ],
      "metadata": {
        "id": "ebBZZMXyLcR8",
        "colab": {
          "base_uri": "https://localhost:8080/"
        },
        "outputId": "638ffa2c-dfa3-431c-89bc-d6fc4421f499"
      },
      "execution_count": null,
      "outputs": [
        {
          "output_type": "stream",
          "name": "stdout",
          "text": [
            "3.0\n"
          ]
        }
      ]
    },
    {
      "cell_type": "markdown",
      "source": [
        "##61. 리스트 슬라이스\n",
        "\n",
        "  price변수에는 날짜와 종가 정보가 저장돼 있다. 날짜 정보를 제외하고 가격 정보만을 출력해라.\n",
        "\n",
        "  price=[\"20180728\", 100, 130, 140, 150, 160, 170]"
      ],
      "metadata": {
        "id": "SL4IYi7AUcTS"
      }
    },
    {
      "cell_type": "code",
      "source": [
        "price = [\"20180728\", 100, 130, 140, 150, 160, 170]\n",
        "print(price[1:])"
      ],
      "metadata": {
        "id": "XLYJlY-VUddG",
        "colab": {
          "base_uri": "https://localhost:8080/"
        },
        "outputId": "ffc6cb65-7acd-434f-ebc4-d0ee5c79dbe3"
      },
      "execution_count": null,
      "outputs": [
        {
          "output_type": "stream",
          "name": "stdout",
          "text": [
            "[100, 130, 140, 150, 160, 170]\n"
          ]
        }
      ]
    },
    {
      "cell_type": "markdown",
      "source": [
        "##62. 리스트 슬라이싱\n",
        "\n",
        "  슬라이싱을 사용해서 홀수만 출력하라.\n",
        "  \n"
      ],
      "metadata": {
        "id": "Y5Lj-g3UUdkl"
      }
    },
    {
      "cell_type": "code",
      "source": [
        "num=[1,2,3,4,5,6,7,8,9,10]\n",
        "print(num[0::2])"
      ],
      "metadata": {
        "id": "Rn4Hld-tUdqM",
        "colab": {
          "base_uri": "https://localhost:8080/"
        },
        "outputId": "d64ba814-09a5-46dd-dd0e-7cc633a2b31d"
      },
      "execution_count": null,
      "outputs": [
        {
          "output_type": "stream",
          "name": "stdout",
          "text": [
            "[1, 3, 5, 7, 9]\n"
          ]
        }
      ]
    },
    {
      "cell_type": "markdown",
      "source": [
        "##63. 리스트 슬라이싱\n",
        "\n",
        "    슬라이싱을 사용해서 짝수만 출력하라.\n",
        "  \n",
        "    num=[1,2,3,4,5,6,7,8,9,10]\n"
      ],
      "metadata": {
        "id": "jd97D_TdUdxG"
      }
    },
    {
      "cell_type": "code",
      "source": [
        "num=[1,2,3,4,5,6,7,8,9,10]\n",
        "print(num[1::2])"
      ],
      "metadata": {
        "id": "qBvHoiSdUd3D",
        "colab": {
          "base_uri": "https://localhost:8080/"
        },
        "outputId": "7e631c4b-75db-46ed-b7c1-cd2c1163598c"
      },
      "execution_count": null,
      "outputs": [
        {
          "output_type": "stream",
          "name": "stdout",
          "text": [
            "[2, 4, 6, 8, 10]\n"
          ]
        }
      ]
    },
    {
      "cell_type": "markdown",
      "source": [
        "##64. 리스트 슬라이싱\n",
        "\n",
        "  슬라이싱을 사용해서 리스트이 숫자를 역 방향으로 출력하라."
      ],
      "metadata": {
        "id": "dtdHwytPUd84"
      }
    },
    {
      "cell_type": "code",
      "source": [
        "num=[1,2,3,4,5,6,7,8,9,10]\n",
        "print(num[::-1])"
      ],
      "metadata": {
        "id": "pskvC0pAUeBH",
        "colab": {
          "base_uri": "https://localhost:8080/"
        },
        "outputId": "03e17acd-e867-49f9-86ad-c71bd99bf079"
      },
      "execution_count": null,
      "outputs": [
        {
          "output_type": "stream",
          "name": "stdout",
          "text": [
            "[10, 9, 8, 7, 6, 5, 4, 3, 2, 1]\n"
          ]
        }
      ]
    },
    {
      "cell_type": "markdown",
      "source": [
        "## 65. 리스트 슬라이싱\n",
        "\n",
        "interest 리스트에는 아래의 데이터가 바인딩되어 있다.\n",
        "\n",
        "interest=['삼성전자', 'LG전자', 'Naver']\n",
        "\n",
        "출력결과) 삼성전자 Naver"
      ],
      "metadata": {
        "id": "9OQCxn_0UeF8"
      }
    },
    {
      "cell_type": "code",
      "source": [
        "interest=['삼성전자','LG전자','Naver']\n",
        "print(interest[::2])"
      ],
      "metadata": {
        "id": "poGM-nxVUeKL",
        "colab": {
          "base_uri": "https://localhost:8080/"
        },
        "outputId": "fa720cba-83f3-484f-aa0c-da916b60b4fd"
      },
      "execution_count": null,
      "outputs": [
        {
          "output_type": "stream",
          "name": "stdout",
          "text": [
            "['삼성전자', 'Naver']\n"
          ]
        }
      ]
    },
    {
      "cell_type": "markdown",
      "source": [
        "##66. join 메소드\n",
        "\n",
        "  join()함수는 리스트를 하나의 문자열로 합쳐주는 역할을 한다.\n",
        "  \n",
        "\n",
        "  interest 리스트에는 아래의 데이터가 바인딩되어 있다.\n",
        "\n",
        "  interest=[\"삼성전자\",\"LG전자\",'Naver','SK하이닉스','미래에셋대우']\n",
        "\n",
        "  interst 리스트를 사용해서 아래와 같이 화면에 출력하라.\n",
        "\n",
        "  출력결과) 삼성전자 LG전자 SK 하이닉스 미래에셋대우\n"
      ],
      "metadata": {
        "id": "sJpvGbiVUePd"
      }
    },
    {
      "cell_type": "code",
      "source": [
        "interest=[\"삼성전자\",\"LG전자\",'Naver','SK하이닉스','미래에셋대우']\n",
        "print(interest)\n",
        "print(\" \".join(interest))"
      ],
      "metadata": {
        "id": "be1ukT15UeTL",
        "colab": {
          "base_uri": "https://localhost:8080/"
        },
        "outputId": "bc43de2a-fa53-4ae7-9103-d4389be715d3"
      },
      "execution_count": null,
      "outputs": [
        {
          "output_type": "stream",
          "name": "stdout",
          "text": [
            "['삼성전자', 'LG전자', 'Naver', 'SK하이닉스', '미래에셋대우']\n",
            "삼성전자 LG전자 Naver SK하이닉스 미래에셋대우\n"
          ]
        }
      ]
    },
    {
      "cell_type": "markdown",
      "source": [
        "##67. join 메소드\n",
        "  \n",
        "  interest 리스트에는 아래의 데이터가 바인딩되어 있다.\n",
        "  \n",
        "  interest=[\"삼성전자\",\"LG전자\",'Naver','SK하이닉스','미래에셋대우']\n",
        "  \n",
        "  interest 리스트를 사용하여 아래와 같이 화면에 출력하라.\n",
        "  \n",
        "  출력결과)삼성전자/LG전자/Naver/SK하이닉스/미래에셋대우"
      ],
      "metadata": {
        "id": "ejy7hg6kUeY4"
      }
    },
    {
      "cell_type": "code",
      "source": [
        "interest=[\"삼성전자\",\"LG전자\",'Naver','SK하이닉스','미래에셋대우']\n",
        "print(interest)\n",
        "print(\"/\".join(interest))"
      ],
      "metadata": {
        "id": "Y_bD18wCUedD",
        "colab": {
          "base_uri": "https://localhost:8080/"
        },
        "outputId": "75c5560e-43c1-476f-c1fb-68a94106bfc8"
      },
      "execution_count": null,
      "outputs": [
        {
          "output_type": "stream",
          "name": "stdout",
          "text": [
            "['삼성전자', 'LG전자', 'Naver', 'SK하이닉스', '미래에셋대우']\n",
            "삼성전자/LG전자/Naver/SK하이닉스/미래에셋대우\n"
          ]
        }
      ]
    },
    {
      "cell_type": "markdown",
      "source": [
        "##68. join 메소드\n",
        "  \n",
        "  interest 리스트에는 아래의 데이터가 바인딩되어 있다.\n",
        "  \n",
        "  interest=[\"삼성전자\",\"LG전자\",'Naver','SK하이닉스','미래에셋대우']\n",
        "  \n",
        "  interest 리스트를 사용하여 아래와 같이 화면에 출력하라.\n",
        "  \n",
        "  출력결과)\n",
        "\n",
        "  삼성전자  \n",
        "  \n",
        "  LG전자\n",
        "  \n",
        "  Naver\n",
        "  \n",
        "  SK하이닉스\n",
        "  \n",
        "  미래에셋대우"
      ],
      "metadata": {
        "id": "8-NVHpApUeib"
      }
    },
    {
      "cell_type": "code",
      "source": [
        "interest=[\"삼성전자\",\"LG전자\",'Naver','SK하이닉스','미래에셋대우']\n",
        "print(interest)\n",
        "print(\"\\n\".join(interest))"
      ],
      "metadata": {
        "id": "m-gM_1uBUemf",
        "colab": {
          "base_uri": "https://localhost:8080/"
        },
        "outputId": "2df7f8b4-4ca4-4249-e84c-c3dab4befd0c"
      },
      "execution_count": null,
      "outputs": [
        {
          "output_type": "stream",
          "name": "stdout",
          "text": [
            "['삼성전자', 'LG전자', 'Naver', 'SK하이닉스', '미래에셋대우']\n",
            "삼성전자\n",
            "LG전자\n",
            "Naver\n",
            "SK하이닉스\n",
            "미래에셋대우\n"
          ]
        }
      ]
    },
    {
      "cell_type": "markdown",
      "source": [
        "##69. split 메소드\n",
        "  \n",
        "  join()함수와 반대로 spli()함수는 하나의 문자열을 나눠서 리스트화 시킨다.\n",
        "\n",
        "  회사 이름이 슬래시로 구분되어 하나의 문자열로 저장되어 있다.\n",
        "\n",
        "  string=\"삼성전자/LG전자/Naver\"\n",
        "  이를 interest 이름의 리스트로 분리 저장하라.\n"
      ],
      "metadata": {
        "id": "g-vAcrnYUerP"
      }
    },
    {
      "cell_type": "code",
      "source": [
        "string=\"삼성전자/LG전자/Naver\"\n",
        "print(string.split(\"/\"))"
      ],
      "metadata": {
        "id": "Cj1xpB2GUevq",
        "colab": {
          "base_uri": "https://localhost:8080/"
        },
        "outputId": "175772cd-1ebb-464b-d37c-4d9e9230be36"
      },
      "execution_count": null,
      "outputs": [
        {
          "output_type": "stream",
          "name": "stdout",
          "text": [
            "['삼성전자', 'LG전자', 'Naver']\n"
          ]
        }
      ]
    },
    {
      "cell_type": "markdown",
      "source": [
        "##70. 리스트 정렬\n",
        "\n",
        "  list.sort()함수 혹은 sorted()로 오름차순 정렬이 가능하\n",
        "  다.\n",
        "  sort(reverse=1)로 하면 내림차순 정렬이 가능하다\n",
        "  리스트에 있는 값을 오름차순으로 정렬하세요.\n",
        "\n",
        "  data=[2,4,3,1,5,10,9]"
      ],
      "metadata": {
        "id": "fWJ3-ihHur5z"
      }
    },
    {
      "cell_type": "code",
      "source": [
        "data=[2,4,3,1,5,10,9]\n",
        "data.sort()\n",
        "print(data)\n",
        "\n",
        "data2=[2,4,3,1,5,10,9]\n",
        "data2= sorted(data2)\n",
        "print(data2)"
      ],
      "metadata": {
        "colab": {
          "base_uri": "https://localhost:8080/"
        },
        "id": "pu6-spONusDj",
        "outputId": "50b30572-4c03-4118-a064-fa6d399e087f"
      },
      "execution_count": null,
      "outputs": [
        {
          "output_type": "stream",
          "name": "stdout",
          "text": [
            "[1, 2, 3, 4, 5, 9, 10]\n",
            "[1, 2, 3, 4, 5, 9, 10]\n"
          ]
        }
      ]
    },
    {
      "cell_type": "markdown",
      "source": [
        "# 05.파이썬 튜플\n",
        "\n",
        "파이썬 튜플은 순서가 있지만 수정이 불가능한 자료구조다.\n",
        "리스트는 []로 묶여있다면 튜플은 ()로 묶여있다."
      ],
      "metadata": {
        "id": "k5DYbWWIJxpz"
      }
    },
    {
      "cell_type": "markdown",
      "source": [
        "##71. 튜플 생성\n",
        "\n",
        "  my_variable 이름의 비어있는 튜플을 만들라"
      ],
      "metadata": {
        "id": "ZpSEx5GQyjsX"
      }
    },
    {
      "cell_type": "code",
      "source": [
        "my_variable=()\n",
        "print(type(my_variable))"
      ],
      "metadata": {
        "colab": {
          "base_uri": "https://localhost:8080/"
        },
        "id": "6s8jsVP1yjwd",
        "outputId": "95f681a1-168d-4855-ce88-67c5b01d65a6"
      },
      "execution_count": null,
      "outputs": [
        {
          "output_type": "stream",
          "name": "stdout",
          "text": [
            "<class 'tuple'>\n"
          ]
        }
      ]
    },
    {
      "cell_type": "markdown",
      "source": [
        "##72. 튜플 생성\n",
        "\n",
        "  2016년 11월 영화 예매 순위 기준 top3는 다음과 같다. 영화 제목을 movie_rank 이름의 튜플에 저장해봐라.(순위 정보는 저장하지 않는다.)\n",
        "\n",
        "\n",
        "> | 항목 | 값 |\n",
        "|---|---------|\n",
        "| 1 | 닥터스트레인지 | \n",
        "| 2 | 스플릿|\n",
        "| 3 | 럭키 |\n",
        "\n",
        "\n",
        "\n",
        "\n",
        "\n",
        "\n",
        "\n"
      ],
      "metadata": {
        "id": "dJDpgpAtyj3A"
      }
    },
    {
      "cell_type": "code",
      "source": [
        "movie_rank=('닥터스트레인지','스플릿','럭키')\n",
        "print(movie_rank)"
      ],
      "metadata": {
        "colab": {
          "base_uri": "https://localhost:8080/"
        },
        "id": "EB-JE9_xyj5P",
        "outputId": "ad3b0789-08e5-4ff1-a321-9e0547e75668"
      },
      "execution_count": null,
      "outputs": [
        {
          "output_type": "stream",
          "name": "stdout",
          "text": [
            "('닥터스트레인지', '스플릿', '럭키')\n"
          ]
        }
      ]
    },
    {
      "cell_type": "markdown",
      "source": [
        "##73. 튜플 생성\n",
        "\n",
        "  숫자 1이 저장된 튜플을 생성하라."
      ],
      "metadata": {
        "id": "8LBWIUQwykJ3"
      }
    },
    {
      "cell_type": "code",
      "source": [
        "num=(1)\n",
        "print(num)\n",
        "print(type(num))\n",
        "\n",
        "#하나의 데이터가 저장되는 경우, 아래와 같이 쉼표를 입력해야한다.(튜플은 2개이상부터!)\n",
        "num=(1,)\n",
        "print(num)\n",
        "print(type(num))"
      ],
      "metadata": {
        "colab": {
          "base_uri": "https://localhost:8080/"
        },
        "id": "ozKmhz-zykMN",
        "outputId": "bda73425-6de1-4fa2-93f3-8d052dcdee81"
      },
      "execution_count": null,
      "outputs": [
        {
          "output_type": "stream",
          "name": "stdout",
          "text": [
            "1\n",
            "<class 'int'>\n",
            "(1,)\n",
            "<class 'tuple'>\n"
          ]
        }
      ]
    },
    {
      "cell_type": "markdown",
      "source": [
        "##74. 불변값 튜플\n",
        "\n",
        " 다음 코드를 실행해보고 오류가 발생하는 원인을 설명하라.\n"
      ],
      "metadata": {
        "id": "7uvg6mhe1ABw"
      }
    },
    {
      "cell_type": "code",
      "source": [
        "t=[1,2,3]\n",
        "t[0]='a'\n",
        "print(t)\n",
        "\n",
        "t=(1,2,3)\n",
        "t[0]='a'\n",
        "#튜플은 자료값이 바뀌지 않기 때문에 첫번째 요소가 'a'로 바뀌지 않는다.\n",
        "#반대로 리스트는 요소값을 바꿀수 있다.\n"
      ],
      "metadata": {
        "colab": {
          "base_uri": "https://localhost:8080/",
          "height": 263
        },
        "id": "vB5nGFK21AEe",
        "outputId": "9a0c6eb9-d3e3-4d0b-d280-d5b44b6f6873"
      },
      "execution_count": null,
      "outputs": [
        {
          "output_type": "stream",
          "name": "stdout",
          "text": [
            "['a', 2, 3]\n"
          ]
        },
        {
          "output_type": "error",
          "ename": "TypeError",
          "evalue": "ignored",
          "traceback": [
            "\u001b[0;31m---------------------------------------------------------------------------\u001b[0m",
            "\u001b[0;31mTypeError\u001b[0m                                 Traceback (most recent call last)",
            "\u001b[0;32m<ipython-input-155-59b8c7fc1518>\u001b[0m in \u001b[0;36m<module>\u001b[0;34m()\u001b[0m\n\u001b[1;32m      4\u001b[0m \u001b[0;34m\u001b[0m\u001b[0m\n\u001b[1;32m      5\u001b[0m \u001b[0mt\u001b[0m\u001b[0;34m=\u001b[0m\u001b[0;34m(\u001b[0m\u001b[0;36m1\u001b[0m\u001b[0;34m,\u001b[0m\u001b[0;36m2\u001b[0m\u001b[0;34m,\u001b[0m\u001b[0;36m3\u001b[0m\u001b[0;34m)\u001b[0m\u001b[0;34m\u001b[0m\u001b[0;34m\u001b[0m\u001b[0m\n\u001b[0;32m----> 6\u001b[0;31m \u001b[0mt\u001b[0m\u001b[0;34m[\u001b[0m\u001b[0;36m0\u001b[0m\u001b[0;34m]\u001b[0m\u001b[0;34m=\u001b[0m\u001b[0;34m'a'\u001b[0m\u001b[0;34m\u001b[0m\u001b[0;34m\u001b[0m\u001b[0m\n\u001b[0m\u001b[1;32m      7\u001b[0m \u001b[0;31m#튜플은 자료값이 바뀌지 않기 때문에 첫번째 요소가 'a'로 바뀌지 않는다.\u001b[0m\u001b[0;34m\u001b[0m\u001b[0;34m\u001b[0m\u001b[0;34m\u001b[0m\u001b[0m\n\u001b[1;32m      8\u001b[0m \u001b[0;31m#반대로 리스트는 요소값을 바꿀수 있다.\u001b[0m\u001b[0;34m\u001b[0m\u001b[0;34m\u001b[0m\u001b[0;34m\u001b[0m\u001b[0m\n",
            "\u001b[0;31mTypeError\u001b[0m: 'tuple' object does not support item assignment"
          ]
        }
      ]
    },
    {
      "cell_type": "markdown",
      "source": [
        "##75. 튜플 생성\n",
        "\n",
        "  아래와 같이 t에는 1,2,3,4 데이터가 바인딩되어 있다. t가 바인딩하는 데이터 타입은 무엇인가?"
      ],
      "metadata": {
        "id": "xyhWpSas1AIP"
      }
    },
    {
      "cell_type": "code",
      "source": [
        "t=1,2,3,4\n",
        "print(type(t))\n",
        "#원친적으로 튜플은 괄호와 함께 데이터를 정의해야 하지만, 사용자 편의를 위해 괄호없이도 동작한다."
      ],
      "metadata": {
        "colab": {
          "base_uri": "https://localhost:8080/"
        },
        "id": "sNeIcYFd1ALx",
        "outputId": "dbeee7b8-515e-4b3e-ce34-e806bf1077e8"
      },
      "execution_count": null,
      "outputs": [
        {
          "output_type": "stream",
          "name": "stdout",
          "text": [
            "<class 'tuple'>\n"
          ]
        }
      ]
    },
    {
      "cell_type": "markdown",
      "source": [
        "##76. 튜플 수정\n",
        "\n",
        "  변수 t에는 아래와 같은 값이 저장되어 있다. 변수t가('A','b','c') 튜플을 가리키도록 수정하라.\n",
        "\n",
        "  t=('a','b','c')"
      ],
      "metadata": {
        "id": "HCnKSNXq1APC"
      }
    },
    {
      "cell_type": "code",
      "source": [
        "t='a','b','c'\n",
        "t='A','b','c'\n",
        "print(t)\n",
        "#튜플은 수정이 안되므로 새로 정의해줘야된다."
      ],
      "metadata": {
        "colab": {
          "base_uri": "https://localhost:8080/"
        },
        "id": "2o64cfwW1AR-",
        "outputId": "88c79775-6cfc-432c-8773-325430bb26c4"
      },
      "execution_count": null,
      "outputs": [
        {
          "output_type": "stream",
          "name": "stdout",
          "text": [
            "('A', 'b', 'c')\n"
          ]
        }
      ]
    },
    {
      "cell_type": "markdown",
      "source": [
        "##77. 튜플과 리스트\n",
        "\n",
        "  다음 튜플을 리스트로 변환하라.\n",
        "  \n",
        "  interest=\"삼성전자\",\"LG전자\",'Naver','SK하이닉스','미래에셋대우'\n"
      ],
      "metadata": {
        "id": "nohUEFCy1AVT"
      }
    },
    {
      "cell_type": "code",
      "source": [
        "interest=\"삼성전자\",\"LG전자\",'Naver','SK하이닉스','미래에셋대우'\n",
        "list(interest)"
      ],
      "metadata": {
        "colab": {
          "base_uri": "https://localhost:8080/"
        },
        "id": "bUaFqYm01AYL",
        "outputId": "8607da36-f9a1-46fc-f7b7-da74a13ad066"
      },
      "execution_count": null,
      "outputs": [
        {
          "output_type": "execute_result",
          "data": {
            "text/plain": [
              "['삼성전자', 'LG전자', 'Naver', 'SK하이닉스', '미래에셋대우']"
            ]
          },
          "metadata": {},
          "execution_count": 158
        }
      ]
    },
    {
      "cell_type": "markdown",
      "source": [
        "##78. 튜플과 리스트\n",
        "\n",
        "  다음 리스트를 튜플로 변경하라.\n",
        "  \n",
        "  interest=[\"삼성전자\",\"LG전자\",'Naver','SK하이닉스','미래에셋대우']"
      ],
      "metadata": {
        "id": "5xVTqeGf1Aap"
      }
    },
    {
      "cell_type": "code",
      "source": [
        "interest=[\"삼성전자\",\"LG전자\",'Naver','SK하이닉스','미래에셋대우']\n",
        "tuple(interest)"
      ],
      "metadata": {
        "colab": {
          "base_uri": "https://localhost:8080/"
        },
        "id": "Ld5RjOiP1Adl",
        "outputId": "da3f77e2-93c7-4856-bc96-5e78a2361c94"
      },
      "execution_count": null,
      "outputs": [
        {
          "output_type": "execute_result",
          "data": {
            "text/plain": [
              "('삼성전자', 'LG전자', 'Naver', 'SK하이닉스', '미래에셋대우')"
            ]
          },
          "metadata": {},
          "execution_count": 160
        }
      ]
    },
    {
      "cell_type": "markdown",
      "source": [
        "##79. 튜플 언패킹\n",
        " \n",
        "  언패킹을 통해 튜플 요소값들을 각각 저장할수 있다.\n",
        "  다음 코드의 실행결과를 예상해라.\n",
        "\n",
        "  temp=('apple','banana','cake')\n",
        "\n",
        "  a,b,c,=temp\n",
        "\n",
        "  print(a,b,c)"
      ],
      "metadata": {
        "id": "ydIB4st81Afn"
      }
    },
    {
      "cell_type": "code",
      "source": [
        "temp=('apple','banana','cake')\n",
        "a,b,c=temp\n",
        "print(a,b,c)\n",
        "print(a)\n",
        "print(b)\n",
        "print(c)"
      ],
      "metadata": {
        "colab": {
          "base_uri": "https://localhost:8080/"
        },
        "id": "Vp68_N0L1AiV",
        "outputId": "84aed727-7a3e-4f60-b98f-b0773677c396"
      },
      "execution_count": null,
      "outputs": [
        {
          "output_type": "stream",
          "name": "stdout",
          "text": [
            "apple banana cake\n",
            "apple\n",
            "banana\n",
            "cake\n"
          ]
        }
      ]
    },
    {
      "cell_type": "markdown",
      "source": [
        "##80. range함수\n",
        "  tuple(range())을 통해 범위내 원소값을 가지는 튜플이 생성된다.\n",
        "  1부터 99까지 정수중 짝수만 저장된 튜플을 생성해라.\n"
      ],
      "metadata": {
        "id": "M5eha7E3570c"
      }
    },
    {
      "cell_type": "code",
      "source": [
        "num=tuple(range(2,100,2))\n",
        "print(num)"
      ],
      "metadata": {
        "colab": {
          "base_uri": "https://localhost:8080/"
        },
        "id": "QX8PQFwR572z",
        "outputId": "26776ea0-9577-4e64-b249-d79d7ead1290"
      },
      "execution_count": null,
      "outputs": [
        {
          "output_type": "stream",
          "name": "stdout",
          "text": [
            "(2, 4, 6, 8, 10, 12, 14, 16, 18, 20, 22, 24, 26, 28, 30, 32, 34, 36, 38, 40, 42, 44, 46, 48, 50, 52, 54, 56, 58, 60, 62, 64, 66, 68, 70, 72, 74, 76, 78, 80, 82, 84, 86, 88, 90, 92, 94, 96, 98)\n"
          ]
        }
      ]
    },
    {
      "cell_type": "markdown",
      "source": [
        "#06.파이썬 딕셔너리\n",
        "\n",
        "  파이썬 딕셔너리는 순서는 없지만 key와 value 형태로 데이터를 저장한다. 특히 key는 데이터의 레이블을 지정하는 용도로 자주 사용된다. 딕셔너리는 {}로 정의한다."
      ],
      "metadata": {
        "id": "HV6PZOkgJxyh"
      }
    },
    {
      "cell_type": "markdown",
      "source": [
        "##81. 별 표현식1\n",
        "\n",
        "   기본적으로 데이터 언패킹은 좌변의 변수와 우변 데이터 개수가 같아야 한다다. 하지만 star experssion을 사용하면 변수의 개수가 달라도 데이터의 언패킹을 할 수 있다. 튜플에 저장된 데이터 중에서 앞에 있는 두개의 데이터만 필요할 경우 나머지 데이터의 언패킹 코드를 작성할 필요가 없다."
      ],
      "metadata": {
        "id": "94Y__WCBsk4f"
      }
    },
    {
      "cell_type": "code",
      "source": [
        "a,*b,c=(0,1,2,3,4,5)\n",
        "print(a)\n",
        "print(b)\n",
        "print(c)\n",
        "a,b,*c=(0,1,2,3,4,5)\n",
        "print(a)\n",
        "print(b)\n",
        "print(c)"
      ],
      "metadata": {
        "colab": {
          "base_uri": "https://localhost:8080/"
        },
        "id": "D4BGmDBUsk77",
        "outputId": "2080cb3c-fc49-453f-8576-2d07674ce363"
      },
      "execution_count": 10,
      "outputs": [
        {
          "output_type": "stream",
          "name": "stdout",
          "text": [
            "0\n",
            "[1, 2, 3, 4]\n",
            "5\n",
            "0\n",
            "1\n",
            "[2, 3, 4, 5]\n"
          ]
        }
      ]
    },
    {
      "cell_type": "markdown",
      "source": [
        "다음과 같이 10개의 값이 저장된 scores  리스트가 있을 때, star expression을 사용하여 좌측 8개의 값을 valid_csore 변수에 바인딩하여라.\n",
        "\n",
        "scores=[8.8,8.9,9.2,9.3,9.7,9.9,9.5,7.8,9.4]\n"
      ],
      "metadata": {
        "id": "HHsZsNpZsk_v"
      }
    },
    {
      "cell_type": "code",
      "source": [
        "scores=[8.8,8.9,9.2,9.3,9.7,9.9,9.5,7.8,9.4]\n",
        "*valid_score,a,b=scores\n",
        "print(valid_score)"
      ],
      "metadata": {
        "colab": {
          "base_uri": "https://localhost:8080/"
        },
        "id": "3gAp_DVhslDj",
        "outputId": "e78a2f58-2c65-4b6b-a11f-18752ba8fd57"
      },
      "execution_count": 11,
      "outputs": [
        {
          "output_type": "stream",
          "name": "stdout",
          "text": [
            "[8.8, 8.9, 9.2, 9.3, 9.7, 9.9, 9.5]\n"
          ]
        }
      ]
    },
    {
      "cell_type": "markdown",
      "source": [
        "##82. 별 표현식2\n",
        "  \n",
        "  다음과 같이 10개의 값이 저장된 scores 리스트가 있을 때, star expression을 사용하여 우측 8개의 값을 valid_score 변수에 바인딩하여라.\n",
        "\n",
        "  scores=[8.8,8.9,9.2,9.3,9.7,9.9,9.5,7.8,9.4]"
      ],
      "metadata": {
        "id": "aeSD0YxNslGm"
      }
    },
    {
      "cell_type": "code",
      "source": [
        "scores=[8.8,8.9,9.2,9.3,9.7,9.9,9.5,7.8,9.4]\n",
        "a,b,*valid_score=scores\n",
        "print(valid_score)"
      ],
      "metadata": {
        "colab": {
          "base_uri": "https://localhost:8080/"
        },
        "id": "L9yiyb-uf2Jw",
        "outputId": "bf675de7-cbc9-4c40-a583-71f4d5675620"
      },
      "execution_count": 12,
      "outputs": [
        {
          "output_type": "stream",
          "name": "stdout",
          "text": [
            "[9.2, 9.3, 9.7, 9.9, 9.5, 7.8, 9.4]\n"
          ]
        }
      ]
    },
    {
      "cell_type": "markdown",
      "source": [
        "##83. 별 표현식3\n",
        "\n",
        "  다음과 같이 10개의 값이 저장된 scores 리스트가 있을 때, star expression을 사용하여 가운데 있는 8개의 값을 valid_score 변수에 바인딩하여라."
      ],
      "metadata": {
        "id": "D7FgPYWzfWbd"
      }
    },
    {
      "cell_type": "code",
      "source": [
        "scores=[8.8,8.9,9.2,9.3,9.7,9.9,9.5,7.8,9.4]\n",
        "a,*valid_score,b=scores\n",
        "print(valid_score)"
      ],
      "metadata": {
        "id": "VnlZgGFXslJn",
        "colab": {
          "base_uri": "https://localhost:8080/"
        },
        "outputId": "58e2b254-3933-466b-9bc9-dab3591136c8"
      },
      "execution_count": 13,
      "outputs": [
        {
          "output_type": "stream",
          "name": "stdout",
          "text": [
            "[8.9, 9.2, 9.3, 9.7, 9.9, 9.5, 7.8]\n"
          ]
        }
      ]
    },
    {
      "cell_type": "markdown",
      "source": [
        "##84. 비어있는 딕셔너리\n",
        "\n",
        "  temp 이름의 비어있는 딕셔너리를 만들라."
      ],
      "metadata": {
        "id": "fct2CyGWslL_"
      }
    },
    {
      "cell_type": "code",
      "source": [
        "temp={}\n",
        "print(type(temp))"
      ],
      "metadata": {
        "id": "lls17jLgslPi",
        "colab": {
          "base_uri": "https://localhost:8080/"
        },
        "outputId": "450c3cdc-390d-4272-f9bb-d357dd253876"
      },
      "execution_count": 9,
      "outputs": [
        {
          "output_type": "stream",
          "name": "stdout",
          "text": [
            "<class 'dict'>\n"
          ]
        }
      ]
    },
    {
      "cell_type": "markdown",
      "source": [
        "##85. 딕셔너리 생성\n",
        "\n",
        "  다음 아이스크림 이름과 희망 가격을 딕셔너리로 구성하라.\n",
        "  \n",
        "> | 이름 | 희망 가격 |\n",
        "|---|---------|\n",
        "| 메로나 | 1000 | \n",
        "| 폴라포 | 1200|\n",
        "| 빵빠레 | 1800 |\n"
      ],
      "metadata": {
        "id": "LpVFnzS0slRc"
      }
    },
    {
      "cell_type": "code",
      "source": [
        "tmp={\"메로나\":1000,\"폴라포\":1200,\"빵빠레\":1200}\n",
        "print(tmp)"
      ],
      "metadata": {
        "id": "rx7_ugHUslT8",
        "colab": {
          "base_uri": "https://localhost:8080/"
        },
        "outputId": "8e8a72f3-d79c-4a84-deed-2fad5927502b"
      },
      "execution_count": 16,
      "outputs": [
        {
          "output_type": "stream",
          "name": "stdout",
          "text": [
            "{'메로나': 1000, '폴라포': 1200, '빵빠레': 1200}\n"
          ]
        }
      ]
    },
    {
      "cell_type": "markdown",
      "source": [
        "##86. 딕셔너리 추가\n",
        "\n",
        "  85번의 딕셔너리에 아래 아이스크림 가격정보를 추가하라.\n",
        "  \n",
        "> | 이름 | 희망 가격 |\n",
        "|---|---------|\n",
        "| 죠스바 | 1200 | \n",
        "| 월드콘 | 1500|\n",
        "\n"
      ],
      "metadata": {
        "id": "XXJUDEcmslW1"
      }
    },
    {
      "cell_type": "code",
      "source": [
        "tmp={\"메로나\":1000,\"폴라포\":1200,\"빵빠레\":1200}\n",
        "print(tmp)\n",
        "tmp[\"죠스바\"]=1200\n",
        "tmp[\"월드콘\"]=1500\n",
        "print(tmp)"
      ],
      "metadata": {
        "id": "Rj-5yiDDslZJ",
        "colab": {
          "base_uri": "https://localhost:8080/"
        },
        "outputId": "265e9e77-3a6c-4796-d8a1-100f441e0c7a"
      },
      "execution_count": 18,
      "outputs": [
        {
          "output_type": "stream",
          "name": "stdout",
          "text": [
            "{'메로나': 1000, '폴라포': 1200, '빵빠레': 1200}\n",
            "{'메로나': 1000, '폴라포': 1200, '빵빠레': 1200, '죠스바': 1200, '월드콘': 1500}\n"
          ]
        }
      ]
    },
    {
      "cell_type": "markdown",
      "source": [
        "87. 딕셔너리 출력\n",
        "\n",
        "tmp={'메로나': 1000, '폴라포': 1200, '빵빠레': 1200, '죠스바': 1200, '월드콘': 1500}\n",
        "메로나 가격을 출력하라."
      ],
      "metadata": {
        "id": "pWQIGV3hsldE"
      }
    },
    {
      "cell_type": "code",
      "source": [
        "tmp={'메로나': 1000, '폴라포': 1200, '빵빠레': 1200, '죠스바': 1200, '월드콘': 1500}\n",
        "print(tmp[\"메로나\"])\n"
      ],
      "metadata": {
        "id": "xsVf0q9fslfK",
        "colab": {
          "base_uri": "https://localhost:8080/"
        },
        "outputId": "56c3625b-d24e-4347-c03d-a331cf70d38a"
      },
      "execution_count": 19,
      "outputs": [
        {
          "output_type": "stream",
          "name": "stdout",
          "text": [
            "1000\n"
          ]
        }
      ]
    },
    {
      "cell_type": "markdown",
      "source": [
        "88. 딕셔너리 수정\n",
        "\n",
        "tmp={'메로나': 1000, '폴라포': 1200, '빵빠레': 1200, '죠스바': 1200, '월드콘': 1500}\n",
        "\n",
        "다음 딕셔너리에서 메로나의 가격을 1300으로 수정하라."
      ],
      "metadata": {
        "id": "uLI7WQ0GsliY"
      }
    },
    {
      "cell_type": "code",
      "source": [
        "tmp={'메로나': 1000, '폴라포': 1200, '빵빠레': 1200, '죠스바': 1200, '월드콘': 1500}\n",
        "tmp[\"메로나\"]=1300\n",
        "print(tmp)\n"
      ],
      "metadata": {
        "id": "GarS2WWBslkl",
        "colab": {
          "base_uri": "https://localhost:8080/"
        },
        "outputId": "c6813383-32a8-4610-855c-6d3b96ddc6f6"
      },
      "execution_count": 20,
      "outputs": [
        {
          "output_type": "stream",
          "name": "stdout",
          "text": [
            "{'메로나': 1300, '폴라포': 1200, '빵빠레': 1200, '죠스바': 1200, '월드콘': 1500}\n"
          ]
        }
      ]
    },
    {
      "cell_type": "markdown",
      "source": [
        "##89. 딕셔너리 삭제\n",
        "tmp={'메로나': 1000, '폴라포': 1200, '빵빠레': 1200, '죠스바': 1200, '월드콘': 1500}\n",
        "\n",
        "다음 딕셔너리에서 메로나를 삭제하라.\n"
      ],
      "metadata": {
        "id": "EA7TRR1XjzSw"
      }
    },
    {
      "cell_type": "code",
      "source": [
        "tmp={'메로나': 1000, '폴라포': 1200, '빵빠레': 1200, '죠스바': 1200, '월드콘': 1500}\n",
        "del tmp[\"메로나\"]\n",
        "print(tmp)"
      ],
      "metadata": {
        "colab": {
          "base_uri": "https://localhost:8080/"
        },
        "id": "tKiE1Db7jzb9",
        "outputId": "4e386c42-aac6-430c-98cd-d2af73c26213"
      },
      "execution_count": 21,
      "outputs": [
        {
          "output_type": "stream",
          "name": "stdout",
          "text": [
            "{'폴라포': 1200, '빵빠레': 1200, '죠스바': 1200, '월드콘': 1500}\n"
          ]
        }
      ]
    },
    {
      "cell_type": "markdown",
      "source": [
        "##90. 오류검출\n",
        "\n",
        "다음 코드에서 에러가 발생한 원인을 설명하라."
      ],
      "metadata": {
        "id": "zOxhk_7ajziG"
      }
    },
    {
      "cell_type": "code",
      "source": [
        "tmp={'메로나': 1000, '폴라포': 1200, '빵빠레': 1200, '죠스바': 1200, '월드콘': 1500}\n",
        "tmp[\"누가바\"]\n",
        "\n",
        "#딕셔너리에 정의되지않았으므로 오류 발생한다,"
      ],
      "metadata": {
        "colab": {
          "base_uri": "https://localhost:8080/",
          "height": 227
        },
        "id": "H7mxCRq0jzlH",
        "outputId": "216c34a5-2e97-4baf-dbba-6eefd5caae9c"
      },
      "execution_count": 23,
      "outputs": [
        {
          "output_type": "error",
          "ename": "KeyError",
          "evalue": "ignored",
          "traceback": [
            "\u001b[0;31m---------------------------------------------------------------------------\u001b[0m",
            "\u001b[0;31mKeyError\u001b[0m                                  Traceback (most recent call last)",
            "\u001b[0;32m<ipython-input-23-5a0d31ef019b>\u001b[0m in \u001b[0;36m<module>\u001b[0;34m()\u001b[0m\n\u001b[1;32m      1\u001b[0m \u001b[0mtmp\u001b[0m\u001b[0;34m=\u001b[0m\u001b[0;34m{\u001b[0m\u001b[0;34m'메로나'\u001b[0m\u001b[0;34m:\u001b[0m \u001b[0;36m1000\u001b[0m\u001b[0;34m,\u001b[0m \u001b[0;34m'폴라포'\u001b[0m\u001b[0;34m:\u001b[0m \u001b[0;36m1200\u001b[0m\u001b[0;34m,\u001b[0m \u001b[0;34m'빵빠레'\u001b[0m\u001b[0;34m:\u001b[0m \u001b[0;36m1200\u001b[0m\u001b[0;34m,\u001b[0m \u001b[0;34m'죠스바'\u001b[0m\u001b[0;34m:\u001b[0m \u001b[0;36m1200\u001b[0m\u001b[0;34m,\u001b[0m \u001b[0;34m'월드콘'\u001b[0m\u001b[0;34m:\u001b[0m \u001b[0;36m1500\u001b[0m\u001b[0;34m}\u001b[0m\u001b[0;34m\u001b[0m\u001b[0;34m\u001b[0m\u001b[0m\n\u001b[0;32m----> 2\u001b[0;31m \u001b[0mtmp\u001b[0m\u001b[0;34m[\u001b[0m\u001b[0;34m\"누가바\"\u001b[0m\u001b[0;34m]\u001b[0m\u001b[0;34m\u001b[0m\u001b[0;34m\u001b[0m\u001b[0m\n\u001b[0m\u001b[1;32m      3\u001b[0m \u001b[0;34m\u001b[0m\u001b[0m\n\u001b[1;32m      4\u001b[0m \u001b[0;31m#딕셔너리에 정의되지않았으므로 오류 발생한다,\u001b[0m\u001b[0;34m\u001b[0m\u001b[0;34m\u001b[0m\u001b[0;34m\u001b[0m\u001b[0m\n",
            "\u001b[0;31mKeyError\u001b[0m: '누가바'"
          ]
        }
      ]
    },
    {
      "cell_type": "markdown",
      "source": [
        "#07.파이썬 if문\n",
        "\n"
      ],
      "metadata": {
        "id": "CoPu9GukJx8p"
      }
    },
    {
      "cell_type": "markdown",
      "source": [
        "#08.파이썬 반복문"
      ],
      "metadata": {
        "id": "rtBPpI06JwFZ"
      }
    },
    {
      "cell_type": "code",
      "source": [
        ""
      ],
      "metadata": {
        "id": "sSL03ApvKmuE"
      },
      "execution_count": null,
      "outputs": []
    },
    {
      "cell_type": "markdown",
      "source": [
        "# 09.파이썬 함수"
      ],
      "metadata": {
        "id": "2OraFzX3Kn0g"
      }
    },
    {
      "cell_type": "markdown",
      "source": [
        "#10.파이썬 모듈"
      ],
      "metadata": {
        "id": "4pJUgzADKoGE"
      }
    },
    {
      "cell_type": "markdown",
      "source": [
        "#11.파이썬 클래스"
      ],
      "metadata": {
        "id": "8s3JMN-VKoYY"
      }
    },
    {
      "cell_type": "markdown",
      "source": [
        "#12.파일 입출력과 예외처리"
      ],
      "metadata": {
        "id": "fu6wseAUKoiZ"
      }
    },
    {
      "cell_type": "code",
      "source": [
        ""
      ],
      "metadata": {
        "id": "tRH0bfAV5ADL"
      },
      "execution_count": null,
      "outputs": []
    }
  ]
}