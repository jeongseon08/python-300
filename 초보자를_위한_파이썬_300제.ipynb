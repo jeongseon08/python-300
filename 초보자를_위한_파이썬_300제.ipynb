{
  "nbformat": 4,
  "nbformat_minor": 0,
  "metadata": {
    "colab": {
      "name": "초보자를 위한 파이썬 300제.ipynb",
      "provenance": [],
      "collapsed_sections": [
        "PdIhMQGIJrVT",
        "aea7OG2TGly-",
        "sHYXc9OJHMwF",
        "TRvzbzSmI5jm",
        "Wp0SXD8jPyiU",
        "x4PK0acEIxWR",
        "6iSJp-g0IxpV",
        "ra4S1Z9eIx5v",
        "V136ej0CIyHV",
        "22VRFQahIIJa",
        "taiYc4lrc4tG",
        "7P_zfim3Jwzm",
        "j83gZSMXhA6d",
        "5XsPTV6VhhNG",
        "wBNtSs8ljy50",
        "qQw6IUJl1G9s",
        "X_8hmZ3j1HHw",
        "X4-B6DhE1HTZ",
        "SkZdS8Gx1HfR",
        "7HCSBJw51Hn0",
        "r53R2-n51Hvn",
        "GwUSJi4c1H2x",
        "BP-ydjcAJxIr",
        "JpviBVx9yzh0",
        "TUfcKkw68vsX",
        "kP_3T_Q78v5I",
        "5y30B9Kd8wC3",
        "Dz3m4KkC8wL5",
        "PyUKSPUs8wTW",
        "v2-6IYsZ8wZT",
        "AgNK03-d8wfd",
        "scBHIOC08wl4",
        "jaWnGQMN8wr7",
        "3nepqChS8wy_",
        "UxcM4c_W8w5d",
        "rXALvDwf8w-z",
        "GzavPgaS8xEs",
        "kXV3-sRd8xLI",
        "FKhcJ0V98xQQ",
        "iK-Sj6AFryIO",
        "D7YrhJFHryeq",
        "-JZI-g61rynj",
        "mBxiHe80ryv_",
        "p8mOORu9DWxb",
        "XhZxfx4BDXHm",
        "vHFyozN-DXPL",
        "hbxL1MMVDXen",
        "MoUVOi2GDXpc",
        "rCNe1VBeDXyj",
        "Fn9Lu60oDX4v",
        "SvXhcg5lDYGy",
        "dVrNMzwsDYOA",
        "hhrx00mdIgDK",
        "iYvfOcv0Ie1y",
        "J2p0FIpeLZ2q",
        "YwXh5V8CLbFf",
        "jSsdC6uALbSd",
        "0NKU6G_xLbcx",
        "XTyQd7LILbmg",
        "HWQ6a3-TLbvm",
        "jmpYZpP4Lb5U",
        "1RVSXOc4LcCc",
        "QedvomtpLcMr",
        "SL4IYi7AUcTS",
        "Y5Lj-g3UUdkl",
        "jd97D_TdUdxG",
        "dtdHwytPUd84",
        "9OQCxn_0UeF8",
        "sJpvGbiVUePd",
        "ejy7hg6kUeY4",
        "8-NVHpApUeib",
        "g-vAcrnYUerP",
        "fWJ3-ihHur5z",
        "ZpSEx5GQyjsX",
        "dJDpgpAtyj3A",
        "7uvg6mhe1ABw",
        "xyhWpSas1AIP",
        "HCnKSNXq1APC",
        "nohUEFCy1AVT",
        "5xVTqeGf1Aap",
        "ydIB4st81Afn",
        "M5eha7E3570c",
        "CoPu9GukJx8p",
        "rtBPpI06JwFZ",
        "2OraFzX3Kn0g",
        "4pJUgzADKoGE",
        "8s3JMN-VKoYY",
        "fu6wseAUKoiZ"
      ],
      "toc_visible": true,
      "authorship_tag": "ABX9TyPWScoaic2yRFOpnJIUus0Z",
      "include_colab_link": true
    },
    "kernelspec": {
      "name": "python3",
      "display_name": "Python 3"
    },
    "language_info": {
      "name": "python"
    }
  },
  "cells": [
    {
      "cell_type": "markdown",
      "metadata": {
        "id": "view-in-github",
        "colab_type": "text"
      },
      "source": [
        "<a href=\"https://colab.research.google.com/github/jeongseon08/python-300/blob/main/%EC%B4%88%EB%B3%B4%EC%9E%90%EB%A5%BC_%EC%9C%84%ED%95%9C_%ED%8C%8C%EC%9D%B4%EC%8D%AC_300%EC%A0%9C.ipynb\" target=\"_parent\"><img src=\"https://colab.research.google.com/assets/colab-badge.svg\" alt=\"Open In Colab\"/></a>"
      ]
    },
    {
      "cell_type": "markdown",
      "source": [
        "#00.Beginner 300\n",
        "\n",
        " 파이썬 기초 문법을 배웠다고 해서 누구나 프로그래밍에 익숙해지는 것은 아니다. 따라서 프로그래밍에 익숙해지기까지 많은 문제를 풀어보고 익숙해지는 것이 필요하다. 그러므로 위키독스에 있는 \"초보자를 위한 파이썬300제\"를 풀면서 기본문법에 대해 익숙해지기로 결심했다."
      ],
      "metadata": {
        "id": "xppRI6vx9t1B"
      }
    },
    {
      "cell_type": "markdown",
      "source": [
        "# 01.파이썬 시작하기\n",
        "print 함수\n",
        "\n",
        "**1)** sep(separation): 두 문자열 사이에 들어가는 문자\n",
        "ex) print('S','E','P',sep='!')\n",
        "=S!E!P\n",
        "\n",
        "**2)** end: 그 뒤의 출력값과 이어서 출력(줄바꿈X)\n",
        "ex) print('hello',end=\" \")\n",
        "    print('world!)\n",
        "= hello world!\n",
        "\n",
        "**3)** format: 포매팅을 통해 특정 서식에 따라 문자를 출력 부분적으로 문자열 바꾸어 반복적으로 출력할때 유용\n",
        "\n",
        "print(\"{}월{}일 입니다.\".format(10,31))\n",
        "=10월31일 입니다.\n",
        "**4)** escape: 파이썬 문법을 탈출하여 출력\n",
        "\n",
        "-\\n: 줄바꿈\n",
        "\n",
        "-\\t: 탭\n",
        "\n",
        "-\\b: 백스페이스\n",
        "\n",
        "-\\\\: \\ 출력\n",
        "\n",
        "-\\': ' 출력\n",
        "\n",
        "-\\\": \" 출력"
      ],
      "metadata": {
        "id": "PdIhMQGIJrVT"
      }
    },
    {
      "cell_type": "markdown",
      "source": [
        "##01. print 기초\n",
        "\n",
        "  화면에 **Hello World** 문자열을 출력해라."
      ],
      "metadata": {
        "id": "aea7OG2TGly-"
      }
    },
    {
      "cell_type": "code",
      "execution_count": 1,
      "metadata": {
        "id": "PB24XuFs9gYG",
        "colab": {
          "base_uri": "https://localhost:8080/"
        },
        "outputId": "9a15f98e-1de9-4caa-cdb7-cd8fa6a2f0bc"
      },
      "outputs": [
        {
          "output_type": "stream",
          "name": "stdout",
          "text": [
            "Hello World\n"
          ]
        }
      ],
      "source": [
        "print(\"Hello World\")"
      ]
    },
    {
      "cell_type": "markdown",
      "source": [
        "##2. print 기초\n",
        "\n",
        "  화면에 **Marry's cosmetics**을 출력해라.\n",
        "\n"
      ],
      "metadata": {
        "id": "sHYXc9OJHMwF"
      }
    },
    {
      "cell_type": "code",
      "source": [
        "print(\"Marry's cosmetics\")"
      ],
      "metadata": {
        "colab": {
          "base_uri": "https://localhost:8080/"
        },
        "id": "WzaN4pK6H65Z",
        "outputId": "08d78b1a-34fa-435a-8c61-7746e3e6b898"
      },
      "execution_count": 2,
      "outputs": [
        {
          "output_type": "stream",
          "name": "stdout",
          "text": [
            "Marry's cosmetics\n"
          ]
        }
      ]
    },
    {
      "cell_type": "markdown",
      "source": [
        "##3. print 기초\n",
        "\n",
        "  화면에 아래 문장을 출력해라.\n",
        "\n",
        "   **신씨가 소리질렀다. \"도둑이야.\"**\n",
        "\n"
      ],
      "metadata": {
        "id": "TRvzbzSmI5jm"
      }
    },
    {
      "cell_type": "code",
      "source": [
        "print('신씨가 소리질렀다. \"도둑이야\"')"
      ],
      "metadata": {
        "colab": {
          "base_uri": "https://localhost:8080/"
        },
        "id": "R6z1Ld6qLBAa",
        "outputId": "e5f5f993-22f7-4db5-adff-f878917829d8"
      },
      "execution_count": 3,
      "outputs": [
        {
          "output_type": "stream",
          "name": "stdout",
          "text": [
            "신씨가 소리질렀다. \"도둑이야\"\n"
          ]
        }
      ]
    },
    {
      "cell_type": "markdown",
      "source": [
        "##04. print 기초\n",
        "\n",
        "  화면에 **\"C:\\Windows\"**를 출력해라."
      ],
      "metadata": {
        "id": "Wp0SXD8jPyiU"
      }
    },
    {
      "cell_type": "code",
      "source": [
        "print('\"C:\\Windows\"')"
      ],
      "metadata": {
        "colab": {
          "base_uri": "https://localhost:8080/"
        },
        "id": "WP1JdfSFIbws",
        "outputId": "9ca671b6-7260-48f4-eb54-b861df5681c9"
      },
      "execution_count": 4,
      "outputs": [
        {
          "output_type": "stream",
          "name": "stdout",
          "text": [
            "\"C:\\Windows\"\n"
          ]
        }
      ]
    },
    {
      "cell_type": "markdown",
      "source": [
        "##05. print탭과 줄바꿈\n",
        "\n",
        "  다음 코드를 실행해보고 \\t와 \\n의 역할을 설명하라.\n",
        "\n",
        "    **print(\"안녕하세요.\\n만나서\\t\\t반갑습니다.\")**"
      ],
      "metadata": {
        "id": "x4PK0acEIxWR"
      }
    },
    {
      "cell_type": "code",
      "source": [
        "print(\"안녕하세요.\\n만나서\\t\\t반갑습니다.\")\n",
        "#\\n은 줄바꿈, \\t: tab간격 띄어쓰기를 의미한다.\n",
        "#*tab간격: 띄어쓰기 4칸"
      ],
      "metadata": {
        "colab": {
          "base_uri": "https://localhost:8080/"
        },
        "id": "qH7iQqREIxff",
        "outputId": "7b0cef46-fb8a-4531-f253-8b629e6fa714"
      },
      "execution_count": 5,
      "outputs": [
        {
          "output_type": "stream",
          "name": "stdout",
          "text": [
            "안녕하세요.\n",
            "만나서\t\t반갑습니다.\n"
          ]
        }
      ]
    },
    {
      "cell_type": "markdown",
      "source": [
        "##06. print 여러 데이터 출력\n",
        "\n",
        "  print 함수에 두개의 단어를 입력한 예제입니다. 아래 코드의 출력 결과를 예상하시오.\n",
        "\n",
        "  **priint(\"today\", \"sunday\")**"
      ],
      "metadata": {
        "id": "6iSJp-g0IxpV"
      }
    },
    {
      "cell_type": "code",
      "source": [
        "print(\"today\", \"sunday\")\n",
        "# 두단어는 하나의 줄에 공백한칸인 형태로 나타날것이다."
      ],
      "metadata": {
        "colab": {
          "base_uri": "https://localhost:8080/"
        },
        "id": "syqpjWdcIxxV",
        "outputId": "c638a791-28ac-496d-d82e-035d1a9981f8"
      },
      "execution_count": 6,
      "outputs": [
        {
          "output_type": "stream",
          "name": "stdout",
          "text": [
            "today sunday\n"
          ]
        }
      ]
    },
    {
      "cell_type": "markdown",
      "source": [
        "##07. print 기초\n",
        "\n",
        "  print()함수를 사용하여 다음과 같이 출력하세요.\n",
        "\n",
        "  **naver kakao sk samsung** 세개의 문자열의 공백을 ;으로 변경하라.\n",
        "  "
      ],
      "metadata": {
        "id": "ra4S1Z9eIx5v"
      }
    },
    {
      "cell_type": "code",
      "source": [
        "print(\"naver\",\"kakao\",\"sk\",\"samsung\")\n",
        "print(\"naver\",\"kakao\",\"sk\",\"samsung\", sep=\";\")"
      ],
      "metadata": {
        "colab": {
          "base_uri": "https://localhost:8080/"
        },
        "id": "gQEmqsWWIyBQ",
        "outputId": "9b18bf74-dcce-4c08-f125-7f8437f17d6b"
      },
      "execution_count": 7,
      "outputs": [
        {
          "output_type": "stream",
          "name": "stdout",
          "text": [
            "naver kakao sk samsung\n",
            "naver;kakao;sk;samsung\n"
          ]
        }
      ]
    },
    {
      "cell_type": "markdown",
      "source": [
        "##08. print 기초\n",
        "\n",
        "  7번 문제의 구분자를 /로 변경하시오."
      ],
      "metadata": {
        "id": "V136ej0CIyHV"
      }
    },
    {
      "cell_type": "code",
      "source": [
        "print(\"naver\",\"kakao\",\"sk\",\"samsung\", sep=\"/\")"
      ],
      "metadata": {
        "colab": {
          "base_uri": "https://localhost:8080/"
        },
        "id": "XLDuKF_rIyM9",
        "outputId": "758fc867-0b86-403a-aa53-422ab86b5899"
      },
      "execution_count": 8,
      "outputs": [
        {
          "output_type": "stream",
          "name": "stdout",
          "text": [
            "naver/kakao/sk/samsung\n"
          ]
        }
      ]
    },
    {
      "cell_type": "markdown",
      "source": [
        "##09. print 줄바꿈\n",
        "\n",
        "  다음 코드를 수정하여 줄바꿈 없이 출력해라. print 함수는 두번 사용합니다. \n",
        "  \n",
        "  *세미클론은 한줄에 여러개의 명령을 작성하기 위해 사용\n",
        "\n",
        "  print(\"first\");print(\"second\")"
      ],
      "metadata": {
        "id": "22VRFQahIIJa"
      }
    },
    {
      "cell_type": "code",
      "source": [
        "print(\"first\");print(\"second\")\n",
        "print(\"first\",end=\" \");print(\"second\")"
      ],
      "metadata": {
        "colab": {
          "base_uri": "https://localhost:8080/"
        },
        "id": "aUtBXXsZIGwh",
        "outputId": "e47aedfc-5f53-49e1-8672-2155108d0a15"
      },
      "execution_count": 9,
      "outputs": [
        {
          "output_type": "stream",
          "name": "stdout",
          "text": [
            "first\n",
            "second\n",
            "first second\n"
          ]
        }
      ]
    },
    {
      "cell_type": "markdown",
      "source": [
        "굵은 텍스트##10. 연산결과 출력\n",
        "\n",
        "   5/3의 결과를 화면에 출력하세요"
      ],
      "metadata": {
        "id": "taiYc4lrc4tG"
      }
    },
    {
      "cell_type": "code",
      "source": [
        "print(5/3)"
      ],
      "metadata": {
        "colab": {
          "base_uri": "https://localhost:8080/"
        },
        "id": "ex3kGX0Fc5Bb",
        "outputId": "68657f7e-be45-4fc4-8809-960bbda35df1"
      },
      "execution_count": 10,
      "outputs": [
        {
          "output_type": "stream",
          "name": "stdout",
          "text": [
            "1.6666666666666667\n"
          ]
        }
      ]
    },
    {
      "cell_type": "markdown",
      "source": [
        "#02.파이썬 변수\n",
        "변수는 자주 사용되는 값 바인딩"
      ],
      "metadata": {
        "id": "7P_zfim3Jwzm"
      }
    },
    {
      "cell_type": "markdown",
      "source": [
        "##11. 변수 사용하기\n",
        "\n",
        "  삼성전자라는 변수로 50,000원을 바인딩하고, 삼성전자 주식 10주를 보유하고 있을 때 총 평가금액을 출력해라."
      ],
      "metadata": {
        "id": "j83gZSMXhA6d"
      }
    },
    {
      "cell_type": "code",
      "source": [
        "삼성전자=50000\n",
        "총평가금액=10*삼성전자\n",
        "print(\"총 평가금액:\",총평가금액)"
      ],
      "metadata": {
        "colab": {
          "base_uri": "https://localhost:8080/"
        },
        "id": "Zd95fZrZhCK5",
        "outputId": "d998d732-5519-4215-862c-7b2ac0719d8c"
      },
      "execution_count": 11,
      "outputs": [
        {
          "output_type": "stream",
          "name": "stdout",
          "text": [
            "총 평가금액: 500000\n"
          ]
        }
      ]
    },
    {
      "cell_type": "markdown",
      "source": [
        "##12. 변수 사용하기\n",
        "\n",
        "  다음표는 삼성전자의 일부 투자정보다. 변수를 사용해서 시가총액, 현재가, PER 등을 바인딩해라\n",
        "\n",
        "\n",
        "\n",
        "> | 항목     | 값       |   |   |   |\n",
        "|----------|----------|---|---|---|\n",
        "| 시가총액 | 298조    |   |   |   |\n",
        "| 현재가   | 50,000원 |   |   |   |\n",
        "| PER      | 15.79    |   |   |   |\n",
        "\n",
        "\n"
      ],
      "metadata": {
        "id": "5XsPTV6VhhNG"
      }
    },
    {
      "cell_type": "code",
      "source": [
        "시가총액=298e12\n",
        "print(시가총액,type(시가총액))\n",
        "현재가=50000\n",
        "print(현재가,type(현재가))\n",
        "PER=15.79\n",
        "print(PER,type(PER))\n"
      ],
      "metadata": {
        "colab": {
          "base_uri": "https://localhost:8080/"
        },
        "id": "yP5pH2mchr2p",
        "outputId": "8426aed6-f3bb-4c8b-8140-f7f46539af51"
      },
      "execution_count": 12,
      "outputs": [
        {
          "output_type": "stream",
          "name": "stdout",
          "text": [
            "298000000000000.0 <class 'float'>\n",
            "50000 <class 'int'>\n",
            "15.79 <class 'float'>\n"
          ]
        }
      ]
    },
    {
      "cell_type": "markdown",
      "source": [
        "##13. 문자열 출력\n",
        "\n",
        "  두 변수를 이용하여 아래와 같이 출력하시오.\n",
        "\n",
        "x=\"hello\" y=\"python\" 출력할 문자열: hello! python"
      ],
      "metadata": {
        "id": "wBNtSs8ljy50"
      }
    },
    {
      "cell_type": "code",
      "source": [
        "x=\"hello\"\n",
        "y=\"python\"\n",
        "print(x+\"!\", y)"
      ],
      "metadata": {
        "id": "7IRla1F0jzEq",
        "colab": {
          "base_uri": "https://localhost:8080/"
        },
        "outputId": "fdd5ab07-5fb9-462a-9f3c-81360b8adf6a"
      },
      "execution_count": 13,
      "outputs": [
        {
          "output_type": "stream",
          "name": "stdout",
          "text": [
            "hello! python\n"
          ]
        }
      ]
    },
    {
      "cell_type": "markdown",
      "source": [
        "##14. 파이썬을 이용한 값 계산\n",
        "\n",
        "  2+2*3의 코드 실행 결과를 예상하시오."
      ],
      "metadata": {
        "id": "qQw6IUJl1G9s"
      }
    },
    {
      "cell_type": "code",
      "source": [
        "print(2+2*3)\n",
        "#문자열 연산이므로 결과는 8"
      ],
      "metadata": {
        "colab": {
          "base_uri": "https://localhost:8080/"
        },
        "id": "DlRr7amA1HBu",
        "outputId": "df48fb00-1ff7-4fe2-812a-6b2ef48db900"
      },
      "execution_count": 14,
      "outputs": [
        {
          "output_type": "stream",
          "name": "stdout",
          "text": [
            "8\n"
          ]
        }
      ]
    },
    {
      "cell_type": "markdown",
      "source": [
        "##15. type 함수\n",
        "\n",
        "  아래 변수에 바인딩된 값의 타입을 판별하시오.\n",
        "  \n",
        "  a= 132"
      ],
      "metadata": {
        "id": "X_8hmZ3j1HHw"
      }
    },
    {
      "cell_type": "code",
      "source": [
        "a=132\n",
        "print(type(a))"
      ],
      "metadata": {
        "id": "LAK13QYk1HN1",
        "colab": {
          "base_uri": "https://localhost:8080/"
        },
        "outputId": "15753ece-f176-4818-83cc-37b402584076"
      },
      "execution_count": 15,
      "outputs": [
        {
          "output_type": "stream",
          "name": "stdout",
          "text": [
            "<class 'int'>\n"
          ]
        }
      ]
    },
    {
      "cell_type": "markdown",
      "source": [
        "##16. 문자열을 정수로 변환\n",
        "\n",
        "  문자열 '720'를 정수형으로 변환하시오."
      ],
      "metadata": {
        "id": "X4-B6DhE1HTZ"
      }
    },
    {
      "cell_type": "code",
      "source": [
        "s=\"720\"\n",
        "a=int(s)\n",
        "print(type(a))"
      ],
      "metadata": {
        "id": "fB0miY1U1HZU",
        "colab": {
          "base_uri": "https://localhost:8080/"
        },
        "outputId": "61f7118c-5e9c-4aa5-d391-df880d8fdbcd"
      },
      "execution_count": 16,
      "outputs": [
        {
          "output_type": "stream",
          "name": "stdout",
          "text": [
            "<class 'int'>\n"
          ]
        }
      ]
    },
    {
      "cell_type": "markdown",
      "source": [
        "##17. 정수를 문자열 100으로 변환\n",
        "\n",
        "  정수 100을 문자열'100'으로 변환하시오"
      ],
      "metadata": {
        "id": "SkZdS8Gx1HfR"
      }
    },
    {
      "cell_type": "code",
      "source": [
        "num=100\n",
        "result = str(num)\n",
        "print(type(result))"
      ],
      "metadata": {
        "id": "0m9dRVp71Hjp",
        "colab": {
          "base_uri": "https://localhost:8080/"
        },
        "outputId": "6c4cb5a5-e866-4e99-f9bb-5358b3037758"
      },
      "execution_count": 17,
      "outputs": [
        {
          "output_type": "stream",
          "name": "stdout",
          "text": [
            "<class 'str'>\n"
          ]
        }
      ]
    },
    {
      "cell_type": "markdown",
      "source": [
        "##18. 문자열을 실수로 변환\n",
        "\n",
        "  문자열 \"15.79\"를 실수타입으로 변환하라."
      ],
      "metadata": {
        "id": "7HCSBJw51Hn0"
      }
    },
    {
      "cell_type": "code",
      "source": [
        "a=\"15.79\"\n",
        "b=float(a)\n",
        "print(b,type(b))"
      ],
      "metadata": {
        "id": "9Q-7XoUa1Hrb",
        "colab": {
          "base_uri": "https://localhost:8080/"
        },
        "outputId": "2c6cd217-5019-4161-a08e-2c38acf46dfb"
      },
      "execution_count": 18,
      "outputs": [
        {
          "output_type": "stream",
          "name": "stdout",
          "text": [
            "15.79 <class 'float'>\n"
          ]
        }
      ]
    },
    {
      "cell_type": "markdown",
      "source": [
        "##19. 문자열을 정수로 변환\n",
        "\n",
        "  year라는 변수가 문자열 타입의 연도를 바인딩하고 있다, 이를 정수로 변환한 후 최근 3년의 연도를 화면에 출력하라."
      ],
      "metadata": {
        "id": "r53R2-n51Hvn"
      }
    },
    {
      "cell_type": "code",
      "source": [
        "year=\"2020\"\n",
        "year=int(year)\n",
        "print(type(year))\n",
        "print(year,year-1,year-2,year-3)"
      ],
      "metadata": {
        "id": "gcKSN11k1HzA",
        "colab": {
          "base_uri": "https://localhost:8080/"
        },
        "outputId": "a2b86467-5f68-4576-b991-2a1f003dfd9f"
      },
      "execution_count": 19,
      "outputs": [
        {
          "output_type": "stream",
          "name": "stdout",
          "text": [
            "<class 'int'>\n",
            "2020 2019 2018 2017\n"
          ]
        }
      ]
    },
    {
      "cell_type": "markdown",
      "source": [
        "##20. 파이썬 계산\n",
        "\n",
        "  에어컨이 월 48,584에 무이자 36개월의 조건으로 홈쇼핑에서 판매되고 있습니다.총 금액은 계산한 후 이를 화면에 출력해라.\n"
      ],
      "metadata": {
        "id": "GwUSJi4c1H2x"
      }
    },
    {
      "cell_type": "code",
      "source": [
        "won=48584\n",
        "print(won*36)"
      ],
      "metadata": {
        "id": "xxbCFv0I1H5u",
        "colab": {
          "base_uri": "https://localhost:8080/"
        },
        "outputId": "a4a08812-8abf-4387-cae6-4e80be3b12e9"
      },
      "execution_count": 20,
      "outputs": [
        {
          "output_type": "stream",
          "name": "stdout",
          "text": [
            "1749024\n"
          ]
        }
      ]
    },
    {
      "cell_type": "markdown",
      "source": [
        "# 03.파이썬 문자열\n",
        "\n",
        "  파이썬 문자열은 인덱싱, 슬라이싱 기능과 다양한 메소드를 제공한다."
      ],
      "metadata": {
        "id": "BP-ydjcAJxIr"
      }
    },
    {
      "cell_type": "markdown",
      "source": [
        "##21. 문자열 인덱싱\n",
        "\n",
        "  letters가 바인딩하는 문자열에서 첫번째 와 세번째 문자를 출력하세요.\n",
        "\n",
        "  letters='python'"
      ],
      "metadata": {
        "id": "JpviBVx9yzh0"
      }
    },
    {
      "cell_type": "code",
      "source": [
        "letters='python'\n",
        "print(letters[0],letters[2])"
      ],
      "metadata": {
        "colab": {
          "base_uri": "https://localhost:8080/"
        },
        "id": "HxmtVr6U6MQI",
        "outputId": "7c339d4d-185b-46ce-94ad-31de83b41baa"
      },
      "execution_count": 21,
      "outputs": [
        {
          "output_type": "stream",
          "name": "stdout",
          "text": [
            "p t\n"
          ]
        }
      ]
    },
    {
      "cell_type": "markdown",
      "source": [
        "##22. 문자열 슬라이싱\n",
        "\n",
        "  자동차 번호가 다음과 같을때 뒤에 4자리만 출력하세요.\n",
        "\n",
        "  license_plate=\"24가 2210\""
      ],
      "metadata": {
        "id": "TUfcKkw68vsX"
      }
    },
    {
      "cell_type": "code",
      "source": [
        "license_plate=\"24가 2210\"\n",
        "print(license_plate[-4:])"
      ],
      "metadata": {
        "colab": {
          "base_uri": "https://localhost:8080/"
        },
        "id": "tGv67D1R8v0f",
        "outputId": "47487071-607b-46ed-825c-677e50d4cc5d"
      },
      "execution_count": 22,
      "outputs": [
        {
          "output_type": "stream",
          "name": "stdout",
          "text": [
            "2210\n"
          ]
        }
      ]
    },
    {
      "cell_type": "markdown",
      "source": [
        "##23. 문자열 인덱싱\n",
        "\n",
        "아래의 문자열에서 '홀'만 출력하세요.\n",
        "string=\"홀짝홀짝홀짝\""
      ],
      "metadata": {
        "id": "kP_3T_Q78v5I"
      }
    },
    {
      "cell_type": "code",
      "source": [
        "string=\"홀짝홀짝홀짝\"\n",
        "print(string[::2])"
      ],
      "metadata": {
        "colab": {
          "base_uri": "https://localhost:8080/"
        },
        "id": "E5if0jgI8v9_",
        "outputId": "f3dca8ec-9166-4273-c35d-e08f7463c91d"
      },
      "execution_count": 23,
      "outputs": [
        {
          "output_type": "stream",
          "name": "stdout",
          "text": [
            "홀홀홀\n"
          ]
        }
      ]
    },
    {
      "cell_type": "markdown",
      "source": [
        "##24. 문자열 슬라이싱\n",
        "\n",
        "문자열을 거꾸로 뒤집어 출력하세요."
      ],
      "metadata": {
        "id": "5y30B9Kd8wC3"
      }
    },
    {
      "cell_type": "code",
      "source": [
        "string=\"python\"\n",
        "print(string[::-1])"
      ],
      "metadata": {
        "id": "SBTStNVD8wHW",
        "colab": {
          "base_uri": "https://localhost:8080/"
        },
        "outputId": "7321405a-230b-414b-9380-99682578f471"
      },
      "execution_count": 24,
      "outputs": [
        {
          "output_type": "stream",
          "name": "stdout",
          "text": [
            "nohtyp\n"
          ]
        }
      ]
    },
    {
      "cell_type": "markdown",
      "source": [
        "##25. 문자열 치환\n",
        "\n",
        "아래의 전화번호에서 하이푼을 제거하고 출력하시오."
      ],
      "metadata": {
        "id": "Dz3m4KkC8wL5"
      }
    },
    {
      "cell_type": "code",
      "source": [
        "number=\"010-4935-4629\"\n",
        "number=number.replace(\"-\",\" \")\n",
        "print(number)"
      ],
      "metadata": {
        "id": "uNw9Gkx_8wPO",
        "colab": {
          "base_uri": "https://localhost:8080/"
        },
        "outputId": "f781c0d6-2f99-483e-a908-0cf41005b6b8"
      },
      "execution_count": 25,
      "outputs": [
        {
          "output_type": "stream",
          "name": "stdout",
          "text": [
            "010 4935 4629\n"
          ]
        }
      ]
    },
    {
      "cell_type": "markdown",
      "source": [
        "##26. 문자열 다루기\n",
        "\n",
        "25번 문제의 전화번호를 아래와 같이 모두 붙여 출력하세요."
      ],
      "metadata": {
        "id": "PyUKSPUs8wTW"
      }
    },
    {
      "cell_type": "code",
      "source": [
        "number=\"010-4935-4629\"\n",
        "number=number.replace(\"-\",\"\")\n",
        "print(number)"
      ],
      "metadata": {
        "id": "FnrmUSeR8wWC",
        "colab": {
          "base_uri": "https://localhost:8080/"
        },
        "outputId": "804ee760-ad25-48a1-9e7e-75fd7b3ac36e"
      },
      "execution_count": 26,
      "outputs": [
        {
          "output_type": "stream",
          "name": "stdout",
          "text": [
            "01049354629\n"
          ]
        }
      ]
    },
    {
      "cell_type": "markdown",
      "source": [
        "##27. 문자열 다루기\n",
        "url에 저장된 웹 페이지 주소에서 도메인을 출력하세요.\n",
        "\n",
        "url = \"http://sharebook.kr\""
      ],
      "metadata": {
        "id": "v2-6IYsZ8wZT"
      }
    },
    {
      "cell_type": "code",
      "source": [
        "url = \"http://sharebook.kr\"\n",
        "url_split=url.split('.')\n",
        "print(url_split)\n",
        "print(url_split[-1])\n",
        "print(url_split[-2])"
      ],
      "metadata": {
        "id": "GuXp90GV8wb_",
        "colab": {
          "base_uri": "https://localhost:8080/"
        },
        "outputId": "2d8a21ff-7279-4dc5-c081-443b9a964949"
      },
      "execution_count": 27,
      "outputs": [
        {
          "output_type": "stream",
          "name": "stdout",
          "text": [
            "['http://sharebook', 'kr']\n",
            "kr\n",
            "http://sharebook\n"
          ]
        }
      ]
    },
    {
      "cell_type": "markdown",
      "source": [
        "##28. 문자열은 immutable!!=불변값이다!\n",
        "\n",
        "아래 코드의 실행 결과를 예상해봐라.\n",
        "\n",
        "lang=\"python\"\n",
        "\n",
        "lang[0]='P'\n",
        "\n",
        "print(lang)\n"
      ],
      "metadata": {
        "id": "AgNK03-d8wfd"
      }
    },
    {
      "cell_type": "code",
      "source": [
        "lang=\"python\"\n",
        "#lang[0]='P'\n",
        "print(lang)\n",
        "#오류발생함."
      ],
      "metadata": {
        "id": "prGpcNAo8wh_",
        "colab": {
          "base_uri": "https://localhost:8080/"
        },
        "outputId": "2cb58682-143d-4ea8-9a5a-f0279f4d8b96"
      },
      "execution_count": 28,
      "outputs": [
        {
          "output_type": "stream",
          "name": "stdout",
          "text": [
            "python\n"
          ]
        }
      ]
    },
    {
      "cell_type": "markdown",
      "source": [
        "##29. replace 메소드\n",
        "\n",
        "아래 문자열에서 소문자'a'를 대문자 'A'로 변경하라."
      ],
      "metadata": {
        "id": "scBHIOC08wl4"
      }
    },
    {
      "cell_type": "code",
      "source": [
        "string='abcdef2a354aa21d'\n",
        "string=string.replace(\"a\",\"A\")\n",
        "print(string)"
      ],
      "metadata": {
        "id": "U5mrbzGz8wn-",
        "colab": {
          "base_uri": "https://localhost:8080/"
        },
        "outputId": "4559e2b2-b7dc-43ea-d820-0b729a1b9892"
      },
      "execution_count": 29,
      "outputs": [
        {
          "output_type": "stream",
          "name": "stdout",
          "text": [
            "Abcdef2A354AA21d\n"
          ]
        }
      ]
    },
    {
      "cell_type": "markdown",
      "source": [
        "##30. replace 메소드\n",
        "\n",
        "아래코드의 실행 결과를 예상해라.\n",
        "string='abcd'\n",
        "\n",
        "string.replace('b','B')\n",
        "\n",
        "print(string)"
      ],
      "metadata": {
        "id": "jaWnGQMN8wr7"
      }
    },
    {
      "cell_type": "code",
      "source": [
        "string='abcd'\n",
        "string.replace('b','B')\n",
        "print(string)\n",
        "#문자열은 불변하는 자료형이기 때문에, replace메소드를 사용하면 원본은 그대로 둔채로 변경된 새로운 문자열 객체를 리턴해준다.\n",
        "string_re=string.replace('b','B')\n",
        "print(string_re)\n"
      ],
      "metadata": {
        "id": "jv_qMkXA8wuj",
        "colab": {
          "base_uri": "https://localhost:8080/"
        },
        "outputId": "614802bf-d899-4675-df6c-e50b6593122c"
      },
      "execution_count": 30,
      "outputs": [
        {
          "output_type": "stream",
          "name": "stdout",
          "text": [
            "abcd\n",
            "aBcd\n"
          ]
        }
      ]
    },
    {
      "cell_type": "markdown",
      "source": [
        "##31. 문자열 합치기\n",
        "\n",
        "  아래 코드의 실행 결과를 예상해라.\n",
        "\n",
        "  a=\"3\"\n",
        "\n",
        "  b=\"4\"\n",
        "\n",
        "  print(a+b)"
      ],
      "metadata": {
        "id": "3nepqChS8wy_"
      }
    },
    {
      "cell_type": "code",
      "source": [
        "a='3'\n",
        "b='4'\n",
        "print(type(a))\n",
        "print(a+b)\n",
        "#a,b의 데이터 타입은 문자열로 a+b는 두개의 문자열을 이어주는 역할이다."
      ],
      "metadata": {
        "id": "07mVt0vx8w1s",
        "colab": {
          "base_uri": "https://localhost:8080/"
        },
        "outputId": "63667a63-a8c5-4234-9e9a-dd8b1677f6c9"
      },
      "execution_count": 31,
      "outputs": [
        {
          "output_type": "stream",
          "name": "stdout",
          "text": [
            "<class 'str'>\n",
            "34\n"
          ]
        }
      ]
    },
    {
      "cell_type": "markdown",
      "source": [
        "##32. 문자열 곱하기\n",
        "\n",
        "  아래 코드의 실행결과를 예상해라\n",
        "\n",
        "  print(\"Hi\"*3)  "
      ],
      "metadata": {
        "id": "UxcM4c_W8w5d"
      }
    },
    {
      "cell_type": "code",
      "source": [
        "print(\"Hi\"*3)\n",
        "#Hi 문구가 3번반복된다."
      ],
      "metadata": {
        "id": "U8MG6eoZ8w79",
        "colab": {
          "base_uri": "https://localhost:8080/"
        },
        "outputId": "c5a74b92-775e-4224-a7a1-185f72164f60"
      },
      "execution_count": 32,
      "outputs": [
        {
          "output_type": "stream",
          "name": "stdout",
          "text": [
            "HiHiHi\n"
          ]
        }
      ]
    },
    {
      "cell_type": "markdown",
      "source": [
        "##33. 문자열 곱하기\n",
        "\n",
        "  화면에 '-'를 80개 출력해라."
      ],
      "metadata": {
        "id": "rXALvDwf8w-z"
      }
    },
    {
      "cell_type": "code",
      "source": [
        "print(\"-\"*80)"
      ],
      "metadata": {
        "id": "2lZyOjvz8xBu",
        "colab": {
          "base_uri": "https://localhost:8080/"
        },
        "outputId": "4011faf8-4ec6-497e-e590-2cd1739d5e49"
      },
      "execution_count": 33,
      "outputs": [
        {
          "output_type": "stream",
          "name": "stdout",
          "text": [
            "--------------------------------------------------------------------------------\n"
          ]
        }
      ]
    },
    {
      "cell_type": "markdown",
      "source": [
        "##34. 문자열 곱하기\n",
        "\n",
        "  변수에 다음과 같은 문자열이 바인되어 있을때, 변수에 문자열 더하기와 문자열 곱하기를 사용해서 아래와 같이 출력해라.\n",
        "\n",
        "  t1='python'\n",
        "\n",
        "  t2='java'\n",
        "\n",
        "  실행 예: python java python java python java python on java"
      ],
      "metadata": {
        "id": "GzavPgaS8xEs"
      }
    },
    {
      "cell_type": "code",
      "source": [
        "t1='python'\n",
        "t2='java'\n",
        "print((t1+' '+t2+' ')*3+t1+' on'+ t2)"
      ],
      "metadata": {
        "id": "1yq5iCQ18xHC",
        "colab": {
          "base_uri": "https://localhost:8080/"
        },
        "outputId": "d602b364-dfe7-4c19-ad17-0924d087ca61"
      },
      "execution_count": 34,
      "outputs": [
        {
          "output_type": "stream",
          "name": "stdout",
          "text": [
            "python java python java python java python onjava\n"
          ]
        }
      ]
    },
    {
      "cell_type": "markdown",
      "source": [
        "##35. 문자열 출력\n",
        "\n",
        "  변수에 다음과 같이 문자열과 정수가 바인딩되어 있을 때 %formatting을 사용해서 다음과 같이 출력하라.\n",
        "\n",
        "  name1=\"김민수\"\n",
        "\n",
        "  age1=10\n",
        "\n",
        "  name2=\"이철희\"\n",
        "\n",
        "  age2=13\n",
        "\n",
        "  출력결과\n",
        "\n",
        "  이름: 김민수 나이: 10\n",
        "  \n",
        "  이름: 이철희 나이: 13"
      ],
      "metadata": {
        "id": "kXV3-sRd8xLI"
      }
    },
    {
      "cell_type": "code",
      "source": [
        "name1='김민수'\n",
        "age1=10\n",
        "name2='이철희'\n",
        "age2=13\n",
        "print(\"이름: %s 나이: %d \"%(name1,age1))\n",
        "print(\"이름: %s 나이: %d \"%(name2,age2))\n"
      ],
      "metadata": {
        "id": "MSGv3nq88xNd",
        "colab": {
          "base_uri": "https://localhost:8080/"
        },
        "outputId": "7457ad86-5faa-4049-91fe-9800a28262ff"
      },
      "execution_count": 35,
      "outputs": [
        {
          "output_type": "stream",
          "name": "stdout",
          "text": [
            "이름: 김민수 나이: 10 \n",
            "이름: 이철희 나이: 13 \n"
          ]
        }
      ]
    },
    {
      "cell_type": "markdown",
      "source": [
        "##36. 문자열 출력\n",
        "\n",
        "문자열의 format()메소드를 사용해서 35번을 다시 풀어라."
      ],
      "metadata": {
        "id": "FKhcJ0V98xQQ"
      }
    },
    {
      "cell_type": "code",
      "source": [
        "name1='김민수'\n",
        "\n",
        "age1=10\n",
        "\n",
        "name2='이철희'\n",
        "\n",
        "age2=13\n",
        "\n",
        "print(\"이름: {} 나이: {} \".format(name1,age1))\n",
        "\n",
        "print(\"이름: {} 나이: {} \".format(name2,age2))\n",
        "\n",
        "\n"
      ],
      "metadata": {
        "id": "Whr8BPiv8xU9",
        "colab": {
          "base_uri": "https://localhost:8080/"
        },
        "outputId": "04b43c46-82cc-44a7-a557-1b84e33dc1bd"
      },
      "execution_count": 36,
      "outputs": [
        {
          "output_type": "stream",
          "name": "stdout",
          "text": [
            "이름: 김민수 나이: 10 \n",
            "이름: 이철희 나이: 13 \n"
          ]
        }
      ]
    },
    {
      "cell_type": "markdown",
      "source": [
        "##37. 문자열 출력\n",
        "\n",
        "  파이썬 3.6부터 지원하는 f-string을 사용하여 35번을 다시 풀어라."
      ],
      "metadata": {
        "id": "iK-Sj6AFryIO"
      }
    },
    {
      "cell_type": "code",
      "source": [
        "name1='김민수'\n",
        "age1=10\n",
        "\n",
        "name2='이철희'\n",
        "age2=13\n",
        "\n",
        "print(f\"이름: {name1} 나이: {age1} \")\n",
        "\n",
        "print(f\"이름: {name2} 나이: {age2} \")\n",
        "\n",
        "\n",
        "\n",
        "\n"
      ],
      "metadata": {
        "colab": {
          "base_uri": "https://localhost:8080/"
        },
        "id": "g0PzxeKjryYS",
        "outputId": "5891007a-bcac-43f2-83a8-c6c94f49851d"
      },
      "execution_count": 37,
      "outputs": [
        {
          "output_type": "stream",
          "name": "stdout",
          "text": [
            "이름: 김민수 나이: 10 \n",
            "이름: 이철희 나이: 13 \n"
          ]
        }
      ]
    },
    {
      "cell_type": "markdown",
      "source": [
        "##38. 콤마 제거하기\n",
        "\n",
        "  삼성전자의 상장주식수가 다음과 같다. 컴마를 제거한 후 이를 정수 타입으로 변환해라\n",
        "\n",
        "  상장주식수=\"5,969,782,550\""
      ],
      "metadata": {
        "id": "D7YrhJFHryeq"
      }
    },
    {
      "cell_type": "code",
      "source": [
        "상장주식수=\"5,969,782,550\"\n",
        "상장주식수=상장주식수.replace(\",\",\"\")\n",
        "상장주식수=int(상장주식수)\n",
        "print(상장주식수,type(상장주식수))"
      ],
      "metadata": {
        "colab": {
          "base_uri": "https://localhost:8080/"
        },
        "id": "s4Xiab5Yryi4",
        "outputId": "6ffa358c-877a-41af-c80a-93cc6cb927a9"
      },
      "execution_count": 38,
      "outputs": [
        {
          "output_type": "stream",
          "name": "stdout",
          "text": [
            "5969782550 <class 'int'>\n"
          ]
        }
      ]
    },
    {
      "cell_type": "markdown",
      "source": [
        "##39. 문자열 슬라이싱\n",
        "\n",
        "  다음과 같은 문자열에서 **'2020/03'**만 출력하라.\n",
        "\n",
        "  분기=\"2020/03(E) (IFRS연결)\""
      ],
      "metadata": {
        "id": "-JZI-g61rynj"
      }
    },
    {
      "cell_type": "code",
      "source": [
        "분기=\"2020/03(E) (IFRS연결)\"\n",
        "print(분기[:7])"
      ],
      "metadata": {
        "colab": {
          "base_uri": "https://localhost:8080/"
        },
        "id": "b_WL-8PoryrT",
        "outputId": "45a69ddf-1714-4b7f-d0f3-b7e66044a18f"
      },
      "execution_count": 39,
      "outputs": [
        {
          "output_type": "stream",
          "name": "stdout",
          "text": [
            "2020/03\n"
          ]
        }
      ]
    },
    {
      "cell_type": "markdown",
      "source": [
        "##40. strip메소드\n",
        "\n",
        "  문자열의 좌우의 공백이 있을 때 이를 제거해라.\n",
        "  \n",
        "  data=\"           삼성전자       \""
      ],
      "metadata": {
        "id": "mBxiHe80ryv_"
      }
    },
    {
      "cell_type": "code",
      "source": [
        "data=\"    삼성전자    \"\n",
        "print(data)\n",
        "data1=data.strip()\n",
        "print(data1)\n",
        "data1=data.strip(data[:5])\n",
        "print(data1)\n",
        "\n",
        "\n"
      ],
      "metadata": {
        "id": "Dnx9VfwQryzv",
        "colab": {
          "base_uri": "https://localhost:8080/"
        },
        "outputId": "a20df49f-ce66-40cd-fd06-b9fae50a7b56"
      },
      "execution_count": 40,
      "outputs": [
        {
          "output_type": "stream",
          "name": "stdout",
          "text": [
            "    삼성전자    \n",
            "삼성전자\n",
            "성전자\n"
          ]
        }
      ]
    },
    {
      "cell_type": "markdown",
      "source": [
        "##41. upper 메소드\n",
        "\n",
        "  .upper()는 문자열을 대문자로 변환시켜준다.\n",
        "  \n",
        "  다음과 같은 문자열이 있을 때 이를 대문자 BTC_KRW로 변경하세요.\n",
        "\n",
        "  ticker=\"btc_krw\""
      ],
      "metadata": {
        "id": "p8mOORu9DWxb"
      }
    },
    {
      "cell_type": "code",
      "source": [
        "ticker=\"btc_krw\"\n",
        "Ticker=ticker.upper()\n",
        "print(Ticker)"
      ],
      "metadata": {
        "colab": {
          "base_uri": "https://localhost:8080/"
        },
        "id": "d9LUFWkJDW-i",
        "outputId": "dda64978-1918-4d09-b72b-855d59b4a9ba"
      },
      "execution_count": 41,
      "outputs": [
        {
          "output_type": "stream",
          "name": "stdout",
          "text": [
            "BTC_KRW\n"
          ]
        }
      ]
    },
    {
      "cell_type": "markdown",
      "source": [
        "##42. lower 메소드\n",
        "  .lower()는 문자열을 소문자로 변환시켜준다.\n",
        "  \n",
        "  다음과 같은 문자열이 있을 때 이를 소문자 btc_krw로 변경하세요.\n",
        "\n",
        "  ticker=\"BTC_KRW\"\n"
      ],
      "metadata": {
        "id": "XhZxfx4BDXHm"
      }
    },
    {
      "cell_type": "code",
      "source": [
        "ticker=\"BTC_KRW\"\n",
        "ticker=ticker.lower()\n",
        "print(ticker)"
      ],
      "metadata": {
        "colab": {
          "base_uri": "https://localhost:8080/"
        },
        "id": "UfvlaeDKDXJm",
        "outputId": "1a06a9df-b12e-4b02-a09f-691f819e1bda"
      },
      "execution_count": 42,
      "outputs": [
        {
          "output_type": "stream",
          "name": "stdout",
          "text": [
            "btc_krw\n"
          ]
        }
      ]
    },
    {
      "cell_type": "markdown",
      "source": [
        "##43. capitalize 메소드\n",
        "\n",
        "  .capitalize()는 문자열의 첫번째 요소만 대문자로 바꾼다.\n",
        "  \n",
        "  문자열'hello'가 있을 때 'Hello'로 변경하세요."
      ],
      "metadata": {
        "id": "vHFyozN-DXPL"
      }
    },
    {
      "cell_type": "code",
      "source": [
        "a='hello'\n",
        "print(a.capitalize())"
      ],
      "metadata": {
        "colab": {
          "base_uri": "https://localhost:8080/"
        },
        "id": "kA2pyCBdDXVh",
        "outputId": "39913989-7d06-41d6-ff61-ebbd11188b30"
      },
      "execution_count": 43,
      "outputs": [
        {
          "output_type": "stream",
          "name": "stdout",
          "text": [
            "Hello\n"
          ]
        }
      ]
    },
    {
      "cell_type": "markdown",
      "source": [
        "##44. endswith메소드\n",
        "\n",
        "  .endswith()는 문자열이 ()안의 문자열로 끝났으면 True, 그렇지 않다면 False가 된다.\n",
        "  \n",
        "  파일 이름이 문자열로 저장되어 있을 때 endswith메소드를 사용해서 파일 이름이 'xlsx'로 끝나는지 확인해라."
      ],
      "metadata": {
        "id": "hbxL1MMVDXen"
      }
    },
    {
      "cell_type": "code",
      "source": [
        "file=\"보고서.xlsx\"\n",
        "file=file.endswith(\"xlsx\")\n",
        "print(file)\n",
        "\n"
      ],
      "metadata": {
        "colab": {
          "base_uri": "https://localhost:8080/"
        },
        "id": "I6Q-qZtrDXhD",
        "outputId": "ff893cb5-035c-493b-8499-2500e5bec697"
      },
      "execution_count": 44,
      "outputs": [
        {
          "output_type": "stream",
          "name": "stdout",
          "text": [
            "True\n"
          ]
        }
      ]
    },
    {
      "cell_type": "markdown",
      "source": [
        "##45. endswith메소드\n",
        "\n",
        "\n",
        ".endswith()는 문자열이 ()안의 문자열로 끝났으면 True, 그렇지 않다면 False가 된다.\n",
        "\n",
        "파일 이름이 문자열로 저장되어 있을 때 endswith메소드를 사용해서 파일 이름이 'xls'로 끝나는지 확인해라.\n",
        "\n"
      ],
      "metadata": {
        "id": "MoUVOi2GDXpc"
      }
    },
    {
      "cell_type": "code",
      "source": [
        "file=\"보고서.xlsx\"\n",
        "file=file.endswith(\"xls\")\n",
        "print(file)\n"
      ],
      "metadata": {
        "colab": {
          "base_uri": "https://localhost:8080/"
        },
        "id": "Hpe7TNyQDXrk",
        "outputId": "32a1c5dc-9f11-469f-98a8-5ba3cbef07d4"
      },
      "execution_count": 45,
      "outputs": [
        {
          "output_type": "stream",
          "name": "stdout",
          "text": [
            "False\n"
          ]
        }
      ]
    },
    {
      "cell_type": "markdown",
      "source": [
        "##46. startswith 메소드\n",
        "\n",
        "  .startswith()는 문자열의 처음이 ()의 값과 같다면 True, 그렇지 않다면 False가 온다.\n",
        "  \n",
        "  파일 이름이 문자열로 저장되어 있을 때 startwith 메소드를 사용해서 파일 이름이 '2020'로 시작하는지 확인해라."
      ],
      "metadata": {
        "id": "rCNe1VBeDXyj"
      }
    },
    {
      "cell_type": "code",
      "source": [
        "file=\"2020_보고서.xlsx\"\n",
        "file=file.startswith(\"2020\")\n",
        "print(file)"
      ],
      "metadata": {
        "colab": {
          "base_uri": "https://localhost:8080/"
        },
        "id": "Sr77KBlNDX3b",
        "outputId": "424c2cf8-075b-4b34-bdee-763bc23faa82"
      },
      "execution_count": 46,
      "outputs": [
        {
          "output_type": "stream",
          "name": "stdout",
          "text": [
            "True\n"
          ]
        }
      ]
    },
    {
      "cell_type": "markdown",
      "source": [
        "##47. split 메소드\n",
        "\n",
        "  .split()는 ()값을 기준으로 문자열을 나눠서 리스트화 시킨다.\n",
        "\n",
        "  다음과 같은 문자열이 있을 때 공백을 기준으로 문자열을 나눠라.\n",
        "\n",
        "  a=\"hello world\""
      ],
      "metadata": {
        "id": "Fn9Lu60oDX4v"
      }
    },
    {
      "cell_type": "code",
      "source": [
        "a=\"hello world\"\n",
        "print(a.split())"
      ],
      "metadata": {
        "colab": {
          "base_uri": "https://localhost:8080/"
        },
        "id": "L6w4TzASDYFZ",
        "outputId": "6250873b-c293-403a-ff28-687b4b3d8ce9"
      },
      "execution_count": 47,
      "outputs": [
        {
          "output_type": "stream",
          "name": "stdout",
          "text": [
            "['hello', 'world']\n"
          ]
        }
      ]
    },
    {
      "cell_type": "markdown",
      "source": [
        "##48. split메소드\n",
        "\n",
        "  다음과 같이 문자열이 있을 때 btc와 krw로 나눠라.\n",
        "\n",
        "  ticker=\"btc_krw\"\n"
      ],
      "metadata": {
        "id": "SvXhcg5lDYGy"
      }
    },
    {
      "cell_type": "code",
      "source": [
        "ticker=\"btc_krw\"\n",
        "print(ticker.split(\"_\"))"
      ],
      "metadata": {
        "id": "IcG0o8AbDYIX",
        "colab": {
          "base_uri": "https://localhost:8080/"
        },
        "outputId": "2cfd8473-e958-4b69-87fa-c270ac89fef4"
      },
      "execution_count": 48,
      "outputs": [
        {
          "output_type": "stream",
          "name": "stdout",
          "text": [
            "['btc', 'krw']\n"
          ]
        }
      ]
    },
    {
      "cell_type": "markdown",
      "source": [
        "##49. split메소드\n",
        "\n",
        "  다음과 같이 날짜를 표현하는 문자열이 있을 때 연도, 월, 일로 나눠라.\n",
        "  \n",
        "  date=\"2020-05-01\""
      ],
      "metadata": {
        "id": "dVrNMzwsDYOA"
      }
    },
    {
      "cell_type": "code",
      "source": [
        "date=\"2020-05-01\"\n",
        "print(date.split(\"-\"))"
      ],
      "metadata": {
        "id": "qr53w9BSDYVU",
        "colab": {
          "base_uri": "https://localhost:8080/"
        },
        "outputId": "d9237208-c086-4c9d-f04e-4beefb3c0669"
      },
      "execution_count": 49,
      "outputs": [
        {
          "output_type": "stream",
          "name": "stdout",
          "text": [
            "['2020', '05', '01']\n"
          ]
        }
      ]
    },
    {
      "cell_type": "markdown",
      "source": [
        "##50. rstrip 메소드\n",
        "\n",
        "  strip 3형제\n",
        "\n",
        "  1) strip([chars]) : 인자로 전달된 문자를 String의 왼쪽과 오른쪽에서 제거합니다.\n",
        "  \n",
        "  2) lstrip([chars]) : 인자로 전달된 문자를 String의 왼쪽에서 제거합니다.\n",
        "  \n",
        "  3) rstrip([chars]) : 인자로 전달된 문자를 String의 오른쪽에서 제거합니다.\n",
        "\n",
        "  문자열의 오른쪽에 공백이 있을 때 이를 제거해라.\n",
        "  \n",
        "  data =\"039404     \"\n"
      ],
      "metadata": {
        "id": "hhrx00mdIgDK"
      }
    },
    {
      "cell_type": "code",
      "source": [
        "data=\"      030904     \"\n",
        "print(data.rstrip())\n",
        "print(data.lstrip())\n",
        "print(data.strip())"
      ],
      "metadata": {
        "colab": {
          "base_uri": "https://localhost:8080/"
        },
        "id": "ki0PTHdNIgL2",
        "outputId": "563f876e-a7c7-496d-d66b-cd48c8bcfd98"
      },
      "execution_count": 50,
      "outputs": [
        {
          "output_type": "stream",
          "name": "stdout",
          "text": [
            "      030904\n",
            "030904     \n",
            "030904\n"
          ]
        }
      ]
    },
    {
      "cell_type": "markdown",
      "source": [
        "# 04.파이썬 리스트\n",
        "\n",
        "    파이썬 리스트는 순서가 있고 수정 가능한 자료구조다."
      ],
      "metadata": {
        "id": "Zd4tkbPjJxhq"
      }
    },
    {
      "cell_type": "markdown",
      "source": [
        "##51. 리스트 생성\n",
        "\n",
        "  2016년 11월 영화 예매 순위 기준 top3는 다음과 같다. 영화 제목을 movie_rank 이름의 리스트에 저장해봐라.(순위 정보는 저장하지 않는다.)\n",
        "\n",
        "\n",
        "> | 항목 | 값 |\n",
        "|---|---------|\n",
        "| 1 | 닥터스트레인지 | \n",
        "| 2 | 스플릿|\n",
        "| 3 | 럭키 |\n",
        "\n",
        "\n",
        "\n",
        "\n",
        "\n",
        "\n",
        "\n"
      ],
      "metadata": {
        "id": "iYvfOcv0Ie1y"
      }
    },
    {
      "cell_type": "code",
      "source": [
        "movie_rank=[\"닥터스트레인지\",\"스플릿\",\"럭키\"]\n",
        "print(movie_rank)"
      ],
      "metadata": {
        "colab": {
          "base_uri": "https://localhost:8080/"
        },
        "id": "cPssc1riIe6C",
        "outputId": "d7fcec46-6ef0-4992-83ec-ee451c989e7d"
      },
      "execution_count": 51,
      "outputs": [
        {
          "output_type": "stream",
          "name": "stdout",
          "text": [
            "['닥터스트레인지', '스플릿', '럭키']\n"
          ]
        }
      ]
    },
    {
      "cell_type": "markdown",
      "source": [
        "##52. 리스트에 원소 추가\n",
        "\n",
        "  .append()는 원소를 추가해주는 함수다.\n",
        "\n",
        "  51의 movie_rank리스트에 \"배트맨\"을 추가해라."
      ],
      "metadata": {
        "id": "J2p0FIpeLZ2q"
      }
    },
    {
      "cell_type": "code",
      "source": [
        "movie_rank=[\"닥터스트레인지\",\"스플릿\",\"럭키\"]\n",
        "movie_rank.append(\"배트맨\")\n",
        "print(movie_rank)\n",
        "\n"
      ],
      "metadata": {
        "id": "bGnv8Zv-La-X",
        "colab": {
          "base_uri": "https://localhost:8080/"
        },
        "outputId": "54ca6ebb-4fb4-4bf3-d867-bfe523ef3ee7"
      },
      "execution_count": 52,
      "outputs": [
        {
          "output_type": "stream",
          "name": "stdout",
          "text": [
            "['닥터스트레인지', '스플릿', '럭키', '배트맨']\n"
          ]
        }
      ]
    },
    {
      "cell_type": "markdown",
      "source": [
        "##53. insert메소드\n",
        "\n",
        "  .insert(인덱스,문자열)을 통해 원하는 위치에 원소를 추가할 수 있다.\n",
        "  \n",
        "  movie_rank 리스트에는 아래와 같이 4개의 영화제목이 바인딩되어 있다. \"슈퍼맨\"을 \"닥터스트레인지\"와 \"스플릿\"사이에 추가해라.\n",
        "\n",
        "  movie_rank=[\"닥터스트레인지\",\"스플릿\",\"럭키\",\"배트맨\"]\n",
        "\n"
      ],
      "metadata": {
        "id": "YwXh5V8CLbFf"
      }
    },
    {
      "cell_type": "code",
      "source": [
        "movie_rank=[\"닥터스트레인지\",\"스플릿\",\"럭키\",\"배트맨\"]\n",
        "print(movie_rank)\n",
        "movie_rank.insert(1,\"슈퍼맨\")\n",
        "print(movie_rank)"
      ],
      "metadata": {
        "id": "w_vw_25DLbMN",
        "colab": {
          "base_uri": "https://localhost:8080/"
        },
        "outputId": "7be495bc-89e1-4628-ad6c-13b2903e8281"
      },
      "execution_count": 53,
      "outputs": [
        {
          "output_type": "stream",
          "name": "stdout",
          "text": [
            "['닥터스트레인지', '스플릿', '럭키', '배트맨']\n",
            "['닥터스트레인지', '슈퍼맨', '스플릿', '럭키', '배트맨']\n"
          ]
        }
      ]
    },
    {
      "cell_type": "markdown",
      "source": [
        "##54. del 메소드\n",
        "\n",
        "  del 변수명[인덱스]를 통해 원하는 원소를 삭제할 수 있다.\n",
        "\n",
        "  movie_rank 리스트에서 '럭키'를 삭제해라.\n",
        "\n",
        "  movie_rank=[\"닥터스트레인지\",\"슈퍼맨\",\"스플릿\",\"럭키\",\"배트맨\"]\n"
      ],
      "metadata": {
        "id": "jSsdC6uALbSd"
      }
    },
    {
      "cell_type": "code",
      "source": [
        "movie_rank=[\"닥터스트레인지\",\"슈퍼맨\",\"스플릿\",\"럭키\",\"배트맨\"]\n",
        "del movie_rank[3]\n",
        "print(movie_rank)"
      ],
      "metadata": {
        "id": "aWqoqqf2LbYf",
        "colab": {
          "base_uri": "https://localhost:8080/"
        },
        "outputId": "57f93e05-e4ec-4017-f0f0-e630532dae60"
      },
      "execution_count": 54,
      "outputs": [
        {
          "output_type": "stream",
          "name": "stdout",
          "text": [
            "['닥터스트레인지', '슈퍼맨', '스플릿', '배트맨']\n"
          ]
        }
      ]
    },
    {
      "cell_type": "markdown",
      "source": [
        "##55. del 메소드\n",
        "\n",
        "  movie_rank 리스트에서 '스플릿과 '배트맨'을 삭제해라.\n",
        "\n",
        "  movie_rank=[\"닥터스트레인지\",\"슈퍼맨\",\"스플릿\",\"럭키\",\"배트맨\"]"
      ],
      "metadata": {
        "id": "0NKU6G_xLbcx"
      }
    },
    {
      "cell_type": "code",
      "source": [
        "movie_rank=[\"닥터스트레인지\",\"슈퍼맨\",\"스플릿\",\"배트맨\"]\n",
        "del movie_rank[2]\n",
        "del movie_rank[2]\n",
        "print(movie_rank)"
      ],
      "metadata": {
        "id": "Q1Ob8NDRLbh8",
        "colab": {
          "base_uri": "https://localhost:8080/"
        },
        "outputId": "c229c984-be31-4f7f-f9e6-b731cd6edcb4"
      },
      "execution_count": 55,
      "outputs": [
        {
          "output_type": "stream",
          "name": "stdout",
          "text": [
            "['닥터스트레인지', '슈퍼맨']\n"
          ]
        }
      ]
    },
    {
      "cell_type": "markdown",
      "source": [
        "## 56. 리스트 연산\n",
        "\n",
        "  lang1과 lang2 리스트가 있을 때 lang1과 lang2의 원소를 모두 갖고 있는 langs 리스트를 만들어라.\n",
        "\n",
        "  lang1=[\"C\",\"C++\",\"Java\"]\n",
        "\n",
        "  lang2=[\"Python\",\"Go\",\"C#\"]"
      ],
      "metadata": {
        "id": "XTyQd7LILbmg"
      }
    },
    {
      "cell_type": "code",
      "source": [
        "lang1=[\"C\",\"C++\",\"Java\"]\n",
        "lang2=[\"Python\",\"Go\",\"C#\"]\n",
        "langs=lang1+lang2\n",
        "print(langs)\n"
      ],
      "metadata": {
        "id": "7vLZngjbLbq_",
        "colab": {
          "base_uri": "https://localhost:8080/"
        },
        "outputId": "7befaed3-fc20-4c3c-e3a6-298b24ae3a06"
      },
      "execution_count": 56,
      "outputs": [
        {
          "output_type": "stream",
          "name": "stdout",
          "text": [
            "['C', 'C++', 'Java', 'Python', 'Go', 'C#']\n"
          ]
        }
      ]
    },
    {
      "cell_type": "markdown",
      "source": [
        "##57. 리스트 최댓값, 최솟값\n",
        "\n",
        "  max(list), min(list) 함수를 통해 최대 최소값을 구할수 있다.\n",
        "\n",
        "  다음 리스트에서 최댓값과 최솟값을 출력하라.\n",
        "\n",
        "  nums=[1,2,3,4,5,6,7,10]"
      ],
      "metadata": {
        "id": "HWQ6a3-TLbvm"
      }
    },
    {
      "cell_type": "code",
      "source": [
        "\n",
        "nums=[1,2,3,4,5,6,7,10]\n",
        "print(max(nums))\n",
        "print(min(nums))\n"
      ],
      "metadata": {
        "id": "yk11XxEzLb0J",
        "colab": {
          "base_uri": "https://localhost:8080/"
        },
        "outputId": "604fd108-b21b-4975-e01b-b958dccd0fed"
      },
      "execution_count": 57,
      "outputs": [
        {
          "output_type": "stream",
          "name": "stdout",
          "text": [
            "10\n",
            "1\n"
          ]
        }
      ]
    },
    {
      "cell_type": "markdown",
      "source": [
        "##58. 리스트 합 sum()\n",
        "\n",
        "  sum()함수를 통해 리스트의 값들을 합할수 있다.\n",
        "\n",
        "  다음 리스트의 합을 출력하라.\n",
        "  nums=[1,2,3,4,5]"
      ],
      "metadata": {
        "id": "jmpYZpP4Lb5U"
      }
    },
    {
      "cell_type": "code",
      "source": [
        "nums=[1,2,3,4,5]\n",
        "print(sum(nums))"
      ],
      "metadata": {
        "id": "vF1GLDj6Lb94",
        "colab": {
          "base_uri": "https://localhost:8080/"
        },
        "outputId": "649f76af-d498-4a40-9e2a-28586ed9f5a1"
      },
      "execution_count": 58,
      "outputs": [
        {
          "output_type": "stream",
          "name": "stdout",
          "text": [
            "15\n"
          ]
        }
      ]
    },
    {
      "cell_type": "markdown",
      "source": [
        "##59. 리스트 길이 len()\n",
        "  \n",
        "  len()을 통해 리스트의 길이(갯수)를 알 수 있다.\n",
        "\n",
        "  다음 리스트에 저장된 데이터의 개수를 화면에 구하라.\n",
        "\n",
        "  cook=[\"피자\",\"김밥\",\"만두\",\"양념치킨\",\"족발\"]\n"
      ],
      "metadata": {
        "id": "1RVSXOc4LcCc"
      }
    },
    {
      "cell_type": "code",
      "source": [
        "cook=[\"피자\",\"김밥\",\"만두\",\"양념치킨\",\"족발\"]\n",
        "print(len(cook))"
      ],
      "metadata": {
        "id": "bt4knjhwLcHS",
        "colab": {
          "base_uri": "https://localhost:8080/"
        },
        "outputId": "4ea5bd9a-97c3-48db-fd94-1cd7825178b2"
      },
      "execution_count": 59,
      "outputs": [
        {
          "output_type": "stream",
          "name": "stdout",
          "text": [
            "5\n"
          ]
        }
      ]
    },
    {
      "cell_type": "markdown",
      "source": [
        "##60. 리스트 평균\n",
        "\n",
        "  다음 리스트의 평균을 출력하라.\n",
        "\n",
        "  nums=[1,2,3,,4,5]\n"
      ],
      "metadata": {
        "id": "QedvomtpLcMr"
      }
    },
    {
      "cell_type": "code",
      "source": [
        "nums=[1,2,3,4,5]\n",
        "average=sum(nums)/len(nums)\n",
        "print(average)"
      ],
      "metadata": {
        "id": "ebBZZMXyLcR8",
        "colab": {
          "base_uri": "https://localhost:8080/"
        },
        "outputId": "2b0d1e94-be9e-462e-d10c-c0a09a286f5d"
      },
      "execution_count": 60,
      "outputs": [
        {
          "output_type": "stream",
          "name": "stdout",
          "text": [
            "3.0\n"
          ]
        }
      ]
    },
    {
      "cell_type": "markdown",
      "source": [
        "##61. 리스트 슬라이싱\n",
        "\n",
        "  price변수에는 날짜와 종가 정보가 저장돼 있다. 날짜 정보를 제외하고 가격 정보만을 출력해라.\n",
        "\n",
        "  price=[\"20180728\", 100, 130, 140, 150, 160, 170]"
      ],
      "metadata": {
        "id": "SL4IYi7AUcTS"
      }
    },
    {
      "cell_type": "code",
      "source": [
        "price = [\"20180728\", 100, 130, 140, 150, 160, 170]\n",
        "print(price[1:])"
      ],
      "metadata": {
        "id": "XLYJlY-VUddG",
        "colab": {
          "base_uri": "https://localhost:8080/"
        },
        "outputId": "65d22592-7a1d-4c5d-cf58-abfdbf62b369"
      },
      "execution_count": 61,
      "outputs": [
        {
          "output_type": "stream",
          "name": "stdout",
          "text": [
            "[100, 130, 140, 150, 160, 170]\n"
          ]
        }
      ]
    },
    {
      "cell_type": "markdown",
      "source": [
        "##62. 리스트 슬라이싱\n",
        "\n",
        "  슬라이싱을 사용해서 홀수만 출력하라.\n",
        "  \n"
      ],
      "metadata": {
        "id": "Y5Lj-g3UUdkl"
      }
    },
    {
      "cell_type": "code",
      "source": [
        "num=[1,2,3,4,5,6,7,8,9,10]\n",
        "print(num[0::2])"
      ],
      "metadata": {
        "id": "Rn4Hld-tUdqM",
        "colab": {
          "base_uri": "https://localhost:8080/"
        },
        "outputId": "c2a9fa9b-e859-4a6c-db68-e642469dd067"
      },
      "execution_count": 62,
      "outputs": [
        {
          "output_type": "stream",
          "name": "stdout",
          "text": [
            "[1, 3, 5, 7, 9]\n"
          ]
        }
      ]
    },
    {
      "cell_type": "markdown",
      "source": [
        "##63. 리스트 슬라이싱\n",
        "\n",
        "    슬라이싱을 사용해서 짝수만 출력하라.\n",
        "  \n",
        "    num=[1,2,3,4,5,6,7,8,9,10]\n"
      ],
      "metadata": {
        "id": "jd97D_TdUdxG"
      }
    },
    {
      "cell_type": "code",
      "source": [
        "num=[1,2,3,4,5,6,7,8,9,10]\n",
        "print(num[1::2])"
      ],
      "metadata": {
        "id": "qBvHoiSdUd3D",
        "colab": {
          "base_uri": "https://localhost:8080/"
        },
        "outputId": "d08fff09-0510-45dd-966c-f615b77055fe"
      },
      "execution_count": 63,
      "outputs": [
        {
          "output_type": "stream",
          "name": "stdout",
          "text": [
            "[2, 4, 6, 8, 10]\n"
          ]
        }
      ]
    },
    {
      "cell_type": "markdown",
      "source": [
        "##64. 리스트 슬라이싱\n",
        "\n",
        "  슬라이싱을 사용해서 리스트이 숫자를 역 방향으로 출력하라."
      ],
      "metadata": {
        "id": "dtdHwytPUd84"
      }
    },
    {
      "cell_type": "code",
      "source": [
        "num=[1,2,3,4,5,6,7,8,9,10]\n",
        "print(num[::-1])"
      ],
      "metadata": {
        "id": "pskvC0pAUeBH",
        "colab": {
          "base_uri": "https://localhost:8080/"
        },
        "outputId": "36668dfd-9241-4172-8a78-8778ceca98be"
      },
      "execution_count": 64,
      "outputs": [
        {
          "output_type": "stream",
          "name": "stdout",
          "text": [
            "[10, 9, 8, 7, 6, 5, 4, 3, 2, 1]\n"
          ]
        }
      ]
    },
    {
      "cell_type": "markdown",
      "source": [
        "## 65. 리스트 슬라이싱\n",
        "\n",
        "interest 리스트에는 아래의 데이터가 바인딩되어 있다.\n",
        "\n",
        "interest=['삼성전자', 'LG전자', 'Naver']\n",
        "\n",
        "출력결과) 삼성전자 Naver"
      ],
      "metadata": {
        "id": "9OQCxn_0UeF8"
      }
    },
    {
      "cell_type": "code",
      "source": [
        "interest=['삼성전자','LG전자','Naver']\n",
        "print(interest[::2])"
      ],
      "metadata": {
        "id": "poGM-nxVUeKL",
        "colab": {
          "base_uri": "https://localhost:8080/"
        },
        "outputId": "6ddabac4-76c4-42b5-f458-74bbbdc3d023"
      },
      "execution_count": 65,
      "outputs": [
        {
          "output_type": "stream",
          "name": "stdout",
          "text": [
            "['삼성전자', 'Naver']\n"
          ]
        }
      ]
    },
    {
      "cell_type": "markdown",
      "source": [
        "##66. join 메소드\n",
        "\n",
        "  join()함수는 리스트를 하나의 문자열로 합쳐주는 역할을 한다.\n",
        "  \n",
        "\n",
        "  interest 리스트에는 아래의 데이터가 바인딩되어 있다.\n",
        "\n",
        "  interest=[\"삼성전자\",\"LG전자\",'Naver','SK하이닉스','미래에셋대우']\n",
        "\n",
        "  interst 리스트를 사용해서 아래와 같이 화면에 출력하라.\n",
        "\n",
        "  출력결과) 삼성전자 LG전자 SK 하이닉스 미래에셋대우\n"
      ],
      "metadata": {
        "id": "sJpvGbiVUePd"
      }
    },
    {
      "cell_type": "code",
      "source": [
        "interest=[\"삼성전자\",\"LG전자\",'Naver','SK하이닉스','미래에셋대우']\n",
        "print(interest)\n",
        "print(\",\".join(interest))"
      ],
      "metadata": {
        "id": "be1ukT15UeTL",
        "colab": {
          "base_uri": "https://localhost:8080/"
        },
        "outputId": "c929629f-aec0-410c-ea0c-56cc03fa19af"
      },
      "execution_count": 66,
      "outputs": [
        {
          "output_type": "stream",
          "name": "stdout",
          "text": [
            "['삼성전자', 'LG전자', 'Naver', 'SK하이닉스', '미래에셋대우']\n",
            "삼성전자,LG전자,Naver,SK하이닉스,미래에셋대우\n"
          ]
        }
      ]
    },
    {
      "cell_type": "markdown",
      "source": [
        "##67. join 메소드\n",
        "  \n",
        "  interest 리스트에는 아래의 데이터가 바인딩되어 있다.\n",
        "  \n",
        "  interest=[\"삼성전자\",\"LG전자\",'Naver','SK하이닉스','미래에셋대우']\n",
        "  \n",
        "  interest 리스트를 사용하여 아래와 같이 화면에 출력하라.\n",
        "  \n",
        "  출력결과)삼성전자/LG전자/Naver/SK하이닉스/미래에셋대우"
      ],
      "metadata": {
        "id": "ejy7hg6kUeY4"
      }
    },
    {
      "cell_type": "code",
      "source": [
        "interest=[\"삼성전자\",\"LG전자\",'Naver','SK하이닉스','미래에셋대우']\n",
        "print(interest)\n",
        "print(\"/\".join(interest))"
      ],
      "metadata": {
        "id": "Y_bD18wCUedD",
        "colab": {
          "base_uri": "https://localhost:8080/"
        },
        "outputId": "c6cf1f41-4905-4beb-aab3-5b120774bb60"
      },
      "execution_count": 67,
      "outputs": [
        {
          "output_type": "stream",
          "name": "stdout",
          "text": [
            "['삼성전자', 'LG전자', 'Naver', 'SK하이닉스', '미래에셋대우']\n",
            "삼성전자/LG전자/Naver/SK하이닉스/미래에셋대우\n"
          ]
        }
      ]
    },
    {
      "cell_type": "markdown",
      "source": [
        "##68. join 메소드\n",
        "  \n",
        "  interest 리스트에는 아래의 데이터가 바인딩되어 있다.\n",
        "  \n",
        "  interest=[\"삼성전자\",\"LG전자\",'Naver','SK하이닉스','미래에셋대우']\n",
        "  \n",
        "  interest 리스트를 사용하여 아래와 같이 화면에 출력하라.\n",
        "  \n",
        "  출력결과)\n",
        "\n",
        "  삼성전자  \n",
        "  \n",
        "  LG전자\n",
        "  \n",
        "  Naver\n",
        "  \n",
        "  SK하이닉스\n",
        "  \n",
        "  미래에셋대우"
      ],
      "metadata": {
        "id": "8-NVHpApUeib"
      }
    },
    {
      "cell_type": "code",
      "source": [
        "interest=[\"삼성전자\",\"LG전자\",'Naver','SK하이닉스','미래에셋대우']\n",
        "print(interest)\n",
        "print(\"\\n\".join(interest))"
      ],
      "metadata": {
        "id": "m-gM_1uBUemf",
        "colab": {
          "base_uri": "https://localhost:8080/"
        },
        "outputId": "c6d1afca-eaaa-45d3-d422-9c8365a2056e"
      },
      "execution_count": 68,
      "outputs": [
        {
          "output_type": "stream",
          "name": "stdout",
          "text": [
            "['삼성전자', 'LG전자', 'Naver', 'SK하이닉스', '미래에셋대우']\n",
            "삼성전자\n",
            "LG전자\n",
            "Naver\n",
            "SK하이닉스\n",
            "미래에셋대우\n"
          ]
        }
      ]
    },
    {
      "cell_type": "markdown",
      "source": [
        "##69. split 메소드\n",
        "  \n",
        "  join()함수와 반대로 spli()함수는 하나의 문자열을 나눠서 리스트화 시킨다.\n",
        "\n",
        "  회사 이름이 슬래시로 구분되어 하나의 문자열로 저장되어 있다.\n",
        "\n",
        "  string=\"삼성전자/LG전자/Naver\"\n",
        "  이를 interest 이름의 리스트로 분리 저장하라.\n"
      ],
      "metadata": {
        "id": "g-vAcrnYUerP"
      }
    },
    {
      "cell_type": "code",
      "source": [
        "string=\"삼성전자/LG전자/Naver\"\n",
        "print(string.split(\"/\"))"
      ],
      "metadata": {
        "id": "Cj1xpB2GUevq",
        "colab": {
          "base_uri": "https://localhost:8080/"
        },
        "outputId": "220b63e9-22ac-43a6-dd19-93e5a3349f72"
      },
      "execution_count": 69,
      "outputs": [
        {
          "output_type": "stream",
          "name": "stdout",
          "text": [
            "['삼성전자', 'LG전자', 'Naver']\n"
          ]
        }
      ]
    },
    {
      "cell_type": "markdown",
      "source": [
        "##70. 리스트 정렬\n",
        "\n",
        "  list.sort()함수 혹은 sorted()로 오름차순 정렬이 가능하\n",
        "  다.\n",
        "  sort(reverse=1)로 하면 내림차순 정렬이 가능하다\n",
        "  리스트에 있는 값을 오름차순으로 정렬하세요.\n",
        "\n",
        "  data=[2,4,3,1,5,10,9]"
      ],
      "metadata": {
        "id": "fWJ3-ihHur5z"
      }
    },
    {
      "cell_type": "code",
      "source": [
        "data=[2,4,3,1,5,10,9]\n",
        "data.sort(reverse=1)\n",
        "print(data)\n",
        "\n",
        "data2=[2,4,3,1,5,10,9]\n",
        "data2= sorted(data2)\n",
        "print(data2)"
      ],
      "metadata": {
        "colab": {
          "base_uri": "https://localhost:8080/"
        },
        "id": "pu6-spONusDj",
        "outputId": "fce3255d-4755-4ef4-9022-333018bd663e"
      },
      "execution_count": 70,
      "outputs": [
        {
          "output_type": "stream",
          "name": "stdout",
          "text": [
            "[10, 9, 5, 4, 3, 2, 1]\n",
            "[1, 2, 3, 4, 5, 9, 10]\n"
          ]
        }
      ]
    },
    {
      "cell_type": "markdown",
      "source": [
        "# 05.파이썬 튜플\n",
        "\n",
        "파이썬 튜플은 순서가 있지만 수정이 불가능한 자료구조다.\n",
        "리스트는 []로 묶여있다면 튜플은 ()로 묶여있다."
      ],
      "metadata": {
        "id": "k5DYbWWIJxpz"
      }
    },
    {
      "cell_type": "markdown",
      "source": [
        "##71. 튜플 생성\n",
        "\n",
        "  my_variable 이름의 비어있는 튜플을 만들라"
      ],
      "metadata": {
        "id": "ZpSEx5GQyjsX"
      }
    },
    {
      "cell_type": "code",
      "source": [
        "my_variable=()\n",
        "print(type(my_variable))"
      ],
      "metadata": {
        "colab": {
          "base_uri": "https://localhost:8080/"
        },
        "id": "6s8jsVP1yjwd",
        "outputId": "1e725a3a-a37e-4e3a-933d-874da2ad68d5"
      },
      "execution_count": 71,
      "outputs": [
        {
          "output_type": "stream",
          "name": "stdout",
          "text": [
            "<class 'tuple'>\n"
          ]
        }
      ]
    },
    {
      "cell_type": "markdown",
      "source": [
        "##72. 튜플 생성\n",
        "\n",
        "  2016년 11월 영화 예매 순위 기준 top3는 다음과 같다. 영화 제목을 movie_rank 이름의 튜플에 저장해봐라.(순위 정보는 저장하지 않는다.)\n",
        "\n",
        "\n",
        "> | 항목 | 값 |\n",
        "|---|---------|\n",
        "| 1 | 닥터스트레인지 | \n",
        "| 2 | 스플릿|\n",
        "| 3 | 럭키 |\n",
        "\n",
        "\n",
        "\n",
        "\n",
        "\n",
        "\n",
        "\n"
      ],
      "metadata": {
        "id": "dJDpgpAtyj3A"
      }
    },
    {
      "cell_type": "code",
      "source": [
        "movie_rank=('닥터스트레인지','스플릿','럭키')\n",
        "print(movie_rank)"
      ],
      "metadata": {
        "colab": {
          "base_uri": "https://localhost:8080/"
        },
        "id": "EB-JE9_xyj5P",
        "outputId": "c4456bca-c99b-4725-87ed-6510d1303c2f"
      },
      "execution_count": 72,
      "outputs": [
        {
          "output_type": "stream",
          "name": "stdout",
          "text": [
            "('닥터스트레인지', '스플릿', '럭키')\n"
          ]
        }
      ]
    },
    {
      "cell_type": "markdown",
      "source": [
        "##73. 튜플 생성\n",
        "\n",
        "  숫자 1이 저장된 튜플을 생성하라."
      ],
      "metadata": {
        "id": "8LBWIUQwykJ3"
      }
    },
    {
      "cell_type": "code",
      "source": [
        "num=(1)\n",
        "print(num)\n",
        "print(type(num))\n",
        "\n",
        "#하나의 데이터가 저장되는 경우, 아래와 같이 쉼표를 입력해야한다.(튜플은 2개이상부터!)\n",
        "num=(1,)\n",
        "print(num)\n",
        "print(type(num))"
      ],
      "metadata": {
        "colab": {
          "base_uri": "https://localhost:8080/"
        },
        "id": "ozKmhz-zykMN",
        "outputId": "c52b1e72-0ca7-4594-b2ac-6193bf4b7bc5"
      },
      "execution_count": 73,
      "outputs": [
        {
          "output_type": "stream",
          "name": "stdout",
          "text": [
            "1\n",
            "<class 'int'>\n",
            "(1,)\n",
            "<class 'tuple'>\n"
          ]
        }
      ]
    },
    {
      "cell_type": "markdown",
      "source": [
        "##74. 불변값 튜플\n",
        "\n",
        " 다음 코드를 실행해보고 오류가 발생하는 원인을 설명하라.\n"
      ],
      "metadata": {
        "id": "7uvg6mhe1ABw"
      }
    },
    {
      "cell_type": "code",
      "source": [
        "t=[1,2,3]\n",
        "t[0]='a'\n",
        "print(t)\n",
        "\n",
        "t=(1,2,3)\n",
        "#t[0]='a'\n",
        "#튜플은 자료값이 바뀌지 않기 때문에 첫번째 요소가 'a'로 바뀌지 않는다.\n",
        "#반대로 리스트는 요소값을 바꿀수 있다.\n"
      ],
      "metadata": {
        "colab": {
          "base_uri": "https://localhost:8080/"
        },
        "id": "vB5nGFK21AEe",
        "outputId": "b5c35ff8-84b4-4c2d-8128-583f9b2bcb57"
      },
      "execution_count": 74,
      "outputs": [
        {
          "output_type": "stream",
          "name": "stdout",
          "text": [
            "['a', 2, 3]\n"
          ]
        }
      ]
    },
    {
      "cell_type": "markdown",
      "source": [
        "##75. 튜플 생성\n",
        "\n",
        "  아래와 같이 t에는 1,2,3,4 데이터가 바인딩되어 있다. t가 바인딩하는 데이터 타입은 무엇인가?"
      ],
      "metadata": {
        "id": "xyhWpSas1AIP"
      }
    },
    {
      "cell_type": "code",
      "source": [
        "t=1,2,3,4\n",
        "print(type(t))\n",
        "#원친적으로 튜플은 괄호와 함께 데이터를 정의해야 하지만, 사용자 편의를 위해 괄호없이도 동작한다."
      ],
      "metadata": {
        "colab": {
          "base_uri": "https://localhost:8080/"
        },
        "id": "sNeIcYFd1ALx",
        "outputId": "8e8e2bb6-3d57-4149-d78a-d53584062883"
      },
      "execution_count": 75,
      "outputs": [
        {
          "output_type": "stream",
          "name": "stdout",
          "text": [
            "<class 'tuple'>\n"
          ]
        }
      ]
    },
    {
      "cell_type": "markdown",
      "source": [
        "##76. 튜플 수정\n",
        "\n",
        "  변수 t에는 아래와 같은 값이 저장되어 있다. 변수t가('A','b','c') 튜플을 가리키도록 수정하라.\n",
        "\n",
        "  t=('a','b','c')"
      ],
      "metadata": {
        "id": "HCnKSNXq1APC"
      }
    },
    {
      "cell_type": "code",
      "source": [
        "t='a','b','c'\n",
        "t='A','b','c'\n",
        "print(t)\n",
        "#튜플은 수정이 안되므로 새로 정의해줘야된다."
      ],
      "metadata": {
        "colab": {
          "base_uri": "https://localhost:8080/"
        },
        "id": "2o64cfwW1AR-",
        "outputId": "b92dcf63-26dd-4892-a3d3-022d3659448d"
      },
      "execution_count": 76,
      "outputs": [
        {
          "output_type": "stream",
          "name": "stdout",
          "text": [
            "('A', 'b', 'c')\n"
          ]
        }
      ]
    },
    {
      "cell_type": "markdown",
      "source": [
        "##77. 튜플과 리스트\n",
        "\n",
        "  다음 튜플을 리스트로 변환하라.\n",
        "  \n",
        "  interest=\"삼성전자\",\"LG전자\",'Naver','SK하이닉스','미래에셋대우'\n"
      ],
      "metadata": {
        "id": "nohUEFCy1AVT"
      }
    },
    {
      "cell_type": "code",
      "source": [
        "interest=\"삼성전자\",\"LG전자\",'Naver','SK하이닉스','미래에셋대우'\n",
        "list(interest)"
      ],
      "metadata": {
        "colab": {
          "base_uri": "https://localhost:8080/"
        },
        "id": "bUaFqYm01AYL",
        "outputId": "4a956ab2-c808-4139-802a-7085f3b74f91"
      },
      "execution_count": 77,
      "outputs": [
        {
          "output_type": "execute_result",
          "data": {
            "text/plain": [
              "['삼성전자', 'LG전자', 'Naver', 'SK하이닉스', '미래에셋대우']"
            ]
          },
          "metadata": {},
          "execution_count": 77
        }
      ]
    },
    {
      "cell_type": "markdown",
      "source": [
        "##78. 튜플과 리스트\n",
        "\n",
        "  다음 리스트를 튜플로 변경하라.\n",
        "  \n",
        "  interest=[\"삼성전자\",\"LG전자\",'Naver','SK하이닉스','미래에셋대우']"
      ],
      "metadata": {
        "id": "5xVTqeGf1Aap"
      }
    },
    {
      "cell_type": "code",
      "source": [
        "interest=[\"삼성전자\",\"LG전자\",'Naver','SK하이닉스','미래에셋대우']\n",
        "tuple(interest)"
      ],
      "metadata": {
        "colab": {
          "base_uri": "https://localhost:8080/"
        },
        "id": "Ld5RjOiP1Adl",
        "outputId": "c91512a1-f189-4049-c27c-ccdbb95d3d53"
      },
      "execution_count": 78,
      "outputs": [
        {
          "output_type": "execute_result",
          "data": {
            "text/plain": [
              "('삼성전자', 'LG전자', 'Naver', 'SK하이닉스', '미래에셋대우')"
            ]
          },
          "metadata": {},
          "execution_count": 78
        }
      ]
    },
    {
      "cell_type": "markdown",
      "source": [
        "##79. 튜플 언패킹\n",
        " \n",
        "  언패킹을 통해 튜플 요소값들을 각각 저장할수 있다.\n",
        "  다음 코드의 실행결과를 예상해라.\n",
        "\n",
        "  temp=('apple','banana','cake')\n",
        "\n",
        "  a,b,c,=temp\n",
        "\n",
        "  print(a,b,c)"
      ],
      "metadata": {
        "id": "ydIB4st81Afn"
      }
    },
    {
      "cell_type": "code",
      "source": [
        "temp=('apple','banana','cake')\n",
        "a,b,c=temp\n",
        "print(a,b,c)\n",
        "print(a)\n",
        "print(b)\n",
        "print(c)"
      ],
      "metadata": {
        "colab": {
          "base_uri": "https://localhost:8080/"
        },
        "id": "Vp68_N0L1AiV",
        "outputId": "608497b2-4bb0-4a67-bedc-2611e8a24d76"
      },
      "execution_count": 79,
      "outputs": [
        {
          "output_type": "stream",
          "name": "stdout",
          "text": [
            "apple banana cake\n",
            "apple\n",
            "banana\n",
            "cake\n"
          ]
        }
      ]
    },
    {
      "cell_type": "markdown",
      "source": [
        "##80. range함수\n",
        "  tuple(range())을 통해 범위내 원소값을 가지는 튜플이 생성된다.\n",
        "  1부터 99까지 정수중 짝수만 저장된 튜플을 생성해라.\n"
      ],
      "metadata": {
        "id": "M5eha7E3570c"
      }
    },
    {
      "cell_type": "code",
      "source": [
        "num=tuple(range(2,100,2))\n",
        "print(num)"
      ],
      "metadata": {
        "colab": {
          "base_uri": "https://localhost:8080/"
        },
        "id": "QX8PQFwR572z",
        "outputId": "7cdc6d49-f3e1-44af-91a1-f39472411798"
      },
      "execution_count": 80,
      "outputs": [
        {
          "output_type": "stream",
          "name": "stdout",
          "text": [
            "(2, 4, 6, 8, 10, 12, 14, 16, 18, 20, 22, 24, 26, 28, 30, 32, 34, 36, 38, 40, 42, 44, 46, 48, 50, 52, 54, 56, 58, 60, 62, 64, 66, 68, 70, 72, 74, 76, 78, 80, 82, 84, 86, 88, 90, 92, 94, 96, 98)\n"
          ]
        }
      ]
    },
    {
      "cell_type": "markdown",
      "source": [
        "#06.파이썬 딕셔너리\n",
        "\n",
        "  파이썬 딕셔너리는 순서는 없지만 key와 value 형태로 데이터를 저장한다. 특히 key는 데이터의 레이블을 지정하는 용도로 자주 사용된다. 딕셔너리는 {}로 정의한다."
      ],
      "metadata": {
        "id": "HV6PZOkgJxyh"
      }
    },
    {
      "cell_type": "markdown",
      "source": [
        "##81. 별 표현식1\n",
        "\n",
        "   기본적으로 데이터 언패킹은 좌변의 변수와 우변 데이터 개수가 같아야 한다다. 하지만 star experssion을 사용하면 변수의 개수가 달라도 데이터의 언패킹을 할 수 있다. 튜플에 저장된 데이터 중에서 앞에 있는 두개의 데이터만 필요할 경우 나머지 데이터의 언패킹 코드를 작성할 필요가 없다."
      ],
      "metadata": {
        "id": "94Y__WCBsk4f"
      }
    },
    {
      "cell_type": "code",
      "source": [
        "a,*b,c=(0,1,2,3,4,5)\n",
        "print(a)\n",
        "print(b)\n",
        "print(c)\n",
        "a,b,*c=(0,1,2,3,4,5)\n",
        "print(a)\n",
        "print(b)\n",
        "print(c)"
      ],
      "metadata": {
        "colab": {
          "base_uri": "https://localhost:8080/"
        },
        "id": "D4BGmDBUsk77",
        "outputId": "1d7dbef6-d4be-4a9f-aa27-fc8aa0dd6877"
      },
      "execution_count": 81,
      "outputs": [
        {
          "output_type": "stream",
          "name": "stdout",
          "text": [
            "0\n",
            "[1, 2, 3, 4]\n",
            "5\n",
            "0\n",
            "1\n",
            "[2, 3, 4, 5]\n"
          ]
        }
      ]
    },
    {
      "cell_type": "markdown",
      "source": [
        "다음과 같이 10개의 값이 저장된 scores  리스트가 있을 때, star expression을 사용하여 좌측 8개의 값을 valid_csore 변수에 바인딩하여라.\n",
        "\n",
        "scores=[8.8,8.9,9.2,9.3,9.7,9.9,9.5,7.8,9.4]\n"
      ],
      "metadata": {
        "id": "HHsZsNpZsk_v"
      }
    },
    {
      "cell_type": "code",
      "source": [
        "scores=[8.8,8.9,9.2,9.3,9.7,9.9,9.5,7.8,9.4]\n",
        "*valid_score,a,b=scores\n",
        "print(valid_score)"
      ],
      "metadata": {
        "colab": {
          "base_uri": "https://localhost:8080/"
        },
        "id": "3gAp_DVhslDj",
        "outputId": "d8ac94d0-4f6c-4819-f388-3a5989ab3be0"
      },
      "execution_count": 82,
      "outputs": [
        {
          "output_type": "stream",
          "name": "stdout",
          "text": [
            "[8.8, 8.9, 9.2, 9.3, 9.7, 9.9, 9.5]\n"
          ]
        }
      ]
    },
    {
      "cell_type": "markdown",
      "source": [
        "##82. 별 표현식2\n",
        "  \n",
        "  다음과 같이 10개의 값이 저장된 scores 리스트가 있을 때, star expression을 사용하여 우측 8개의 값을 valid_score 변수에 바인딩하여라.\n",
        "\n",
        "  scores=[8.8,8.9,9.2,9.3,9.7,9.9,9.5,7.8,9.4]"
      ],
      "metadata": {
        "id": "aeSD0YxNslGm"
      }
    },
    {
      "cell_type": "code",
      "source": [
        "scores=[8.8,8.9,9.2,9.3,9.7,9.9,9.5,7.8,9.4]\n",
        "a,b,*valid_score=scores\n",
        "print(valid_score)"
      ],
      "metadata": {
        "colab": {
          "base_uri": "https://localhost:8080/"
        },
        "id": "L9yiyb-uf2Jw",
        "outputId": "ed047476-26a5-4772-8c44-bb3ca75f49c8"
      },
      "execution_count": 83,
      "outputs": [
        {
          "output_type": "stream",
          "name": "stdout",
          "text": [
            "[9.2, 9.3, 9.7, 9.9, 9.5, 7.8, 9.4]\n"
          ]
        }
      ]
    },
    {
      "cell_type": "markdown",
      "source": [
        "##83. 별 표현식3\n",
        "\n",
        "  다음과 같이 10개의 값이 저장된 scores 리스트가 있을 때, star expression을 사용하여 가운데 있는 8개의 값을 valid_score 변수에 바인딩하여라."
      ],
      "metadata": {
        "id": "D7FgPYWzfWbd"
      }
    },
    {
      "cell_type": "code",
      "source": [
        "scores=[8.8,8.9,9.2,9.3,9.7,9.9,9.5,7.8,9.4]\n",
        "a,*valid_score,b=scores\n",
        "print(valid_score)"
      ],
      "metadata": {
        "id": "VnlZgGFXslJn",
        "colab": {
          "base_uri": "https://localhost:8080/"
        },
        "outputId": "3db0a793-69ae-4f21-d0a6-48a0036e73e0"
      },
      "execution_count": 84,
      "outputs": [
        {
          "output_type": "stream",
          "name": "stdout",
          "text": [
            "[8.9, 9.2, 9.3, 9.7, 9.9, 9.5, 7.8]\n"
          ]
        }
      ]
    },
    {
      "cell_type": "markdown",
      "source": [
        "##84. 비어있는 딕셔너리\n",
        "\n",
        "  temp 이름의 비어있는 딕셔너리를 만들라."
      ],
      "metadata": {
        "id": "fct2CyGWslL_"
      }
    },
    {
      "cell_type": "code",
      "source": [
        "temp={}\n",
        "print(type(temp))"
      ],
      "metadata": {
        "id": "lls17jLgslPi",
        "colab": {
          "base_uri": "https://localhost:8080/"
        },
        "outputId": "c5331186-add4-4450-a0a4-67fc06a63a71"
      },
      "execution_count": 85,
      "outputs": [
        {
          "output_type": "stream",
          "name": "stdout",
          "text": [
            "<class 'dict'>\n"
          ]
        }
      ]
    },
    {
      "cell_type": "markdown",
      "source": [
        "##85. 딕셔너리 생성\n",
        "\n",
        "  다음 아이스크림 이름과 희망 가격을 딕셔너리로 구성하라.\n",
        "  \n",
        "> | 이름 | 희망 가격 |\n",
        "|---|---------|\n",
        "| 메로나 | 1000 | \n",
        "| 폴라포 | 1200|\n",
        "| 빵빠레 | 1800 |\n"
      ],
      "metadata": {
        "id": "LpVFnzS0slRc"
      }
    },
    {
      "cell_type": "code",
      "source": [
        "tmp={\"메로나\":1000,\"폴라포\":1200,\"빵빠레\":1200}\n",
        "print(tmp)"
      ],
      "metadata": {
        "id": "rx7_ugHUslT8",
        "colab": {
          "base_uri": "https://localhost:8080/"
        },
        "outputId": "6bfd0bf1-7a88-455f-d60b-a695d28ece8d"
      },
      "execution_count": 86,
      "outputs": [
        {
          "output_type": "stream",
          "name": "stdout",
          "text": [
            "{'메로나': 1000, '폴라포': 1200, '빵빠레': 1200}\n"
          ]
        }
      ]
    },
    {
      "cell_type": "markdown",
      "source": [
        "##86. 딕셔너리 추가\n",
        "\n",
        "  85번의 딕셔너리에 아래 아이스크림 가격정보를 추가하라.\n",
        "  \n",
        "> | 이름 | 희망 가격 |\n",
        "|---|---------|\n",
        "| 죠스바 | 1200 | \n",
        "| 월드콘 | 1500|\n",
        "\n"
      ],
      "metadata": {
        "id": "XXJUDEcmslW1"
      }
    },
    {
      "cell_type": "code",
      "source": [
        "tmp={\"메로나\":1000,\"폴라포\":1200,\"빵빠레\":1200}\n",
        "print(tmp)\n",
        "tmp[\"죠스바\"]=1200\n",
        "tmp[\"월드콘\"]=1500\n",
        "print(tmp)"
      ],
      "metadata": {
        "id": "Rj-5yiDDslZJ",
        "colab": {
          "base_uri": "https://localhost:8080/"
        },
        "outputId": "5addfea4-7b24-48c7-d07d-5b54a1c1e992"
      },
      "execution_count": 87,
      "outputs": [
        {
          "output_type": "stream",
          "name": "stdout",
          "text": [
            "{'메로나': 1000, '폴라포': 1200, '빵빠레': 1200}\n",
            "{'메로나': 1000, '폴라포': 1200, '빵빠레': 1200, '죠스바': 1200, '월드콘': 1500}\n"
          ]
        }
      ]
    },
    {
      "cell_type": "markdown",
      "source": [
        "87. 딕셔너리 출력\n",
        "\n",
        "tmp={'메로나': 1000, '폴라포': 1200, '빵빠레': 1200, '죠스바': 1200, '월드콘': 1500}\n",
        "메로나 가격을 출력하라."
      ],
      "metadata": {
        "id": "pWQIGV3hsldE"
      }
    },
    {
      "cell_type": "code",
      "source": [
        "tmp={'메로나': 1000, '폴라포': 1200, '빵빠레': 1200, '죠스바': 1200, '월드콘': 1500}\n",
        "print(tmp[\"메로나\"])\n"
      ],
      "metadata": {
        "id": "xsVf0q9fslfK",
        "colab": {
          "base_uri": "https://localhost:8080/"
        },
        "outputId": "663bce03-d1d2-4e75-fa21-83077e37c11b"
      },
      "execution_count": 88,
      "outputs": [
        {
          "output_type": "stream",
          "name": "stdout",
          "text": [
            "1000\n"
          ]
        }
      ]
    },
    {
      "cell_type": "markdown",
      "source": [
        "88. 딕셔너리 수정\n",
        "\n",
        "tmp={'메로나': 1000, '폴라포': 1200, '빵빠레': 1200, '죠스바': 1200, '월드콘': 1500}\n",
        "\n",
        "다음 딕셔너리에서 메로나의 가격을 1300으로 수정하라."
      ],
      "metadata": {
        "id": "uLI7WQ0GsliY"
      }
    },
    {
      "cell_type": "code",
      "source": [
        "tmp={'메로나': 1000, '폴라포': 1200, '빵빠레': 1200, '죠스바': 1200, '월드콘': 1500}\n",
        "tmp[\"메로나\"]=1300\n",
        "print(tmp)\n"
      ],
      "metadata": {
        "id": "GarS2WWBslkl",
        "colab": {
          "base_uri": "https://localhost:8080/"
        },
        "outputId": "da350500-c895-4351-b68a-8f83aa47f53d"
      },
      "execution_count": 89,
      "outputs": [
        {
          "output_type": "stream",
          "name": "stdout",
          "text": [
            "{'메로나': 1300, '폴라포': 1200, '빵빠레': 1200, '죠스바': 1200, '월드콘': 1500}\n"
          ]
        }
      ]
    },
    {
      "cell_type": "markdown",
      "source": [
        "##89. 딕셔너리 삭제\n",
        "tmp={'메로나': 1000, '폴라포': 1200, '빵빠레': 1200, '죠스바': 1200, '월드콘': 1500}\n",
        "\n",
        "다음 딕셔너리에서 메로나를 삭제하라.\n"
      ],
      "metadata": {
        "id": "EA7TRR1XjzSw"
      }
    },
    {
      "cell_type": "code",
      "source": [
        "tmp={'메로나': 1000, '폴라포': 1200, '빵빠레': 1200, '죠스바': 1200, '월드콘': 1500}\n",
        "del tmp[\"메로나\"]\n",
        "print(tmp)"
      ],
      "metadata": {
        "colab": {
          "base_uri": "https://localhost:8080/"
        },
        "id": "tKiE1Db7jzb9",
        "outputId": "a2384c44-f7a1-43ff-e3fe-8b74062a96f1"
      },
      "execution_count": 90,
      "outputs": [
        {
          "output_type": "stream",
          "name": "stdout",
          "text": [
            "{'폴라포': 1200, '빵빠레': 1200, '죠스바': 1200, '월드콘': 1500}\n"
          ]
        }
      ]
    },
    {
      "cell_type": "markdown",
      "source": [
        "##90. 오류검출\n",
        "\n",
        "다음 코드에서 에러가 발생한 원인을 설명하라."
      ],
      "metadata": {
        "id": "zOxhk_7ajziG"
      }
    },
    {
      "cell_type": "code",
      "source": [
        "tmp={'메로나': 1000, '폴라포': 1200, '빵빠레': 1200, '죠스바': 1200, '월드콘': 1500}\n",
        "#tmp[\"누가바\"]\n",
        "\n",
        "#딕셔너리에 정의되지않았으므로 오류 발생한다,"
      ],
      "metadata": {
        "id": "H7mxCRq0jzlH"
      },
      "execution_count": 91,
      "outputs": []
    },
    {
      "cell_type": "markdown",
      "source": [
        "##91. 딕셔너리 생성\n",
        "\n",
        "아래의 표에서, 아이스크림 이름을 키값으로, (가격,재고)리스트를 딕셔너리의 값을 저장하라. 딕셔너리의 이름은 inventory로 한다.\n",
        "\n",
        "> | 이름 | 가격 |재고|\n",
        "|---|---------||\n",
        "| 메로나 |300 |20|\n",
        "| 비비빅 | 400|3|\n",
        "| 죠스바| 250 |100|\n"
      ],
      "metadata": {
        "id": "wTeEW3REYEcB"
      }
    },
    {
      "cell_type": "code",
      "source": [
        "가격=[300,400,250]\n",
        "재고=[20,3,100]\n",
        "inventory={\"메로나\":(가격[0],재고[0]),\"비비빅\":(가격[1],재고[1]),\"죠스바\":(가격[2],재고[2])}\n",
        "print(inventory)\n",
        "\n",
        "inventory2={\n",
        "\"메로나\":[300,20],\n",
        "\"비비빅\":[400,3],\n",
        "\"죠스바\":[250,100]\n",
        "}\n",
        "print(inventory2)"
      ],
      "metadata": {
        "id": "s653LCFGYHd6",
        "colab": {
          "base_uri": "https://localhost:8080/"
        },
        "outputId": "141f68f5-b083-424e-f326-013492eb58d0"
      },
      "execution_count": 92,
      "outputs": [
        {
          "output_type": "stream",
          "name": "stdout",
          "text": [
            "{'메로나': (300, 20), '비비빅': (400, 3), '죠스바': (250, 100)}\n",
            "{'메로나': [300, 20], '비비빅': [400, 3], '죠스바': [250, 100]}\n"
          ]
        }
      ]
    },
    {
      "cell_type": "markdown",
      "source": [
        "##92. 딕셔너리 인덱싱\n",
        "\n",
        "inventory 딕셔너리에서 메로나의 가격을 화면에 출력하라.\n"
      ],
      "metadata": {
        "id": "aDvtiLYjYIFH"
      }
    },
    {
      "cell_type": "code",
      "source": [
        "가격=[300,400,250]\n",
        "재고=[20,3,100]\n",
        "inventory={\"메로나\":(가격[0],재고[0]),\"비비빅\":(가격[1],재고[1]),\"죠스바\":(가격[2],재고[2])}\n",
        "print(inventory[\"메로나\"][0])\n",
        "\n",
        "inventory2={\n",
        "\"메로나\":[300,20],\n",
        "\"비비빅\":[400,3],\n",
        "\"죠스바\":[250,100]\n",
        "}\n",
        "print(inventory2[\"메로나\"][0])"
      ],
      "metadata": {
        "id": "Ixt8_kbAYGsV",
        "colab": {
          "base_uri": "https://localhost:8080/"
        },
        "outputId": "f04307b9-65fd-4bf7-8076-84046751f75a"
      },
      "execution_count": 93,
      "outputs": [
        {
          "output_type": "stream",
          "name": "stdout",
          "text": [
            "300\n",
            "300\n"
          ]
        }
      ]
    },
    {
      "cell_type": "markdown",
      "source": [
        "##93. 딕셔너리 인덱싱\n",
        "inventory 딕셔너리에서 메로나의 재고를 화면에 출력하라."
      ],
      "metadata": {
        "id": "fso5-G7TYG3O"
      }
    },
    {
      "cell_type": "code",
      "source": [
        "inventory={\n",
        "\"메로나\":[300,20],\n",
        "\"비비빅\":[400,3],\n",
        "\"죠스바\":[250,100]\n",
        "}\n",
        "print(inventory[\"메로나\"][1])"
      ],
      "metadata": {
        "id": "HgopnoC6YG-0",
        "colab": {
          "base_uri": "https://localhost:8080/"
        },
        "outputId": "c7cc40b2-0c2c-48fb-ea22-4c377bb0fad8"
      },
      "execution_count": 94,
      "outputs": [
        {
          "output_type": "stream",
          "name": "stdout",
          "text": [
            "20\n"
          ]
        }
      ]
    },
    {
      "cell_type": "markdown",
      "source": [
        "##94. 딕셔너리 추가\n",
        "\n",
        "inventory 딕셔너리에 아래 데이터를 추가하라.\n",
        "> | 이름 | 가격 |재고|\n",
        "|---|---------||\n",
        "|월드콘|500 |7|\n"
      ],
      "metadata": {
        "id": "91NaOXQnYHFX"
      }
    },
    {
      "cell_type": "code",
      "source": [
        "inventory={\n",
        "\"메로나\":[300,20],\n",
        "\"비비빅\":[400,3],\n",
        "\"죠스바\":[250,100]\n",
        "}\n",
        "inventory[\"월드콘\"]=[500,7]\n",
        "print(inventory)"
      ],
      "metadata": {
        "id": "2KNtk2MkYHJH",
        "colab": {
          "base_uri": "https://localhost:8080/"
        },
        "outputId": "e8a37601-5972-4fc6-a48d-c5ed8d08d0f6"
      },
      "execution_count": 95,
      "outputs": [
        {
          "output_type": "stream",
          "name": "stdout",
          "text": [
            "{'메로나': [300, 20], '비비빅': [400, 3], '죠스바': [250, 100], '월드콘': [500, 7]}\n"
          ]
        }
      ]
    },
    {
      "cell_type": "markdown",
      "source": [
        "##95. 딕셔너리 keys() 메소드\n",
        "\n",
        "다음의 딕셔너리로부터 key값으로만 구성도니 리스트를 생성하라.\n"
      ],
      "metadata": {
        "id": "zsg4ws9gYHN9"
      }
    },
    {
      "cell_type": "code",
      "source": [
        "icecream = {'탱크보이': 1200,'폴라포':1200,'빵빠레':1800,'월드콘':1500}\n",
        "ice=list(icecream.keys())\n",
        "print(ice)"
      ],
      "metadata": {
        "id": "4D5_b5lWYHRX",
        "colab": {
          "base_uri": "https://localhost:8080/"
        },
        "outputId": "baa8dc04-fbeb-45d2-cbed-8e51062e5fd5"
      },
      "execution_count": 96,
      "outputs": [
        {
          "output_type": "stream",
          "name": "stdout",
          "text": [
            "['탱크보이', '폴라포', '빵빠레', '월드콘']\n"
          ]
        }
      ]
    },
    {
      "cell_type": "markdown",
      "source": [
        "##96. 딕셔너리 values()메소드\n",
        "\n"
      ],
      "metadata": {
        "id": "LmlxyNUDYHaP"
      }
    },
    {
      "cell_type": "code",
      "source": [
        "icecream = {'탱크보이': 1200,'폴라포':1200,'빵빠레':1800,'월드콘':1500}\n",
        "ice=list(icecream.values())\n",
        "print(ice)"
      ],
      "metadata": {
        "id": "d6mfis1bYLrl",
        "colab": {
          "base_uri": "https://localhost:8080/"
        },
        "outputId": "4c7667f3-9079-4baa-b308-c36077882074"
      },
      "execution_count": 97,
      "outputs": [
        {
          "output_type": "stream",
          "name": "stdout",
          "text": [
            "[1200, 1200, 1800, 1500]\n"
          ]
        }
      ]
    },
    {
      "cell_type": "markdown",
      "source": [
        "##97. 딕셔너리 values()메소드\n",
        "\n",
        "icecream 딕셔너리에서 아이스크림 판매 금액의 총합을 출력하라."
      ],
      "metadata": {
        "id": "sT-j37A9YHUV"
      }
    },
    {
      "cell_type": "code",
      "source": [
        "icecream = {'탱크보이': 1200,'폴라포':1200,'빵빠레':1800,'월드콘':1500}\n",
        "ice=list(icecream.values())\n",
        "print(sum(ice))"
      ],
      "metadata": {
        "id": "EHgJfjQ2YHXh",
        "colab": {
          "base_uri": "https://localhost:8080/"
        },
        "outputId": "1dc6c7db-3389-468d-d7d9-158763cd3313"
      },
      "execution_count": 98,
      "outputs": [
        {
          "output_type": "stream",
          "name": "stdout",
          "text": [
            "5700\n"
          ]
        }
      ]
    },
    {
      "cell_type": "markdown",
      "source": [
        "##98. 딕셔너리 update메소드\n",
        "\n",
        "아래의 new_product딕셔너리를 다음 icecream  딕셔너리에 추가하라.\n",
        "icecream = {'탱크보이': 1200,'폴라포':1200,'빵빠레':1800,'월드콘':1500}\n",
        "new_product={'팥빙수':2700,'아맛나':1000}"
      ],
      "metadata": {
        "id": "1EC7OHwgYI8k"
      }
    },
    {
      "cell_type": "code",
      "source": [
        "icecream = {'탱크보이': 1200,'폴라포':1200,'빵빠레':1800,'월드콘':1500}\n",
        "new_product={'팥빙수':2700,'아맛나':1000}\n",
        "icecream.update(new_product)\n",
        "print(icecream)"
      ],
      "metadata": {
        "id": "bP8hwEAFYI_3",
        "colab": {
          "base_uri": "https://localhost:8080/"
        },
        "outputId": "7c98e464-98a3-40be-adba-eb10284a9db5"
      },
      "execution_count": 99,
      "outputs": [
        {
          "output_type": "stream",
          "name": "stdout",
          "text": [
            "{'탱크보이': 1200, '폴라포': 1200, '빵빠레': 1800, '월드콘': 1500, '팥빙수': 2700, '아맛나': 1000}\n"
          ]
        }
      ]
    },
    {
      "cell_type": "markdown",
      "source": [
        "##99. zip과 dict\n",
        "\n",
        "아래 두개의 튜플을 하나의 딕셔너리로 변환하라. keys를 키로, vals를 값으로 result 이름의 딕셔너리로 저장한다.\n"
      ],
      "metadata": {
        "id": "Q8ZecEqyYJEe"
      }
    },
    {
      "cell_type": "code",
      "source": [
        "keys=(\"apple\",\"pear\",\"peach\")\n",
        "vals=(300,250,400)\n",
        "result=dict(zip(keys,vals))\n",
        "print(result)"
      ],
      "metadata": {
        "id": "W8fOCQIRYJHb",
        "colab": {
          "base_uri": "https://localhost:8080/"
        },
        "outputId": "475cf0be-f269-47a1-cbf7-e4136610613f"
      },
      "execution_count": 100,
      "outputs": [
        {
          "output_type": "stream",
          "name": "stdout",
          "text": [
            "{'apple': 300, 'pear': 250, 'peach': 400}\n"
          ]
        }
      ]
    },
    {
      "cell_type": "markdown",
      "source": [
        "##100. zip과 dict\n",
        "\n",
        "date와 close_price 두개의 리스트를 close_table 이름의 딕셔너리로 생성하라."
      ],
      "metadata": {
        "id": "lDN0JQ1OYJKl"
      }
    },
    {
      "cell_type": "code",
      "source": [
        "date=['09/05','09/06','09/07','09/08','09/09']\n",
        "close_price=[10500,10300,10100,10800,11000]\n",
        "close_table=dict(zip(date,close_price))\n",
        "print(close_table)"
      ],
      "metadata": {
        "id": "ImFcuorRYJNg",
        "colab": {
          "base_uri": "https://localhost:8080/"
        },
        "outputId": "048e1919-95fb-42df-8048-39d2ab1d4822"
      },
      "execution_count": 101,
      "outputs": [
        {
          "output_type": "stream",
          "name": "stdout",
          "text": [
            "{'09/05': 10500, '09/06': 10300, '09/07': 10100, '09/08': 10800, '09/09': 11000}\n"
          ]
        }
      ]
    },
    {
      "cell_type": "markdown",
      "source": [
        "#07.파이썬 if문\n",
        "\n"
      ],
      "metadata": {
        "id": "CoPu9GukJx8p"
      }
    },
    {
      "cell_type": "markdown",
      "source": [
        "##101. Bool\n",
        "\n",
        "파이썬에서 True혹은 False를 갖는 데이터 타입은 무엇인가?"
      ],
      "metadata": {
        "id": "dZ-gc6tUsiED"
      }
    },
    {
      "cell_type": "code",
      "source": [
        "a=True\n",
        "print(type(a))"
      ],
      "metadata": {
        "colab": {
          "base_uri": "https://localhost:8080/"
        },
        "id": "CDqoNBIDsiH1",
        "outputId": "a2d97d0a-67a7-4223-b094-cb050182fde5"
      },
      "execution_count": 102,
      "outputs": [
        {
          "output_type": "stream",
          "name": "stdout",
          "text": [
            "<class 'bool'>\n"
          ]
        }
      ]
    },
    {
      "cell_type": "markdown",
      "source": [
        "##102. Bool:False\n",
        "아래코드의 출력 결과를 예상해라"
      ],
      "metadata": {
        "id": "j2zEcJYqsiNF"
      }
    },
    {
      "cell_type": "code",
      "source": [
        "print(3==5)\n"
      ],
      "metadata": {
        "colab": {
          "base_uri": "https://localhost:8080/"
        },
        "id": "YS6b5VJfsiPt",
        "outputId": "d72777f6-c3c4-47e7-ccee-bf50d81ad921"
      },
      "execution_count": 103,
      "outputs": [
        {
          "output_type": "stream",
          "name": "stdout",
          "text": [
            "False\n"
          ]
        }
      ]
    },
    {
      "cell_type": "markdown",
      "source": [
        "##103. Bool:True\n",
        "\n",
        "아래 코드의 출력 결과를 예상해라"
      ],
      "metadata": {
        "id": "Bq2Gm2UusiSt"
      }
    },
    {
      "cell_type": "code",
      "source": [
        "print(3<5)"
      ],
      "metadata": {
        "colab": {
          "base_uri": "https://localhost:8080/"
        },
        "id": "DziOi6FSsiVl",
        "outputId": "73adf0f5-3861-45dc-c721-d5450fdf1e86"
      },
      "execution_count": 104,
      "outputs": [
        {
          "output_type": "stream",
          "name": "stdout",
          "text": [
            "True\n"
          ]
        }
      ]
    },
    {
      "cell_type": "markdown",
      "source": [
        "##104. Bool:True\n",
        "아래 코드의 결과를 예상해라."
      ],
      "metadata": {
        "id": "NvVruVzMsiX7"
      }
    },
    {
      "cell_type": "code",
      "source": [
        "x=4\n",
        "print(1<x<5)"
      ],
      "metadata": {
        "colab": {
          "base_uri": "https://localhost:8080/"
        },
        "id": "XfgarWpnsiaW",
        "outputId": "2887cf22-4ac9-4548-df62-fc717519e6cc"
      },
      "execution_count": 105,
      "outputs": [
        {
          "output_type": "stream",
          "name": "stdout",
          "text": [
            "True\n"
          ]
        }
      ]
    },
    {
      "cell_type": "markdown",
      "source": [
        "##105. Bool: and\n",
        "\n",
        "아래 코드의 결과를 예상해라."
      ],
      "metadata": {
        "id": "gLGb0Io8sic-"
      }
    },
    {
      "cell_type": "code",
      "source": [
        "print((3==3)and(4!=3))"
      ],
      "metadata": {
        "colab": {
          "base_uri": "https://localhost:8080/"
        },
        "id": "glSC_hCMsifo",
        "outputId": "22568672-705b-4f67-adb1-ad22a6966e8c"
      },
      "execution_count": 106,
      "outputs": [
        {
          "output_type": "stream",
          "name": "stdout",
          "text": [
            "True\n"
          ]
        }
      ]
    },
    {
      "cell_type": "markdown",
      "source": [
        "##106. Bool\n",
        "\n",
        "아래 코드에서 에러가 발생하는 원인에 대해 설명하라."
      ],
      "metadata": {
        "id": "O8h88YpNsih1"
      }
    },
    {
      "cell_type": "code",
      "source": [
        "#print(3=>4)\n",
        "#같거나 크다가 아닌 크거나 같아야한다.\n",
        "print(3>=4)"
      ],
      "metadata": {
        "colab": {
          "base_uri": "https://localhost:8080/"
        },
        "id": "N2wmgOTasik9",
        "outputId": "a29e053b-fa18-4e62-c9c7-d9f4ae5dbefa"
      },
      "execution_count": 107,
      "outputs": [
        {
          "output_type": "stream",
          "name": "stdout",
          "text": [
            "False\n"
          ]
        }
      ]
    },
    {
      "cell_type": "markdown",
      "source": [
        "##107. if문\n",
        "\n",
        "아래 코드의 출력 결과를 예상하라"
      ],
      "metadata": {
        "id": "BMH_9BZksinF"
      }
    },
    {
      "cell_type": "code",
      "source": [
        "if 4<3:\n",
        "  print(\"Hello World\")"
      ],
      "metadata": {
        "id": "xjfVJfr7siqH"
      },
      "execution_count": 108,
      "outputs": []
    },
    {
      "cell_type": "markdown",
      "source": [
        "##108. if else문\n",
        "\n",
        "아래 코드의 출력 결과를 예상하라"
      ],
      "metadata": {
        "id": "HfGlHEidsisu"
      }
    },
    {
      "cell_type": "code",
      "source": [
        "if 4<3:\n",
        "  print(\"Hello World\")\n",
        "else:\n",
        "  print(\"hi\")"
      ],
      "metadata": {
        "colab": {
          "base_uri": "https://localhost:8080/"
        },
        "id": "p0gNnjj9sivl",
        "outputId": "90e23ca8-abb6-4535-bb29-b4d2f0fdf707"
      },
      "execution_count": 109,
      "outputs": [
        {
          "output_type": "stream",
          "name": "stdout",
          "text": [
            "hi\n"
          ]
        }
      ]
    },
    {
      "cell_type": "markdown",
      "source": [
        "##109. if문\n",
        "\n",
        "아래 코드의 출력결과를 예상해라."
      ],
      "metadata": {
        "id": "_V62yhznsiyg"
      }
    },
    {
      "cell_type": "code",
      "source": [
        "if 1:\n",
        "  print(\"1\")\n",
        "  print(\"2\")\n",
        "else:\n",
        "  print(\"3\")\n",
        "print(\"4\")"
      ],
      "metadata": {
        "colab": {
          "base_uri": "https://localhost:8080/"
        },
        "id": "qYuowLftsi0j",
        "outputId": "643d3288-baea-4e79-acf1-d2ab4e2d142f"
      },
      "execution_count": 110,
      "outputs": [
        {
          "output_type": "stream",
          "name": "stdout",
          "text": [
            "1\n",
            "2\n",
            "4\n"
          ]
        }
      ]
    },
    {
      "cell_type": "markdown",
      "source": [
        "##110. if문\n",
        "\n",
        "아래 코드의 출력결과를 에상해라."
      ],
      "metadata": {
        "id": "GUxLGHFesi4Y"
      }
    },
    {
      "cell_type": "code",
      "source": [
        "if True:\n",
        "  if False:\n",
        "    print(1)\n",
        "    print(2)\n",
        "  else:\n",
        "    print(3)\n",
        "else:\n",
        "  print(4)\n",
        "print(5)"
      ],
      "metadata": {
        "colab": {
          "base_uri": "https://localhost:8080/"
        },
        "id": "ylZfjVlbsi6K",
        "outputId": "b0b6e37a-e0f6-4d9b-8db6-0d76a931e426"
      },
      "execution_count": 111,
      "outputs": [
        {
          "output_type": "stream",
          "name": "stdout",
          "text": [
            "3\n",
            "5\n"
          ]
        }
      ]
    },
    {
      "cell_type": "markdown",
      "source": [
        "#08.입력함수"
      ],
      "metadata": {
        "id": "YSWuWnKgCpZc"
      }
    },
    {
      "cell_type": "markdown",
      "source": [
        "##111. 입력함수\n",
        "\n",
        "사용자로부터 입력받은 문자열을 두번 출력하라."
      ],
      "metadata": {
        "id": "AopBGfpcsi9N"
      }
    },
    {
      "cell_type": "code",
      "source": [
        "a=input()\n",
        "print(a*2)"
      ],
      "metadata": {
        "colab": {
          "base_uri": "https://localhost:8080/",
          "height": 559
        },
        "id": "ZxxI2mWAsi_P",
        "outputId": "aa817362-02b4-4005-8c30-17ae5303e28b"
      },
      "execution_count": 112,
      "outputs": [
        {
          "output_type": "error",
          "ename": "KeyboardInterrupt",
          "evalue": "ignored",
          "traceback": [
            "\u001b[0;31m---------------------------------------------------------------------------\u001b[0m",
            "\u001b[0;31mKeyboardInterrupt\u001b[0m                         Traceback (most recent call last)",
            "\u001b[0;32m/usr/local/lib/python3.7/dist-packages/ipykernel/kernelbase.py\u001b[0m in \u001b[0;36m_input_request\u001b[0;34m(self, prompt, ident, parent, password)\u001b[0m\n\u001b[1;32m    728\u001b[0m             \u001b[0;32mtry\u001b[0m\u001b[0;34m:\u001b[0m\u001b[0;34m\u001b[0m\u001b[0;34m\u001b[0m\u001b[0m\n\u001b[0;32m--> 729\u001b[0;31m                 \u001b[0mident\u001b[0m\u001b[0;34m,\u001b[0m \u001b[0mreply\u001b[0m \u001b[0;34m=\u001b[0m \u001b[0mself\u001b[0m\u001b[0;34m.\u001b[0m\u001b[0msession\u001b[0m\u001b[0;34m.\u001b[0m\u001b[0mrecv\u001b[0m\u001b[0;34m(\u001b[0m\u001b[0mself\u001b[0m\u001b[0;34m.\u001b[0m\u001b[0mstdin_socket\u001b[0m\u001b[0;34m,\u001b[0m \u001b[0;36m0\u001b[0m\u001b[0;34m)\u001b[0m\u001b[0;34m\u001b[0m\u001b[0;34m\u001b[0m\u001b[0m\n\u001b[0m\u001b[1;32m    730\u001b[0m             \u001b[0;32mexcept\u001b[0m \u001b[0mException\u001b[0m\u001b[0;34m:\u001b[0m\u001b[0;34m\u001b[0m\u001b[0;34m\u001b[0m\u001b[0m\n",
            "\u001b[0;32m/usr/local/lib/python3.7/dist-packages/jupyter_client/session.py\u001b[0m in \u001b[0;36mrecv\u001b[0;34m(self, socket, mode, content, copy)\u001b[0m\n\u001b[1;32m    802\u001b[0m         \u001b[0;32mtry\u001b[0m\u001b[0;34m:\u001b[0m\u001b[0;34m\u001b[0m\u001b[0;34m\u001b[0m\u001b[0m\n\u001b[0;32m--> 803\u001b[0;31m             \u001b[0mmsg_list\u001b[0m \u001b[0;34m=\u001b[0m \u001b[0msocket\u001b[0m\u001b[0;34m.\u001b[0m\u001b[0mrecv_multipart\u001b[0m\u001b[0;34m(\u001b[0m\u001b[0mmode\u001b[0m\u001b[0;34m,\u001b[0m \u001b[0mcopy\u001b[0m\u001b[0;34m=\u001b[0m\u001b[0mcopy\u001b[0m\u001b[0;34m)\u001b[0m\u001b[0;34m\u001b[0m\u001b[0;34m\u001b[0m\u001b[0m\n\u001b[0m\u001b[1;32m    804\u001b[0m         \u001b[0;32mexcept\u001b[0m \u001b[0mzmq\u001b[0m\u001b[0;34m.\u001b[0m\u001b[0mZMQError\u001b[0m \u001b[0;32mas\u001b[0m \u001b[0me\u001b[0m\u001b[0;34m:\u001b[0m\u001b[0;34m\u001b[0m\u001b[0;34m\u001b[0m\u001b[0m\n",
            "\u001b[0;32m/usr/local/lib/python3.7/dist-packages/zmq/sugar/socket.py\u001b[0m in \u001b[0;36mrecv_multipart\u001b[0;34m(self, flags, copy, track)\u001b[0m\n\u001b[1;32m    726\u001b[0m         \"\"\"\n\u001b[0;32m--> 727\u001b[0;31m         \u001b[0mparts\u001b[0m \u001b[0;34m=\u001b[0m \u001b[0;34m[\u001b[0m\u001b[0mself\u001b[0m\u001b[0;34m.\u001b[0m\u001b[0mrecv\u001b[0m\u001b[0;34m(\u001b[0m\u001b[0mflags\u001b[0m\u001b[0;34m,\u001b[0m \u001b[0mcopy\u001b[0m\u001b[0;34m=\u001b[0m\u001b[0mcopy\u001b[0m\u001b[0;34m,\u001b[0m \u001b[0mtrack\u001b[0m\u001b[0;34m=\u001b[0m\u001b[0mtrack\u001b[0m\u001b[0;34m)\u001b[0m\u001b[0;34m]\u001b[0m\u001b[0;34m\u001b[0m\u001b[0;34m\u001b[0m\u001b[0m\n\u001b[0m\u001b[1;32m    728\u001b[0m         \u001b[0;31m# have first part already, only loop while more to receive\u001b[0m\u001b[0;34m\u001b[0m\u001b[0;34m\u001b[0m\u001b[0;34m\u001b[0m\u001b[0m\n",
            "\u001b[0;32mzmq/backend/cython/socket.pyx\u001b[0m in \u001b[0;36mzmq.backend.cython.socket.Socket.recv\u001b[0;34m()\u001b[0m\n",
            "\u001b[0;32mzmq/backend/cython/socket.pyx\u001b[0m in \u001b[0;36mzmq.backend.cython.socket.Socket.recv\u001b[0;34m()\u001b[0m\n",
            "\u001b[0;32mzmq/backend/cython/socket.pyx\u001b[0m in \u001b[0;36mzmq.backend.cython.socket._recv_copy\u001b[0;34m()\u001b[0m\n",
            "\u001b[0;32m/usr/local/lib/python3.7/dist-packages/zmq/backend/cython/checkrc.pxd\u001b[0m in \u001b[0;36mzmq.backend.cython.checkrc._check_rc\u001b[0;34m()\u001b[0m\n",
            "\u001b[0;31mKeyboardInterrupt\u001b[0m: ",
            "\nDuring handling of the above exception, another exception occurred:\n",
            "\u001b[0;31mKeyboardInterrupt\u001b[0m                         Traceback (most recent call last)",
            "\u001b[0;32m<ipython-input-112-256e5fa02b0f>\u001b[0m in \u001b[0;36m<module>\u001b[0;34m()\u001b[0m\n\u001b[0;32m----> 1\u001b[0;31m \u001b[0ma\u001b[0m\u001b[0;34m=\u001b[0m\u001b[0minput\u001b[0m\u001b[0;34m(\u001b[0m\u001b[0;34m)\u001b[0m\u001b[0;34m\u001b[0m\u001b[0;34m\u001b[0m\u001b[0m\n\u001b[0m\u001b[1;32m      2\u001b[0m \u001b[0mprint\u001b[0m\u001b[0;34m(\u001b[0m\u001b[0ma\u001b[0m\u001b[0;34m*\u001b[0m\u001b[0;36m2\u001b[0m\u001b[0;34m)\u001b[0m\u001b[0;34m\u001b[0m\u001b[0;34m\u001b[0m\u001b[0m\n",
            "\u001b[0;32m/usr/local/lib/python3.7/dist-packages/ipykernel/kernelbase.py\u001b[0m in \u001b[0;36mraw_input\u001b[0;34m(self, prompt)\u001b[0m\n\u001b[1;32m    702\u001b[0m             \u001b[0mself\u001b[0m\u001b[0;34m.\u001b[0m\u001b[0m_parent_ident\u001b[0m\u001b[0;34m,\u001b[0m\u001b[0;34m\u001b[0m\u001b[0;34m\u001b[0m\u001b[0m\n\u001b[1;32m    703\u001b[0m             \u001b[0mself\u001b[0m\u001b[0;34m.\u001b[0m\u001b[0m_parent_header\u001b[0m\u001b[0;34m,\u001b[0m\u001b[0;34m\u001b[0m\u001b[0;34m\u001b[0m\u001b[0m\n\u001b[0;32m--> 704\u001b[0;31m             \u001b[0mpassword\u001b[0m\u001b[0;34m=\u001b[0m\u001b[0;32mFalse\u001b[0m\u001b[0;34m,\u001b[0m\u001b[0;34m\u001b[0m\u001b[0;34m\u001b[0m\u001b[0m\n\u001b[0m\u001b[1;32m    705\u001b[0m         )\n\u001b[1;32m    706\u001b[0m \u001b[0;34m\u001b[0m\u001b[0m\n",
            "\u001b[0;32m/usr/local/lib/python3.7/dist-packages/ipykernel/kernelbase.py\u001b[0m in \u001b[0;36m_input_request\u001b[0;34m(self, prompt, ident, parent, password)\u001b[0m\n\u001b[1;32m    732\u001b[0m             \u001b[0;32mexcept\u001b[0m \u001b[0mKeyboardInterrupt\u001b[0m\u001b[0;34m:\u001b[0m\u001b[0;34m\u001b[0m\u001b[0;34m\u001b[0m\u001b[0m\n\u001b[1;32m    733\u001b[0m                 \u001b[0;31m# re-raise KeyboardInterrupt, to truncate traceback\u001b[0m\u001b[0;34m\u001b[0m\u001b[0;34m\u001b[0m\u001b[0;34m\u001b[0m\u001b[0m\n\u001b[0;32m--> 734\u001b[0;31m                 \u001b[0;32mraise\u001b[0m \u001b[0mKeyboardInterrupt\u001b[0m\u001b[0;34m\u001b[0m\u001b[0;34m\u001b[0m\u001b[0m\n\u001b[0m\u001b[1;32m    735\u001b[0m             \u001b[0;32melse\u001b[0m\u001b[0;34m:\u001b[0m\u001b[0;34m\u001b[0m\u001b[0;34m\u001b[0m\u001b[0m\n\u001b[1;32m    736\u001b[0m                 \u001b[0;32mbreak\u001b[0m\u001b[0;34m\u001b[0m\u001b[0;34m\u001b[0m\u001b[0m\n",
            "\u001b[0;31mKeyboardInterrupt\u001b[0m: "
          ]
        }
      ]
    },
    {
      "cell_type": "markdown",
      "source": [
        "##112. 입력함수\n",
        "\n",
        "사용자로부터 하나의 숫자를 입력받고, 입력 받은 숫자에 10을 더해 출력해라."
      ],
      "metadata": {
        "id": "i2keARX1sjCt"
      }
    },
    {
      "cell_type": "code",
      "source": [
        "x=input()\n",
        "print(int(x)+10)"
      ],
      "metadata": {
        "id": "dTH5a4UfsjEv"
      },
      "execution_count": null,
      "outputs": []
    },
    {
      "cell_type": "markdown",
      "source": [
        "##113. 홀짝 판별\n",
        "\n",
        "사용자로부터 하나의 숫자를 입력 받고 짝수/홀수를 판별하라."
      ],
      "metadata": {
        "id": "SwO1nTvDsjH1"
      }
    },
    {
      "cell_type": "code",
      "source": [
        "x=input()\n",
        "x=int(x)\n",
        "if x%2==0:\n",
        "  print(\"짝수\")\n",
        "else:\n",
        "  print('홀수')"
      ],
      "metadata": {
        "id": "TcriHNeJsjKN"
      },
      "execution_count": null,
      "outputs": []
    },
    {
      "cell_type": "markdown",
      "source": [
        "##114. 20더하기\n",
        "\n",
        "사용자로부터 값을 입력받은 후 해당값에 20을 더한 값을 출력하라. 단 사용자가 입력한 값과 20을 더한 계산 값이 255를 초과하는 경우 255를 출력해야한다."
      ],
      "metadata": {
        "id": "p5aMGeRisjM2"
      }
    },
    {
      "cell_type": "code",
      "source": [
        "a=input()\n",
        "a=int(a)+20\n",
        "if a>255:\n",
        "  print(255)\n",
        "else:\n",
        "  print(a)"
      ],
      "metadata": {
        "id": "114mlVJFsjPD"
      },
      "execution_count": null,
      "outputs": []
    },
    {
      "cell_type": "markdown",
      "source": [
        "##115. 20빼기\n",
        "\n",
        "사용자로부터 하나의 값을 입력받은 후 해당 값에 20을 뺀 값을 출력하라. 단 출력 값의 범위는 0~255다. 예를 들어 결괏값이 0보다 작은 값이 되는 경우 0을 출력하고 255보다 큰 값이 되는 경우 255를 출력해야 한다."
      ],
      "metadata": {
        "id": "rK0DlL3RsjSA"
      }
    },
    {
      "cell_type": "code",
      "source": [
        "a=input()\n",
        "a=int(a)-20\n",
        "if a<0:\n",
        "  print(0)\n",
        "elif a>255:\n",
        "  print(255)\n",
        "else:\n",
        "  print(a)"
      ],
      "metadata": {
        "id": "HOPQsX0zsjUe"
      },
      "execution_count": null,
      "outputs": []
    },
    {
      "cell_type": "markdown",
      "source": [
        "##116. 정각 판별\n",
        "\n",
        "사용자로부터 입력 받은 시간이 정각인지 판별하라."
      ],
      "metadata": {
        "id": "Wys6xhcksjXN"
      }
    },
    {
      "cell_type": "code",
      "source": [
        "h,m=input().split()\n",
        "print(h,\":\",m)\n",
        "if int(m)==0:\n",
        "  print(\"정각입니다.\")"
      ],
      "metadata": {
        "id": "VVofvKBBsjaY"
      },
      "execution_count": null,
      "outputs": []
    },
    {
      "cell_type": "markdown",
      "source": [
        "##117. 리스트 판별\n",
        "\n",
        "사용자로 입력받은 단어가 아래 fruit 리스트에 포함되어 있는지를 확인하라. 포함되었다면 \"정답입니다.\"를 아닐 경우 \"오답입니다\"를 출력하라,"
      ],
      "metadata": {
        "id": "6cm4NxO7sjc_"
      }
    },
    {
      "cell_type": "code",
      "source": [
        "fruit=['딸기','바나나','포도']\n",
        "a=input()\n",
        "if a in fruit:\n",
        "  print(\"정답입니다\")\n",
        "else:\n",
        "  print(\"땡!\")"
      ],
      "metadata": {
        "id": "QeK6vKEysji5"
      },
      "execution_count": null,
      "outputs": []
    },
    {
      "cell_type": "markdown",
      "source": [
        "##118. 리스트 판별\n",
        "투자 경고 종목 리스트가 있을 때 사용자로부터 종목명을 입력 받은 후 해당 종목이 투자 경고 종목이라면 '투자 경고 종목입니다'를 아니면 '투자 경고 종목이 아닙니다.'를 출력하는 프로그램을 작성하라"
      ],
      "metadata": {
        "id": "JqB3AwOosjnl"
      }
    },
    {
      "cell_type": "code",
      "source": [
        "warn=['microsoft','google','naver','samsung']\n",
        "a= input()\n",
        "if a in warn:\n",
        "  print(\"투자 경고 종목입니다.\")\n",
        "else:\n",
        "  print(\"투자 경고 종목이 아닙니다.\")"
      ],
      "metadata": {
        "id": "gj3y4Y0usjsV"
      },
      "execution_count": null,
      "outputs": []
    },
    {
      "cell_type": "markdown",
      "source": [
        "##119. 딕셔너리 판별\n",
        "\n",
        "아래와 같이 fruit 딕셔너리가 정의되어 있다. 사용자가 입력한 값이 딕셔너리 키(key)값에 포함되었다면 \"정답입니다\"를 아닐 경우 \"오답입니다\"를 출력하라."
      ],
      "metadata": {
        "id": "pJPp9TQmsjwe"
      }
    },
    {
      "cell_type": "code",
      "source": [
        "fruit={\"봄\":\"딸기\",\"여름\":\"토마토\",'가을':'사과'}\n",
        "a=input()\n",
        "if a in fruit:\n",
        "  print(\"정답입니다\")\n",
        "else:\n",
        "  print(\"오답입니다.\")"
      ],
      "metadata": {
        "id": "ppjzALvusj0W"
      },
      "execution_count": null,
      "outputs": []
    },
    {
      "cell_type": "markdown",
      "source": [
        "\n",
        "##120. 딕셔너리 값(value) 판별\n",
        "\n",
        "아래와 같이 fruit 딕셔너리가 정의되어있다. 사용자가 입력한 값이 딕셔너리 값에 포함되어있다면 \"정답입니다\"를 아닐 경우 \"오답입니다\"를 출력하라."
      ],
      "metadata": {
        "id": "HnW1Ibphsj3l"
      }
    },
    {
      "cell_type": "code",
      "source": [
        "fruit={\"봄\":\"딸기\",\"여름\":\"토마토\",'가을':'사과'}\n",
        "a=input()\n",
        "if a in fruit.values():\n",
        "  print(\"정답입니다\")\n",
        "else:\n",
        "  print(\"오답입니다.\")"
      ],
      "metadata": {
        "id": "IWX_DYcfsj6e"
      },
      "execution_count": null,
      "outputs": []
    },
    {
      "cell_type": "markdown",
      "source": [
        "##121. lower()& upper()\n",
        "사용자로부터 문자 한 개를 입력 받고, 소문자일 경우 대문자로, 대문자일 경우, 소문자로 변경해서 출력하라,"
      ],
      "metadata": {
        "id": "w1fkSYE1sj92"
      }
    },
    {
      "cell_type": "code",
      "source": [
        "a=input()\n",
        "if a.islower():\n",
        "  print(a.upper())\n",
        "else:\n",
        "  print(a.lower())\n",
        "\n",
        "a=input()\n",
        "if a.isupper():\n",
        "  print(a.lower())\n",
        "else:\n",
        "  print(a.upper())"
      ],
      "metadata": {
        "id": "4EdCHS4LskAX"
      },
      "execution_count": null,
      "outputs": []
    },
    {
      "cell_type": "markdown",
      "source": [
        "##122. 학점 분배\n",
        "\n",
        "점수 구간에 해당하는 학점이 아래와 같이 정의되어 있다. 사용자로부터 score를 입력받아 학점을 출력하라.\n",
        "\n",
        "> |점수|학점|\n",
        "|---|---------|\n",
        "|81~100|A|\n",
        "| 61~80|B|\n",
        "| 41~60|C|\n",
        "| 21~40|D|\n",
        "| 0~20| F|\n"
      ],
      "metadata": {
        "id": "xUJ_oAWHskDk"
      }
    },
    {
      "cell_type": "code",
      "source": [
        "score=int(input())\n",
        "if score>81:\n",
        "  print(\"A\")\n",
        "elif score>61:\n",
        "  print(\"B\")\n",
        "elif score>41:\n",
        "  print(\"C\")\n",
        "elif score>21:\n",
        "  print(\"D\")\n",
        "else:\n",
        "  print(\"F\")  "
      ],
      "metadata": {
        "id": "ysatBW7lskGV"
      },
      "execution_count": null,
      "outputs": []
    },
    {
      "cell_type": "markdown",
      "source": [
        "##123. 환율 변환\n",
        "\n",
        "사용자로부터 달러,엔,유로 또는 위안 금액을 입력받은 후 이를 원으로 변환하는 프로그램을 작성하라. 각 통화별 환율은 다음과 같다. 사용자는 100 달러, 1000 엔, 13 유로,100 위안과 같이 금액과 통화명 사이에 공백을 넣어 입력한다고 가정한다.\n",
        "\n",
        "> |통화명|환율|\n",
        "|---|---------|\n",
        "|달러|1167|\n",
        "| 엔|1.096|\n",
        "| 유로|1268|\n",
        "| 위안|171|"
      ],
      "metadata": {
        "id": "8tw3wDQrskJu"
      }
    },
    {
      "cell_type": "code",
      "source": [
        "won=input()\n",
        "mon={'달러':1167,'엔':1.096,\"유로\":1268,\"위안\":171}\n",
        "num, currency=won.split()\n",
        "print(float(num)*mon[currency])"
      ],
      "metadata": {
        "id": "qc1zehbVskMd"
      },
      "execution_count": null,
      "outputs": []
    },
    {
      "cell_type": "markdown",
      "source": [
        "##124. 큰값 출력하기\n",
        "\n",
        "사용자로부터 세게의 숫자를 입력 받은 후 가장 큰 숫자를 출력하라."
      ],
      "metadata": {
        "id": "XoTqscYRskPv"
      }
    },
    {
      "cell_type": "code",
      "source": [
        "number1=input()\n",
        "number2=input()\n",
        "number3=input()\n",
        "number=[number1,number2,number3]\n",
        "print(max(number))\n",
        "#답지의 풀이는 if else를 활용해서 숫자를 비교하지만, 계산이 빠를수록 좋으므로 내장함수를 이용해 시간을 단축하자."
      ],
      "metadata": {
        "id": "HZ110CvcskSV"
      },
      "execution_count": null,
      "outputs": []
    },
    {
      "cell_type": "markdown",
      "source": [
        "##125. 통신사 구별하기\n",
        "\n",
        "휴대폰 번호 앞자리에 따라 통신사는 아래와 같이 구분된다. 사용자로부터 휴대전화 번호를 입력 받고, 통신사를 출력하는 프로그램을 작성하라.\n",
        "\n",
        "> |번호|통신사|\n",
        "|---|---------|\n",
        "|011|SKT|\n",
        "|016|KT|\n",
        "|019|LGU|\n",
        "|010|알수 없음|"
      ],
      "metadata": {
        "id": "A7_9M7kqskVN"
      }
    },
    {
      "cell_type": "code",
      "source": [
        "number=input()\n",
        "num=number.split(\"-\")[0]\n",
        "if num==\"011\":\n",
        "  com=\"SKT\"\n",
        "elif num==\"016\":\n",
        "  com=\"KT\"\n",
        "elif num==\"019\":\n",
        "  com=\"LGU\"\n",
        "else:\n",
        "  com=\"알수 없음\" \n",
        "print(f\"당신의 통신사는 {com}입니다.\")"
      ],
      "metadata": {
        "id": "cDLmuUarskXx"
      },
      "execution_count": null,
      "outputs": []
    },
    {
      "cell_type": "markdown",
      "source": [
        "##126. 우편번호 구별\n",
        "\n",
        "우편번호는 5자리로 구성되는데, 앞의 세자리는 구를 나타낸다. 예를들어, 강북구의 경우 010,011,012 세자리로 시작한다.\n",
        "\n",
        "> |-|0|1|2|3|4|5|6|7|8|9|\n",
        "|--|------|------|------|------|------|------|------|------|------|------|\n",
        "|01|강북구|강북구|강북구|도봉구|도봉구|도봉구|노원구|노원구|노원구|노원구|\n",
        "\n",
        "사용자로부터 5자리의 우편번호를 입력받고 구를 판별하라.\n"
      ],
      "metadata": {
        "id": "NYXblYayskax"
      }
    },
    {
      "cell_type": "code",
      "source": [
        "number=input()\n",
        "num=int(number[3])\n",
        "if num in(0,1,2):\n",
        "  print(\"강북구\")\n",
        "elif num in(3,4,5):\n",
        "  print(\"도봉구\")\n",
        "elif num in (6,7,8,9):\n",
        "  print(\"노원구\")\n",
        "else:\n",
        "  print('잘못된 우편번호입니다.')"
      ],
      "metadata": {
        "id": "n0r0l-tvskdB"
      },
      "execution_count": null,
      "outputs": []
    },
    {
      "cell_type": "markdown",
      "source": [
        "##127. 성별 판별하기\n",
        "\n",
        "주민등록번호 뒷 자리 7자리 중 첫째 자리는 성별을 나타내는데, 1,3은 남자 2,4는 여자를 의미한다. 사용자로부터 13자리의 주민등록번호를 입력 받은 후 성별(남자, 여자)를 출력하는 프로그램을 작성하라."
      ],
      "metadata": {
        "id": "80G5W71fskgP"
      }
    },
    {
      "cell_type": "code",
      "source": [
        "number=input(\"주민등록번호 입력하세요:\")\n",
        "num=number.split(\"-\")[1][0]\n",
        "print(num)\n",
        "if num in [\"1\",'3']:\n",
        "  sex=\"남자\"\n",
        "elif num in [\"2\",'4']:\n",
        "  sex=\"여자\"\n",
        "else:\n",
        "  print(\"오류\")\n",
        "print(f\"당신의 성별은 {sex}입니다.\")"
      ],
      "metadata": {
        "id": "osvewyblskif"
      },
      "execution_count": null,
      "outputs": []
    },
    {
      "cell_type": "markdown",
      "source": [
        "##128. 출생지 판별\n",
        "\n",
        "주민등록번호의 뒷 자리 7자리 중 두번째와 세번째는 지역코드를 의미한다. 주민 등록번호를 입력 받은 후 출생지가 서울인지 아닌지 판단하는 코드를 작성하라.\n",
        "\n",
        "> |지역코드|출생지|\n",
        "|--|------|\n",
        "|00~08|서울|\n",
        "|09~12|부산|\n"
      ],
      "metadata": {
        "id": "rjHn2eo5skld"
      }
    },
    {
      "cell_type": "code",
      "source": [
        "number=input(\"당신의 주민등록번호를 입력하세요:\")\n",
        "num=number.split(\"-\")[1][1:3]\n",
        "if num in (\"00\",\"01\",'02','03','04','05','06','07','08'):\n",
        "  born=\"서울\"\n",
        "elif num in['09','10','11','12']:\n",
        "  born=\"부산\"\n",
        "print(f\"당신의 출생지는 {born}입니다.\")"
      ],
      "metadata": {
        "id": "ZiMAcNW1sknG"
      },
      "execution_count": null,
      "outputs": []
    },
    {
      "cell_type": "markdown",
      "source": [
        "##129. 주민등록번호 유추하기\n",
        "\n",
        "주민등록번호는 13자리로 구성되는데 마지막 자리수는 주민등록번호의 유효성을 체크하는데 사용된다. 먼저 앞에서부터 12자리의 숫자에 2,3,4,5,6,7,8,9,2,3,4,5 차례로 곱한 뒤 그값을 전부 더한다. 연산 결과 값을 11로 나누면 나머지가 나오는데 11에서 나머지를 뺸 값이 주민등록번호의 마지막 번호가 된다.\n",
        "\n",
        "다음과 같이 사용자로부터 주민등록번호를 입력 받은 후 주민등록번호가 유효한지를 출력하는 프로그램을 작성하라,"
      ],
      "metadata": {
        "id": "lkHqvfYdMj6u"
      }
    },
    {
      "cell_type": "code",
      "source": [
        "number=input(\"주민등록번호:\")\n",
        "num=[]\n",
        "num2=[]\n",
        "number=number.split(\"-\")\n",
        "for i in range(6):\n",
        "  num.append(number[0][i])\n",
        "for k in range(6):\n",
        "  num.append(number[1][k])\n",
        "\n",
        "for j in range(12):\n",
        "  if j<=7:\n",
        "    num2.append(int(num[j])*(2+j))\n",
        "  elif j>7:\n",
        "    num2.append(int(num[j])*(j-6))\n",
        "print(num2)\n",
        "fin=11-sum(num2)%11\n",
        "print(fin)\n",
        "\n",
        "if fin == int(number[1][-1]):\n",
        "  print(\"유효한 주민등록번호입니다.\")\n",
        "else:\n",
        "  print(\"유효하지 않은 주민등록번호입니다.\")"
      ],
      "metadata": {
        "id": "bE6VFSEOMlMm"
      },
      "execution_count": null,
      "outputs": []
    },
    {
      "cell_type": "markdown",
      "source": [
        "교재의 풀이는 단순반복하는 것을 알수있다.\n",
        "![image.png](data:image/png;base64,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)"
      ],
      "metadata": {
        "id": "Ub6T4jdjUq4B"
      }
    },
    {
      "cell_type": "markdown",
      "source": [
        "##130. 비트코인 시장\n",
        "\n",
        "아래코드는 비트코인의 가격 정보를 딕셔너리로 가져오는 코드다.\n",
        "\n",
        "import requests\n",
        "\n",
        "btc = requests.get(\"https://api.bithumb.com/public/ticker/\").json()['data'\n",
        "\n",
        "btc 딕셔너리 안에는 시가, 종가, 최고가, 최저가 등이 저장되어 있다. 최고가와 최저가의 차이를 변동폭으로 정의할 때 시가+변동폭이 최고가 보다 높을 경우 \"상승장\", 그렇지 않을 경우 \"하락장\"문자열을 출력하라."
      ],
      "metadata": {
        "id": "smdgp3ITMkZ9"
      }
    },
    {
      "cell_type": "code",
      "source": [
        "import requests\n",
        "btc = requests.get(\"https://api.bithumb.com/public/ticker/\").json()['data']\n",
        "print(btc)\n",
        "chan=float(btc['max_price'])-float(btc['min_price'])\n",
        "graph=float(btc['opening_price'])+chan\n",
        "if graph > float(btc['max_price']):\n",
        "  c=\"상승장\"\n",
        "else:\n",
        "  c=\"하락장\"\n",
        "print(f\"현재 주식은 {c}이다.\")"
      ],
      "metadata": {
        "id": "qdvsoiwCP1OP"
      },
      "execution_count": null,
      "outputs": []
    },
    {
      "cell_type": "markdown",
      "source": [
        "#09.파이썬 반복문"
      ],
      "metadata": {
        "id": "rtBPpI06JwFZ"
      }
    },
    {
      "cell_type": "markdown",
      "source": [
        "##131. for문\n",
        "\n",
        "for문의  실행결과를 예측하라.\n",
        "\n",
        "예측:사과 귤 수박이 차례대로 한줄씩 나온다."
      ],
      "metadata": {
        "id": "ploYC2wXXozy"
      }
    },
    {
      "cell_type": "code",
      "source": [
        "fruit=['사과','귤','수박']\n",
        "for i in fruit:\n",
        "  print(i)"
      ],
      "metadata": {
        "id": "wSYj8ALGXvxy"
      },
      "execution_count": null,
      "outputs": []
    },
    {
      "cell_type": "markdown",
      "source": [
        "##132. for문\n",
        "\n",
        "for문의 실행결과를 예측하라.\n",
        "\n",
        "예측: fruit의 데이터 개수는 3개이므로 문자열이 3번 반복한다."
      ],
      "metadata": {
        "id": "8eqeOvOsXv_b"
      }
    },
    {
      "cell_type": "code",
      "source": [
        "fruit=['사과','귤','수박']\n",
        "for i in fruit:\n",
        "  print(\"#####\")"
      ],
      "metadata": {
        "id": "Cpd1yPOqXwJy"
      },
      "execution_count": null,
      "outputs": []
    },
    {
      "cell_type": "markdown",
      "source": [
        "##133. for문\n",
        "\n",
        "다음 for문과 동일한 기능을 수행하는 코드를 작성하세요."
      ],
      "metadata": {
        "id": "ODWfCND_XwRB"
      }
    },
    {
      "cell_type": "code",
      "source": [
        "for var in ['A','B','C']:\n",
        "  print(var)"
      ],
      "metadata": {
        "id": "vX_0hum0XwUe"
      },
      "execution_count": null,
      "outputs": []
    },
    {
      "cell_type": "code",
      "source": [
        "var='A'\n",
        "print(var)\n",
        "var='B'\n",
        "print(var)\n",
        "var='C'\n",
        "print(var)"
      ],
      "metadata": {
        "id": "yyjpSgBHs_VO"
      },
      "execution_count": null,
      "outputs": []
    },
    {
      "cell_type": "markdown",
      "source": [
        "##134. for문\n",
        "\n",
        "for문을 풀어서 동일한 동작을 하는 코드를 작성하라."
      ],
      "metadata": {
        "id": "8Q86uEjWXwYg"
      }
    },
    {
      "cell_type": "code",
      "source": [
        "for var in ['A','B','C']:\n",
        "  print(\"출력\",var)"
      ],
      "metadata": {
        "id": "ByKwTn1NXwcA"
      },
      "execution_count": null,
      "outputs": []
    },
    {
      "cell_type": "code",
      "source": [
        "print('출력','A')\n",
        "print('출력','B')\n",
        "print('출력','C')"
      ],
      "metadata": {
        "id": "sAo50uKktB3D"
      },
      "execution_count": null,
      "outputs": []
    },
    {
      "cell_type": "markdown",
      "source": [
        "##135. for문\n",
        "\n",
        "for문을 풀어서 동일한 동작을 하는 코드를 작성하라."
      ],
      "metadata": {
        "id": "ZbBervUQXwfA"
      }
    },
    {
      "cell_type": "code",
      "source": [
        "for var in ['A','B','C']:\n",
        "  low=var.lower()\n",
        "  print(low)"
      ],
      "metadata": {
        "id": "co6JP62RXwiJ"
      },
      "execution_count": null,
      "outputs": []
    },
    {
      "cell_type": "code",
      "source": [
        "print('A'.lower())\n",
        "print('B'.lower())\n",
        "print('C'.lower())"
      ],
      "metadata": {
        "id": "HSWj18B9tEIh"
      },
      "execution_count": null,
      "outputs": []
    },
    {
      "cell_type": "markdown",
      "source": [
        "##136. for문\n",
        "\n",
        "다음 코드를 for문으로 작성하라."
      ],
      "metadata": {
        "id": "FvdxGx7MXwlf"
      }
    },
    {
      "cell_type": "code",
      "source": [
        "var=10\n",
        "print(var)\n",
        "var=20\n",
        "print(var)\n",
        "var=30\n",
        "print(var)"
      ],
      "metadata": {
        "id": "ZOoR-E-dXwpL"
      },
      "execution_count": null,
      "outputs": []
    },
    {
      "cell_type": "code",
      "source": [
        "for var in [10,20,30]:\n",
        "  print(var)"
      ],
      "metadata": {
        "id": "b3YsWAQBtHsi"
      },
      "execution_count": null,
      "outputs": []
    },
    {
      "cell_type": "markdown",
      "source": [
        "##137. for문\n",
        "\n",
        "다음 코드를 for문으로 작성하라."
      ],
      "metadata": {
        "id": "LOK4tDnZXwrk"
      }
    },
    {
      "cell_type": "code",
      "source": [
        "print(10)\n",
        "print(20)\n",
        "print(30)"
      ],
      "metadata": {
        "id": "kSU94HpAXwwe"
      },
      "execution_count": null,
      "outputs": []
    },
    {
      "cell_type": "code",
      "source": [
        "for i in range(1,4):\n",
        "  print(10*i)"
      ],
      "metadata": {
        "id": "hoIG3Xt5tK_a"
      },
      "execution_count": null,
      "outputs": []
    },
    {
      "cell_type": "markdown",
      "source": [
        "##138. for문\n",
        "\n",
        "다음 코드를 for문으로 작성하라."
      ],
      "metadata": {
        "id": "aiVefUBiXwy9"
      }
    },
    {
      "cell_type": "code",
      "source": [
        "print(10)\n",
        "print(\"------\")\n",
        "print(20)\n",
        "print(\"------\")\n",
        "print(30)\n",
        "print(\"------\")"
      ],
      "metadata": {
        "id": "xCJrfYx-Mk7V"
      },
      "execution_count": null,
      "outputs": []
    },
    {
      "cell_type": "code",
      "source": [
        "for var in [10,20,30]:\n",
        "  print(var)\n",
        "  print(\"------\")"
      ],
      "metadata": {
        "id": "qDmX3Gt6tNiB"
      },
      "execution_count": null,
      "outputs": []
    },
    {
      "cell_type": "markdown",
      "source": [
        "##139. for문\n",
        "\n",
        "다음 코드를 for문으로 작성하라."
      ],
      "metadata": {
        "id": "xit27u3jXp1Z"
      }
    },
    {
      "cell_type": "code",
      "source": [
        "print(\"++++\")\n",
        "print(10)\n",
        "print(20)\n",
        "print(30)"
      ],
      "metadata": {
        "id": "aW-ez5Dts6_b"
      },
      "execution_count": null,
      "outputs": []
    },
    {
      "cell_type": "code",
      "source": [
        "print(\"++++\")\n",
        "for var in [10,20,30]:\n",
        "  print(var)"
      ],
      "metadata": {
        "id": "xeiNtotNXp4G"
      },
      "execution_count": null,
      "outputs": []
    },
    {
      "cell_type": "markdown",
      "source": [
        "##140. for문\n",
        "\n",
        "다음 코드를 for문으로 작성하라."
      ],
      "metadata": {
        "id": "K8l0zzH4Xp6W"
      }
    },
    {
      "cell_type": "code",
      "source": [
        "print(\"------\")\n",
        "print(\"------\")\n",
        "print(\"------\")\n",
        "print(\"------\")\n",
        "print(\"------\")"
      ],
      "metadata": {
        "id": "fflUz2Jcthux"
      },
      "execution_count": null,
      "outputs": []
    },
    {
      "cell_type": "code",
      "source": [
        "for var in range(5):\n",
        "  print(\"------\")"
      ],
      "metadata": {
        "id": "mui8SPa2Xp9q"
      },
      "execution_count": null,
      "outputs": []
    },
    {
      "cell_type": "markdown",
      "source": [
        "##141. for문\n",
        "\n",
        "다음과 같이 판매가가 저장된 리스트가 있을 때 부가세가 포함된 가격을 for문을 사용해서 화면에 출력하라. 단 부가세는 10원으로 가정한다."
      ],
      "metadata": {
        "id": "3P7xPzEcXp_6"
      }
    },
    {
      "cell_type": "code",
      "source": [
        "list=[100,200,300]\n",
        "for var in list:\n",
        "  print(var+10)"
      ],
      "metadata": {
        "id": "wmdHxfr-yAWH"
      },
      "execution_count": null,
      "outputs": []
    },
    {
      "cell_type": "markdown",
      "source": [
        "##142. for문\n",
        "\n",
        "for문을 사용해서 리스트에 저장된 값을 다음과 같이 출력하라."
      ],
      "metadata": {
        "id": "PJ7WfCdgXqFE"
      }
    },
    {
      "cell_type": "code",
      "source": [
        "list=['김밥','라면','튀김']\n",
        "for var in list:\n",
        "  print(\"오늘의 메뉴:\",var)"
      ],
      "metadata": {
        "id": "vk5DyBtsXqH5"
      },
      "execution_count": null,
      "outputs": []
    },
    {
      "cell_type": "markdown",
      "source": [
        "##143. for문\n",
        "\n",
        "리스트에 주식종목이름이 저장돼있다. 저장된 문자열의 길이를 다음과 같이 출력하라."
      ],
      "metadata": {
        "id": "agbKAehoXqKV"
      }
    },
    {
      "cell_type": "code",
      "source": [
        "list=['sk하이닉스','삼성전자','LG전자']\n",
        "for var in list:\n",
        "  print(len(var))"
      ],
      "metadata": {
        "id": "jHmr9L77XqNG"
      },
      "execution_count": null,
      "outputs": []
    },
    {
      "cell_type": "markdown",
      "source": [
        "#144. for문\n",
        "\n",
        "리스트에는 동물이름이 문자열로 저장돼 있다.\n",
        "\n",
        "동물이름과 글자수를 같이 출력하라."
      ],
      "metadata": {
        "id": "D-Baav8VXqPL"
      }
    },
    {
      "cell_type": "code",
      "source": [
        "list=['dog','cat','parrot']\n",
        "for var in list:\n",
        "  print(var,len(var))"
      ],
      "metadata": {
        "id": "npBZpMujXqSE"
      },
      "execution_count": null,
      "outputs": []
    },
    {
      "cell_type": "markdown",
      "source": [
        "##145. for문\n",
        "\n",
        "for문을 사용해서 동물 이름의 첫 글자만 출력하라."
      ],
      "metadata": {
        "id": "pKLcj7CsXqUI"
      }
    },
    {
      "cell_type": "code",
      "source": [
        "list=['dog','cat','parrot']\n",
        "for var in list:\n",
        "  print(var[0])"
      ],
      "metadata": {
        "id": "vrobLvL4XqW2"
      },
      "execution_count": null,
      "outputs": []
    },
    {
      "cell_type": "markdown",
      "source": [
        "##146. 구구단1\n",
        "\n",
        "for문을 사용해서 3단을 출력하라."
      ],
      "metadata": {
        "id": "Wm17BiT3XqZB"
      }
    },
    {
      "cell_type": "code",
      "source": [
        "for var in range(1,10):\n",
        "  print(\"3 X\",var)"
      ],
      "metadata": {
        "id": "mrQP0WlRXqb-"
      },
      "execution_count": null,
      "outputs": []
    },
    {
      "cell_type": "markdown",
      "source": [
        "##147. for문\n",
        "\n",
        "for문을 사용해서 3단 답까지 출력하라."
      ],
      "metadata": {
        "id": "KbluLFbtXqeO"
      }
    },
    {
      "cell_type": "code",
      "source": [
        "for var in range(1,10):\n",
        "  print(\"3 X\",var,\"=\",3*var)"
      ],
      "metadata": {
        "id": "4TB8zW-zXqhN"
      },
      "execution_count": null,
      "outputs": []
    },
    {
      "cell_type": "markdown",
      "source": [
        "##148. for문\n",
        "\n",
        "4개의 값이 바인딩된 리스트에서 첫번째 요소만 빼고 출력해라."
      ],
      "metadata": {
        "id": "Q4sQJjfBXqjf"
      }
    },
    {
      "cell_type": "code",
      "source": [
        "list=['가','나','다','라']\n",
        "for i in list[1:]:\n",
        "  print(i)"
      ],
      "metadata": {
        "id": "f_42hhM9Xqmr"
      },
      "execution_count": null,
      "outputs": []
    },
    {
      "cell_type": "markdown",
      "source": [
        "##149. for문\n",
        "\n",
        "for문을 사용해서 가와 다만 출력해라."
      ],
      "metadata": {
        "id": "k_-xCkkiXsTR"
      }
    },
    {
      "cell_type": "code",
      "source": [
        "list=['가','나','다','라']\n",
        "for i in list[::2]:\n",
        "  print(i)"
      ],
      "metadata": {
        "id": "fubCtDNOXsW7"
      },
      "execution_count": null,
      "outputs": []
    },
    {
      "cell_type": "markdown",
      "source": [
        "##150. for문\n",
        "\n",
        "for문을 사용해서 라다나가순서로 출력해라."
      ],
      "metadata": {
        "id": "F9YS8QLnXsY-"
      }
    },
    {
      "cell_type": "code",
      "source": [
        "list=['가','나','다','라']\n",
        "for i in list[::-1]:\n",
        "  print(i)"
      ],
      "metadata": {
        "id": "fMFHMDppXscA"
      },
      "execution_count": null,
      "outputs": []
    },
    {
      "cell_type": "markdown",
      "source": [
        "##151. for문\n",
        "\n",
        "리스트에서 음수만 출력해라."
      ],
      "metadata": {
        "id": "N79rHNTMXseS"
      }
    },
    {
      "cell_type": "code",
      "source": [
        "list=[3,-20,-3,44]\n",
        "for var in list:\n",
        "  if var<0:\n",
        "    print(var)\n"
      ],
      "metadata": {
        "id": "Y6feelv8XshJ"
      },
      "execution_count": null,
      "outputs": []
    },
    {
      "cell_type": "markdown",
      "source": [
        "##152. 3의배수\n",
        "\n",
        "for문을 사용해서 3의 배수만을 출력하라."
      ],
      "metadata": {
        "id": "ObV0IDucXsjb"
      }
    },
    {
      "cell_type": "code",
      "source": [
        "list=[3,100,23,44,27]\n",
        "for var in list:\n",
        "  if var%3==0:\n",
        "    print(var)"
      ],
      "metadata": {
        "id": "IRQlydtPXsmG"
      },
      "execution_count": null,
      "outputs": []
    },
    {
      "cell_type": "markdown",
      "source": [
        "##153. 20보다 작은 3의 배수\n",
        "\n",
        "리스트에서 20보다 작은 3의 배수를 출력하라."
      ],
      "metadata": {
        "id": "ndv9bNMUXsoM"
      }
    },
    {
      "cell_type": "code",
      "source": [
        "list=[3,100,23,44,27]\n",
        "for var in list:\n",
        "  if var<20 and var%3==0:\n",
        "    print(var)"
      ],
      "metadata": {
        "id": "sS8Sl3MFXsrP"
      },
      "execution_count": null,
      "outputs": []
    },
    {
      "cell_type": "markdown",
      "source": [
        "##154. 세글자 이상\n",
        "\n",
        "리스트에서 세 글자 이상의 문자를 화면에 출력하라"
      ],
      "metadata": {
        "id": "B9LhpjMxXstb"
      }
    },
    {
      "cell_type": "code",
      "source": [
        "list=['I','study','python','language','!']\n",
        "for var in list:\n",
        "  if len(var)>=3:\n",
        "    print(var)"
      ],
      "metadata": {
        "id": "Axcro3zGXswV"
      },
      "execution_count": null,
      "outputs": []
    },
    {
      "cell_type": "markdown",
      "source": [
        "##155. 대문자 출력\n",
        "\n",
        "리스트에서 대문자만 화면에 출력하라. (대문자 판별:isupper)"
      ],
      "metadata": {
        "id": "yQHDZXBnXsyt"
      }
    },
    {
      "cell_type": "code",
      "source": [
        "list=['A','b','c','D']\n",
        "for var in list:\n",
        "  if var.isupper():\n",
        "    print(var)"
      ],
      "metadata": {
        "id": "pejhuiSVXs1f"
      },
      "execution_count": null,
      "outputs": []
    },
    {
      "cell_type": "markdown",
      "source": [
        "##156. 소문자 출력\n",
        "\n",
        "리스트에서 소문자만 화면에 출력해라. (소문자 판별:islower)"
      ],
      "metadata": {
        "id": "tVJKLte1Xs3l"
      }
    },
    {
      "cell_type": "code",
      "source": [
        "list=['A','b','c','D']\n",
        "for var in list:\n",
        "  if var.islower():\n",
        "    print(var)"
      ],
      "metadata": {
        "id": "uuQDDrcZXs6w"
      },
      "execution_count": null,
      "outputs": []
    },
    {
      "cell_type": "markdown",
      "source": [
        "##157. 대문자변경\n",
        "\n",
        "이름의 첫 글자를 대문자로 변경해서 출력하라."
      ],
      "metadata": {
        "id": "2VthDc-FXs8-"
      }
    },
    {
      "cell_type": "code",
      "source": [
        "list=['dog','cat','parrot']\n",
        "for var in list:\n",
        "  print(var.capitalize())"
      ],
      "metadata": {
        "id": "xew9TjFjXs_x"
      },
      "execution_count": null,
      "outputs": []
    },
    {
      "cell_type": "markdown",
      "source": [
        "##158. 확장자 제거\n",
        "\n",
        "파일 이름이 저장된 리스트에서 확장자를 제거하고 파일 이름만 화면에 출력하라.\n"
      ],
      "metadata": {
        "id": "XCZfgdzjXtCZ"
      }
    },
    {
      "cell_type": "code",
      "source": [
        "list=['hello.py','ex01.py','intro.hwp']\n",
        "for var in list:\n",
        "  var=var.split(\".\")[0]\n",
        "  print(var)"
      ],
      "metadata": {
        "id": "BkpSUg3UXtFl"
      },
      "execution_count": null,
      "outputs": []
    },
    {
      "cell_type": "markdown",
      "source": [
        "##159. 파일 추출\n",
        "\n",
        "파일 이름이 저장된 리스트에서 확장자가 .h인 파일 이름을 출력하라."
      ],
      "metadata": {
        "id": "NeFt_OW1XtHj"
      }
    },
    {
      "cell_type": "code",
      "source": [
        "list=['hello.py','ex01.py','intro.h']\n",
        "for var in list:\n",
        "  if var.split(\".\")[1]==\"h\":\n",
        "    print(var) "
      ],
      "metadata": {
        "id": "DkX7M1KqXtKW"
      },
      "execution_count": null,
      "outputs": []
    },
    {
      "cell_type": "markdown",
      "source": [
        "##160. 파일 추출\n",
        "\n",
        "파일 이름이 저장된 리스트에서 확장자가 .h나 .c인 파일을 화면에 출력하라."
      ],
      "metadata": {
        "id": "ImIfxBZeXtMp"
      }
    },
    {
      "cell_type": "code",
      "source": [
        "list=['hello.c','ex01.py','intro.h',\"print.c\"]\n",
        "for var in list:\n",
        "  var1=var.split(\".\")[1]\n",
        "  if var1==\"h\" or var1==\"c\":\n",
        "    print(var) "
      ],
      "metadata": {
        "id": "HhImueZ6XtPt"
      },
      "execution_count": null,
      "outputs": []
    },
    {
      "cell_type": "markdown",
      "source": [
        "##161. range\n",
        "\n",
        "for문과 range 구문을 사용해서 0~99까지 한 라인에 하나씩 순차적으로 출력하는 프로그램을 작성하라."
      ],
      "metadata": {
        "id": "v2rQsSPtXtXN"
      }
    },
    {
      "cell_type": "code",
      "source": [
        "for var in range(100):\n",
        "  print(var)"
      ],
      "metadata": {
        "id": "jlCoWx01XtaJ"
      },
      "execution_count": null,
      "outputs": []
    },
    {
      "cell_type": "markdown",
      "source": [
        "##162. for-range\n",
        "\n",
        "월드컵은 4년에 한번 개최된다. range()를 사용하여 2002~2050년까지 중 월드컵이 개최되는 연도를 출력하라."
      ],
      "metadata": {
        "id": "fwnQahBfXtR7"
      }
    },
    {
      "cell_type": "code",
      "source": [
        "for var in range(2002,2051,4):\n",
        "  print(var)"
      ],
      "metadata": {
        "id": "kQl4CWHNXtU7"
      },
      "execution_count": null,
      "outputs": []
    },
    {
      "cell_type": "markdown",
      "source": [
        "##163. 3의 배수\n",
        "\n",
        "1부터 30까지의 숫자 중 3의 배수를 출력하라. "
      ],
      "metadata": {
        "id": "LBR8MtOdXtcd"
      }
    },
    {
      "cell_type": "code",
      "source": [
        "for i in range(3,31,3):\n",
        "  print(i)"
      ],
      "metadata": {
        "id": "VOue8zhFXtfe"
      },
      "execution_count": null,
      "outputs": []
    },
    {
      "cell_type": "markdown",
      "source": [
        "##164. 숫자 감소\n",
        "\n",
        "99부터 0까지 1씩 감소하는 숫자들을, 한 라인에 하나씩 출력하라."
      ],
      "metadata": {
        "id": "aiMZo9L6XtiL"
      }
    },
    {
      "cell_type": "code",
      "source": [
        "for i in range(99,-1,-1):\n",
        "  print(i)"
      ],
      "metadata": {
        "id": "HFPOwg9iXtle"
      },
      "execution_count": null,
      "outputs": []
    },
    {
      "cell_type": "markdown",
      "source": [
        "##165. 소수\n",
        "for문을 사용해서 아래와 같이 출력하라.\n",
        "0.0\n",
        "0.1\n",
        "0.2\n",
        "0.3\n",
        "0.4\n",
        "0.5\n",
        "...\n",
        "0.9"
      ],
      "metadata": {
        "id": "rfDbbNaxvDp3"
      }
    },
    {
      "cell_type": "code",
      "source": [
        "for i in range(10):\n",
        "  print(i/10)"
      ],
      "metadata": {
        "id": "j8d-nJKHvE5e"
      },
      "execution_count": null,
      "outputs": []
    },
    {
      "cell_type": "markdown",
      "source": [
        "##166. 구구단3단\n",
        "\n",
        "구구단 3단을 출력하라."
      ],
      "metadata": {
        "id": "jJ9T855yvDtX"
      }
    },
    {
      "cell_type": "code",
      "source": [
        "for x in range(1,10):\n",
        "  print(f\"3x{x} = {3*x}\")"
      ],
      "metadata": {
        "id": "ysyNstf2vDux"
      },
      "execution_count": null,
      "outputs": []
    },
    {
      "cell_type": "markdown",
      "source": [
        "##167. 3단, 홀수번째\n",
        "\n",
        "구구단 3단을 출력하라. 단 홀수 번째만 출력한다."
      ],
      "metadata": {
        "id": "C7Ecz46TvDwq"
      }
    },
    {
      "cell_type": "code",
      "source": [
        "for x in range(1,10):\n",
        "  if x%2==1:\n",
        "    print(f\"3x{x} = {3*x}\")"
      ],
      "metadata": {
        "id": "erTG-107vDyu"
      },
      "execution_count": null,
      "outputs": []
    },
    {
      "cell_type": "markdown",
      "source": [
        "##168. sigma\n",
        "\n",
        "1~10까지의 숫자에 대해 모두 더한 값을 출력하는 프로그램을 for문을 사용하여 작성하라."
      ],
      "metadata": {
        "id": "KuEIXqT9vD1o"
      }
    },
    {
      "cell_type": "code",
      "source": [
        "y=0\n",
        "for x in range(1,11):\n",
        "  y+=x\n",
        "print(y)"
      ],
      "metadata": {
        "id": "aERyDqqkvD4I"
      },
      "execution_count": null,
      "outputs": []
    },
    {
      "cell_type": "markdown",
      "source": [
        "##169. 홀수합\n",
        "\n",
        "1~10까지의 숫자중 모든 홀수의 합을 출력하는 프로그램을 for문을 사용하여 작성하라."
      ],
      "metadata": {
        "id": "yxrGwDuLvD6w"
      }
    },
    {
      "cell_type": "code",
      "source": [
        "y=0\n",
        "for x in range(1,11,2):\n",
        "  y+=x\n",
        "print(y)"
      ],
      "metadata": {
        "id": "ex7QXxI3vD9t"
      },
      "execution_count": null,
      "outputs": []
    },
    {
      "cell_type": "markdown",
      "source": [
        "##170. 숫자곱\n",
        "\n",
        "1~10까지의 숫자를 모두 곱한 값을 출력하는 프로그램을 for문을 사용하여 작성하라."
      ],
      "metadata": {
        "id": "sRN8FM7VvEBc"
      }
    },
    {
      "cell_type": "code",
      "source": [
        "y=1\n",
        "for x in range(1,11):\n",
        "  y*=x\n",
        "print(y)"
      ],
      "metadata": {
        "id": "Q7djULcxvED_"
      },
      "execution_count": null,
      "outputs": []
    },
    {
      "cell_type": "markdown",
      "source": [
        "##171. 가격 리스트\n",
        "\n",
        "아래와 같이 리스트의 데이터를 출력하라. 단 for문과 range문을 사용하라."
      ],
      "metadata": {
        "id": "iq2aJ2IPvEI2"
      }
    },
    {
      "cell_type": "code",
      "source": [
        "price_list=[32100,32150,32000,32500]\n",
        "for var in range(len(price_list)):\n",
        "  print(price_list[var])"
      ],
      "metadata": {
        "id": "WB4Rv0CDvEKQ"
      },
      "execution_count": null,
      "outputs": []
    },
    {
      "cell_type": "markdown",
      "source": [
        "##172.  리스트 데이터\n",
        "\n",
        "아래와 같이 리스트의 데이터를 출력하라. 단 for문과 range문을 사용하라,\n",
        "\n",
        "0 32100\n",
        "\n",
        "1 32150\n",
        "\n",
        "2 32000\n",
        "\n",
        "3 32500"
      ],
      "metadata": {
        "id": "IPFeMf33vEMV"
      }
    },
    {
      "cell_type": "code",
      "source": [
        "price_list=[32100,32150,32000,32500]\n",
        "for var in range(len(price_list)):\n",
        "  print(var, price_list[var])"
      ],
      "metadata": {
        "id": "iYt7Dx1OvEPI"
      },
      "execution_count": null,
      "outputs": []
    },
    {
      "cell_type": "markdown",
      "source": [
        "##173. 리스트 데이터\n",
        "\n",
        "아래와 같이 리스트의 데이터를 출력하라. 단 for문과 range문을 사용하라.\n",
        "\n",
        "3 32100\n",
        "\n",
        "2 32150\n",
        "\n",
        "1 32000\n",
        "\n",
        "0 32500"
      ],
      "metadata": {
        "id": "v5F8RpqvvERa"
      }
    },
    {
      "cell_type": "code",
      "source": [
        "price_list=[32100,32150,32000,32500]\n",
        "len=len(price_list)\n",
        "for var in range(len):\n",
        "  print(len-var-1, price_list[var])"
      ],
      "metadata": {
        "colab": {
          "base_uri": "https://localhost:8080/"
        },
        "id": "NnLF84oRvESv",
        "outputId": "e0a2163b-7b98-4d27-fd2f-a63f77fd8f25"
      },
      "execution_count": 113,
      "outputs": [
        {
          "output_type": "stream",
          "name": "stdout",
          "text": [
            "3 32100\n",
            "2 32150\n",
            "1 32000\n",
            "0 32500\n"
          ]
        }
      ]
    },
    {
      "cell_type": "markdown",
      "source": [
        "##174. 리스트 데이터\n",
        "\n",
        "아래와 같이 리스트의 데이터를 출력하라.\n",
        "\n",
        "100 32150\n",
        "\n",
        "110 32000\n",
        "\n",
        "120 32500\n"
      ],
      "metadata": {
        "id": "nB_JXaqdvEVj"
      }
    },
    {
      "cell_type": "code",
      "source": [
        "price_list=[32100,32150,32000,32500]\n",
        "for var in range(1,len(price_list)):\n",
        "  print(90+var*10, price_list[var])"
      ],
      "metadata": {
        "colab": {
          "base_uri": "https://localhost:8080/"
        },
        "id": "zz8PlHcHvEW-",
        "outputId": "451b233e-6ed6-4bb2-96ec-8c9991daf1b4"
      },
      "execution_count": 3,
      "outputs": [
        {
          "output_type": "stream",
          "name": "stdout",
          "text": [
            "100 32150\n",
            "110 32000\n",
            "120 32500\n"
          ]
        }
      ]
    },
    {
      "cell_type": "markdown",
      "source": [
        "##175. 리스트 데이터\n",
        "\n",
        "my_list를 아래와 같이 출력하라.\n",
        "\n",
        "가 나\n",
        "\n",
        "나 다\n",
        "\n",
        "다 라"
      ],
      "metadata": {
        "id": "e42BXG8ivEa-"
      }
    },
    {
      "cell_type": "code",
      "source": [
        "my_list=['가','나','다','라']\n",
        "for var in range(len(my_list)-1):\n",
        "  print(my_list[var], my_list[var+1])"
      ],
      "metadata": {
        "colab": {
          "base_uri": "https://localhost:8080/"
        },
        "id": "lRdL6X4bvEcl",
        "outputId": "e67df00e-fa2a-4346-8156-1fd05850fcfa"
      },
      "execution_count": 6,
      "outputs": [
        {
          "output_type": "stream",
          "name": "stdout",
          "text": [
            "가 나\n",
            "나 다\n",
            "다 라\n"
          ]
        }
      ]
    },
    {
      "cell_type": "markdown",
      "source": [
        "##176. 리스트 데이터\n",
        "\n",
        "리스트를 아래와 같이 출력하라.\n",
        "\n",
        "가 나 다\n",
        "\n",
        "나 다 라\n",
        "\n",
        "다 라 마"
      ],
      "metadata": {
        "id": "mpfJIgne8oDD"
      }
    },
    {
      "cell_type": "code",
      "source": [
        "my_list=['가','나','다','라','마']\n",
        "for var in range(len(my_list)-2):\n",
        "  print(my_list[var], my_list[var+1],my_list[var+2])"
      ],
      "metadata": {
        "colab": {
          "base_uri": "https://localhost:8080/"
        },
        "id": "8GHWm1YW8oGp",
        "outputId": "9b488418-8931-4128-f72e-aea07bc7ecf6"
      },
      "execution_count": 7,
      "outputs": [
        {
          "output_type": "stream",
          "name": "stdout",
          "text": [
            "가 나 다\n",
            "나 다 라\n",
            "다 라 마\n"
          ]
        }
      ]
    },
    {
      "cell_type": "markdown",
      "source": [
        "##177. 리스트 데이터\n",
        "\n",
        "리스트를 아래와 같이 출력하라.\n",
        "\n",
        "라 다\n",
        "\n",
        "다 나\n",
        "\n",
        "나 가"
      ],
      "metadata": {
        "id": "ow9cnpwJ8oKR"
      }
    },
    {
      "cell_type": "code",
      "source": [
        "my_list2=['가','나','다','라']\n",
        "ln1=len(my_list2)\n",
        "for var in range(1,ln1):\n",
        "  print(my_list2[-var], my_list2[-var-1])"
      ],
      "metadata": {
        "colab": {
          "base_uri": "https://localhost:8080/"
        },
        "id": "hym64qdf8oNK",
        "outputId": "a01b15cd-4c1f-4b3b-e2df-585b3723d51c"
      },
      "execution_count": 19,
      "outputs": [
        {
          "output_type": "stream",
          "name": "stdout",
          "text": [
            "라 다\n",
            "다 나\n",
            "나 가\n"
          ]
        }
      ]
    },
    {
      "cell_type": "markdown",
      "source": [
        "##178. 차분 값\n",
        "\n",
        "리스트에는 네개의 정수가 저장되어 있다. 각각의 데이터에 대해서 자신과 우측값과의 차분값을 화면에 출력하라."
      ],
      "metadata": {
        "id": "vzBhhcTU8oP0"
      }
    },
    {
      "cell_type": "code",
      "source": [
        "list=[100,200,400,800]\n",
        "for var in range(len(list)-1):\n",
        "  print(list[var+1]-list[var])"
      ],
      "metadata": {
        "colab": {
          "base_uri": "https://localhost:8080/"
        },
        "id": "ZiOGQyLo8oSc",
        "outputId": "c1e9498d-1ca9-4674-c3ec-f98fb2f1bfb0"
      },
      "execution_count": 31,
      "outputs": [
        {
          "output_type": "stream",
          "name": "stdout",
          "text": [
            "100\n",
            "200\n",
            "400\n"
          ]
        }
      ]
    },
    {
      "cell_type": "markdown",
      "source": [
        "##179. 평균\n",
        "\n",
        "리스트에는 6일간의 종가 데이터가 저장되어 있다. 종가 데이터의 3일 이동 평균을 계산하고 이를 화면에 출력하라."
      ],
      "metadata": {
        "id": "oDW8-8CC8oVU"
      }
    },
    {
      "cell_type": "code",
      "source": [
        "list=[100,200,400,800,1000,1300]\n",
        "for var in range(len(list)-2):\n",
        "  sum=list[var]+list[var+1]+list[var+2]\n",
        "  avr=sum/3\n",
        "  print(avr)"
      ],
      "metadata": {
        "colab": {
          "base_uri": "https://localhost:8080/"
        },
        "id": "NS5NepN18oX_",
        "outputId": "483c96f9-30ed-45d4-ecb0-d202de75bcf4"
      },
      "execution_count": 1,
      "outputs": [
        {
          "output_type": "stream",
          "name": "stdout",
          "text": [
            "233.33333333333334\n",
            "466.6666666666667\n",
            "733.3333333333334\n",
            "1033.3333333333333\n"
          ]
        }
      ]
    },
    {
      "cell_type": "markdown",
      "source": [
        "##180. 변동폭\n",
        "\n",
        "리스트에 5일간의 저가, 고가 정보가 저장돼 있다. 고가와 저가의 차를 변동폭이라고 정의할 때, low,high 두개의 리스트를 사용해서 5일간의 변동폭을 volatility 리스트에 저장하라."
      ],
      "metadata": {
        "id": "3C2y0ZJlDFi_"
      }
    },
    {
      "cell_type": "code",
      "source": [
        "low=[100,200,400,800,1000]\n",
        "high=[150,300,430,880,1000]\n",
        "volatility=[]\n",
        "\n",
        "for x in range(5):\n",
        "  y=high[x]-low[x]\n",
        "  volatility.append(y)\n",
        "print(volatility)"
      ],
      "metadata": {
        "colab": {
          "base_uri": "https://localhost:8080/"
        },
        "id": "RTn6_g0uDFlR",
        "outputId": "28e066c5-7780-4c80-9aa4-1874dd1704a4"
      },
      "execution_count": 5,
      "outputs": [
        {
          "output_type": "stream",
          "name": "stdout",
          "text": [
            "[50, 100, 30, 80, 0]\n"
          ]
        }
      ]
    },
    {
      "cell_type": "markdown",
      "source": [
        "# 10.2차원 리스트"
      ],
      "metadata": {
        "id": "2OraFzX3Kn0g"
      }
    },
    {
      "cell_type": "markdown",
      "source": [
        "##181. 이차원 리스트 생성\n",
        "\n",
        "아래표에서 하나의 행을 하나의 리스트로, 총 3개의 리스트를 갖는 이차원 리스트 apt를 정의하라.\n",
        "\n",
        ">||| \n",
        "|---|---------|\n",
        "|101호|102호|\n",
        "|201호|202호|\n",
        "|301호|302호|\n"
      ],
      "metadata": {
        "id": "qGL4ECu6FEtw"
      }
    },
    {
      "cell_type": "code",
      "source": [
        "apt=[[\"101호\",\"102호\"],[\"201호\",\"202호\"],[\"301호\",\"302호\"]]\n",
        "print(apt)"
      ],
      "metadata": {
        "colab": {
          "base_uri": "https://localhost:8080/"
        },
        "id": "taZDblJWFExC",
        "outputId": "33ed75a9-2bce-4e8c-9924-095281034ccc"
      },
      "execution_count": 7,
      "outputs": [
        {
          "output_type": "stream",
          "name": "stdout",
          "text": [
            "[['101호', '102호'], ['201호', '202호'], ['301호', '302호']]\n"
          ]
        }
      ]
    },
    {
      "cell_type": "markdown",
      "source": [
        "##182. 이차원 리스트\n",
        "\n",
        "아래 표에서 하나의 열을 하나의 리스트로, 총 2개의 리스트를 갖는 이차원 리스트 stock을 정의하라.\n",
        "\n",
        ">|시가|종가| \n",
        "|---|--|\n",
        "|100|80|\n",
        "|200|210|\n",
        "|300|330|\n"
      ],
      "metadata": {
        "id": "0f6QiVUJFE0i"
      }
    },
    {
      "cell_type": "code",
      "source": [
        "stock=[[\"시가\",100,200,300],[\"종가\",80,210,330]]\n",
        "print(stock)"
      ],
      "metadata": {
        "colab": {
          "base_uri": "https://localhost:8080/"
        },
        "id": "LiQLGJeOFE3P",
        "outputId": "2f018243-0692-4358-d3ed-babd90b6e390"
      },
      "execution_count": 9,
      "outputs": [
        {
          "output_type": "stream",
          "name": "stdout",
          "text": [
            "[['시가', 100, 200, 300], ['종가', 80, 210, 330]]\n"
          ]
        }
      ]
    },
    {
      "cell_type": "markdown",
      "source": [
        ""
      ],
      "metadata": {
        "id": "BrgNY9JtFE5h"
      }
    },
    {
      "cell_type": "code",
      "source": [
        ""
      ],
      "metadata": {
        "id": "X2j6FO64FE8s"
      },
      "execution_count": null,
      "outputs": []
    },
    {
      "cell_type": "markdown",
      "source": [
        ""
      ],
      "metadata": {
        "id": "f41f18DvFE-9"
      }
    },
    {
      "cell_type": "code",
      "source": [
        ""
      ],
      "metadata": {
        "id": "KLp4U65BFFBV"
      },
      "execution_count": null,
      "outputs": []
    },
    {
      "cell_type": "markdown",
      "source": [
        ""
      ],
      "metadata": {
        "id": "AypSGXEAFFD7"
      }
    },
    {
      "cell_type": "code",
      "source": [
        ""
      ],
      "metadata": {
        "id": "y-tUbLfIFFGG"
      },
      "execution_count": null,
      "outputs": []
    },
    {
      "cell_type": "markdown",
      "source": [
        ""
      ],
      "metadata": {
        "id": "F4lfaZvBFFI_"
      }
    },
    {
      "cell_type": "code",
      "source": [
        ""
      ],
      "metadata": {
        "id": "EsZ1a3FWFFLf"
      },
      "execution_count": null,
      "outputs": []
    },
    {
      "cell_type": "markdown",
      "source": [
        ""
      ],
      "metadata": {
        "id": "c0-Sxa4-FFOv"
      }
    },
    {
      "cell_type": "code",
      "source": [
        ""
      ],
      "metadata": {
        "id": "mqZjxGvmFFQg"
      },
      "execution_count": null,
      "outputs": []
    },
    {
      "cell_type": "markdown",
      "source": [
        ""
      ],
      "metadata": {
        "id": "1D3mqprNFFTd"
      }
    },
    {
      "cell_type": "code",
      "source": [
        ""
      ],
      "metadata": {
        "id": "AdGTO7rgFFW4"
      },
      "execution_count": null,
      "outputs": []
    },
    {
      "cell_type": "markdown",
      "source": [
        ""
      ],
      "metadata": {
        "id": "PltPjiDdFFY0"
      }
    },
    {
      "cell_type": "code",
      "source": [
        ""
      ],
      "metadata": {
        "id": "JKeYAcvjFFaw"
      },
      "execution_count": null,
      "outputs": []
    },
    {
      "cell_type": "markdown",
      "source": [
        ""
      ],
      "metadata": {
        "id": "xoBVTn_OFFdh"
      }
    },
    {
      "cell_type": "code",
      "source": [
        ""
      ],
      "metadata": {
        "id": "o1nX0jrDFFfz"
      },
      "execution_count": null,
      "outputs": []
    },
    {
      "cell_type": "markdown",
      "source": [
        ""
      ],
      "metadata": {
        "id": "3_NHMixBFFi_"
      }
    },
    {
      "cell_type": "code",
      "source": [
        ""
      ],
      "metadata": {
        "id": "pHbGs3XoFFmq"
      },
      "execution_count": null,
      "outputs": []
    },
    {
      "cell_type": "markdown",
      "source": [
        ""
      ],
      "metadata": {
        "id": "4Leyhw_EFFrW"
      }
    },
    {
      "cell_type": "code",
      "source": [
        ""
      ],
      "metadata": {
        "id": "flYXMpI1FFvN"
      },
      "execution_count": null,
      "outputs": []
    },
    {
      "cell_type": "markdown",
      "source": [
        "#11.파이썬 모듈"
      ],
      "metadata": {
        "id": "4pJUgzADKoGE"
      }
    },
    {
      "cell_type": "markdown",
      "source": [
        "##241. 현재시간\n",
        "\n",
        "datetime 모듈을 사용해서 현재시간을 출력하라."
      ],
      "metadata": {
        "id": "DzzLVWCvX8J5"
      }
    },
    {
      "cell_type": "code",
      "source": [
        "import datetime\n",
        "now = datetime.datetime.now()\n",
        "print(now)"
      ],
      "metadata": {
        "id": "p0kxumDVX8S6"
      },
      "execution_count": null,
      "outputs": []
    },
    {
      "cell_type": "markdown",
      "source": [
        "##242. 현재시간의 타입\n",
        "\n",
        "datetime 모듈의 now 함수의 리턴값의 타입을 화면에 출력해보세요."
      ],
      "metadata": {
        "id": "ecj2C_82X8YL"
      }
    },
    {
      "cell_type": "code",
      "source": [
        "import datetime\n",
        "now = datetime.datetime.now()\n",
        "print(now)\n",
        "print(type(now))"
      ],
      "metadata": {
        "id": "BZ1DjO6WX8dW"
      },
      "execution_count": null,
      "outputs": []
    },
    {
      "cell_type": "markdown",
      "source": [
        "##243. timedelta\n",
        "\n",
        "datetime모듈의 timedelta를 사용해서 오늘로부터 5일,4일,3일,2일,1일 전의 날짜를 화면에 출력해보세요."
      ],
      "metadata": {
        "id": "Z1P64G9fX8g8"
      }
    },
    {
      "cell_type": "code",
      "source": [
        "import datetime\n",
        "now=datetime.datetime.now()\n",
        "for day in range(5,0,-1):\n",
        "  delta =datetime.timedelta(days=day)\n",
        "  print(delta)\n",
        "  date=now-delta\n",
        "  print(date)"
      ],
      "metadata": {
        "id": "EDIqABrGX8kJ"
      },
      "execution_count": null,
      "outputs": []
    },
    {
      "cell_type": "markdown",
      "source": [
        ""
      ],
      "metadata": {
        "id": "vKChAvg8X8pu"
      }
    },
    {
      "cell_type": "code",
      "source": [
        ""
      ],
      "metadata": {
        "id": "_AqNsaobX8tw"
      },
      "execution_count": null,
      "outputs": []
    },
    {
      "cell_type": "markdown",
      "source": [
        "#12.파이썬 클래스"
      ],
      "metadata": {
        "id": "8s3JMN-VKoYY"
      }
    },
    {
      "cell_type": "markdown",
      "source": [
        "#13.파일 입출력과 예외처리"
      ],
      "metadata": {
        "id": "fu6wseAUKoiZ"
      }
    },
    {
      "cell_type": "code",
      "source": [
        ""
      ],
      "metadata": {
        "id": "tRH0bfAV5ADL"
      },
      "execution_count": null,
      "outputs": []
    }
  ]
}